{
  "nbformat": 4,
  "nbformat_minor": 0,
  "metadata": {
    "colab": {
      "name": "Cars_public.ipynb",
      "provenance": [],
      "collapsed_sections": [
        "SsT1VChnwY7H",
        "7ZU7p133hKdX",
        "wdGS7xGqPnLG"
      ],
      "toc_visible": true,
      "include_colab_link": true
    },
    "kernelspec": {
      "display_name": "Python 3",
      "name": "python3"
    }
  },
  "cells": [
    {
      "cell_type": "markdown",
      "metadata": {
        "id": "view-in-github",
        "colab_type": "text"
      },
      "source": [
        "<a href=\"https://colab.research.google.com/github/makhai88/CAR_EMISSION/blob/main/Cars_public.ipynb\" target=\"_parent\"><img src=\"https://colab.research.google.com/assets/colab-badge.svg\" alt=\"Open In Colab\"/></a>"
      ]
    },
    {
      "cell_type": "markdown",
      "metadata": {
        "id": "SsT1VChnwY7H"
      },
      "source": [
        "# Packages"
      ]
    },
    {
      "cell_type": "code",
      "metadata": {
        "id": "7xIxbBp1wdzb"
      },
      "source": [
        "#! pip install --user imblearn"
      ],
      "execution_count": 39,
      "outputs": []
    },
    {
      "cell_type": "code",
      "metadata": {
        "id": "AqUY8xbyPBeS"
      },
      "source": [
        "import pandas as pd\n",
        "import numpy as np\n",
        "##\n",
        "import random\n",
        "##\n",
        "from sklearn.model_selection import train_test_split\n",
        "from sklearn.datasets import load_iris\n",
        "from pathlib import Path\n",
        "import collections\n",
        "##\n",
        "import seaborn as sns\n",
        "import matplotlib.pyplot as plt\n",
        "##\n",
        "import imblearn\n",
        "from imblearn.under_sampling import RandomUnderSampler\n",
        "from imblearn.over_sampling import RandomOverSampler\n",
        "from imblearn.over_sampling import SMOTE\n",
        "from imblearn.over_sampling import ADASYN\n",
        "from imblearn.over_sampling import SMOTENC\n",
        "##\n",
        "from sklearn.ensemble import RandomForestClassifier\n",
        "from sklearn.tree import DecisionTreeClassifier\n",
        "##\n",
        "import sklearn.metrics as metrics\n",
        "from sklearn import preprocessing, model_selection, metrics\n",
        "from sklearn.metrics import classification_report, confusion_matrix, accuracy_score\n",
        "from sklearn.metrics import roc_auc_score\n",
        "##\n",
        "import warnings\n",
        "warnings.filterwarnings(\"ignore\")\n",
        "##\n",
        "%matplotlib inline"
      ],
      "execution_count": 40,
      "outputs": []
    },
    {
      "cell_type": "markdown",
      "metadata": {
        "id": "7ZU7p133hKdX"
      },
      "source": [
        "# Import CSV"
      ]
    },
    {
      "cell_type": "code",
      "metadata": {
        "id": "HFoCHzyrPJHs",
        "colab": {
          "base_uri": "https://localhost:8080/"
        },
        "outputId": "39e3a059-103f-4a4f-e7df-8745019b47c7"
      },
      "source": [
        "from google.colab import drive\n",
        "drive.mount('/content/drive')"
      ],
      "execution_count": 41,
      "outputs": [
        {
          "output_type": "stream",
          "text": [
            "Drive already mounted at /content/drive; to attempt to forcibly remount, call drive.mount(\"/content/drive\", force_remount=True).\n"
          ],
          "name": "stdout"
        }
      ]
    },
    {
      "cell_type": "code",
      "metadata": {
        "id": "7PNhTLJAKcxL"
      },
      "source": [
        "path = \"/content/drive/My Drive/Colab_Cars_Public/sample201320.csv\"\n",
        "cars_df = pd.read_csv(path, sep=\",\",dtype = str)"
      ],
      "execution_count": 42,
      "outputs": []
    },
    {
      "cell_type": "code",
      "metadata": {
        "id": "oyaMhwzKJSZ1",
        "colab": {
          "base_uri": "https://localhost:8080/",
          "height": 336
        },
        "outputId": "a56d5059-2f24-41ab-b280-d6488644017e"
      },
      "source": [
        "cars_df.head(5)"
      ],
      "execution_count": 43,
      "outputs": [
        {
          "output_type": "execute_result",
          "data": {
            "text/html": [
              "<div>\n",
              "<style scoped>\n",
              "    .dataframe tbody tr th:only-of-type {\n",
              "        vertical-align: middle;\n",
              "    }\n",
              "\n",
              "    .dataframe tbody tr th {\n",
              "        vertical-align: top;\n",
              "    }\n",
              "\n",
              "    .dataframe thead th {\n",
              "        text-align: right;\n",
              "    }\n",
              "</style>\n",
              "<table border=\"1\" class=\"dataframe\">\n",
              "  <thead>\n",
              "    <tr style=\"text-align: right;\">\n",
              "      <th></th>\n",
              "      <th>RecordID</th>\n",
              "      <th>RECORD_NUM</th>\n",
              "      <th>VIR_CERT_NUMBER</th>\n",
              "      <th>STATION_NUM</th>\n",
              "      <th>ANALYZER_NUM</th>\n",
              "      <th>INSPECTOR_NUM</th>\n",
              "      <th>TEST_TYPE</th>\n",
              "      <th>VID_TEST_TYPE</th>\n",
              "      <th>TEST_SDATE</th>\n",
              "      <th>TEST_EDATE</th>\n",
              "      <th>VIN</th>\n",
              "      <th>VIN_SOURCE</th>\n",
              "      <th>VEH_LICENSE</th>\n",
              "      <th>GVW_TYPE</th>\n",
              "      <th>GVWR</th>\n",
              "      <th>MODEL_YEAR</th>\n",
              "      <th>MAKE</th>\n",
              "      <th>MODEL</th>\n",
              "      <th>CYL</th>\n",
              "      <th>ENGINE_SIZE</th>\n",
              "      <th>TRANS_TYPE</th>\n",
              "      <th>DUAL_EXHAUST</th>\n",
              "      <th>ODOMETER</th>\n",
              "      <th>FUEL_TYPE</th>\n",
              "      <th>VEHICLE_TYPE</th>\n",
              "      <th>EMISS_COST</th>\n",
              "      <th>ZIP_CODE</th>\n",
              "      <th>CERTIFICATION</th>\n",
              "      <th>ESC</th>\n",
              "      <th>VRT_RECORD_ID</th>\n",
              "      <th>E_TEST_SEQUENCE</th>\n",
              "      <th>E_PRECOND_PROCEDURE</th>\n",
              "      <th>E_HIGH_DCF</th>\n",
              "      <th>E_HIGH_RPM</th>\n",
              "      <th>E_HIGH_CO2</th>\n",
              "      <th>E_HIGH_O2</th>\n",
              "      <th>E_HIGH_HC</th>\n",
              "      <th>E_HIGH_HC_DCF</th>\n",
              "      <th>E_HIGH_HC_LIMIT</th>\n",
              "      <th>E_HIGH_CO</th>\n",
              "      <th>...</th>\n",
              "      <th>OBD_RDY_RESULT</th>\n",
              "      <th>OBD_PID</th>\n",
              "      <th>OBD_PCM_ID</th>\n",
              "      <th>OBD_VIN</th>\n",
              "      <th>OBD_FLT_CODES</th>\n",
              "      <th>OBD_FLT_RESULT</th>\n",
              "      <th>OBD_MIL_STATUS</th>\n",
              "      <th>OBD_RESULT</th>\n",
              "      <th>ONLINE_STATUS</th>\n",
              "      <th>OFFLINE_REASON_CODE</th>\n",
              "      <th>ABORT_CODE</th>\n",
              "      <th>SOFTWARE_VERSION</th>\n",
              "      <th>INSP_COMMENTS</th>\n",
              "      <th>OVERALL_RESULT</th>\n",
              "      <th>R_TOTAL_COST</th>\n",
              "      <th>R_EGR</th>\n",
              "      <th>R_ELECTRICAL</th>\n",
              "      <th>R_EVAP_CONTROL</th>\n",
              "      <th>R_EXHAUST</th>\n",
              "      <th>R_IGNITION</th>\n",
              "      <th>R_INTAKE</th>\n",
              "      <th>R_ENGINE</th>\n",
              "      <th>R_PCV</th>\n",
              "      <th>R_OTHER</th>\n",
              "      <th>SentToWW</th>\n",
              "      <th>ABORT_CODE_OTHER_DESC</th>\n",
              "      <th>OBDII_AFFECT_OVERALL</th>\n",
              "      <th>E_HIGH_CO_RESULT</th>\n",
              "      <th>E_HIGH_HC_RESULT</th>\n",
              "      <th>E_IDLE_CO_RESULT</th>\n",
              "      <th>E_IDLE_HC_RESULT</th>\n",
              "      <th>MECHANIC_LAST_NAME</th>\n",
              "      <th>MECHANIC_FIRST_NAME</th>\n",
              "      <th>MECHANIC_MIDDLE_INIT</th>\n",
              "      <th>ENGINE_SIZE_ORIG</th>\n",
              "      <th>FAILED_IDLE_RPM</th>\n",
              "      <th>SENTTOVID</th>\n",
              "      <th>Station_License_Number</th>\n",
              "      <th>Analyzer_Number</th>\n",
              "      <th>Insert_DateTime</th>\n",
              "    </tr>\n",
              "  </thead>\n",
              "  <tbody>\n",
              "    <tr>\n",
              "      <th>0</th>\n",
              "      <td>2728181</td>\n",
              "      <td>1871</td>\n",
              "      <td>06908600</td>\n",
              "      <td>IS441</td>\n",
              "      <td>W148</td>\n",
              "      <td>22013821</td>\n",
              "      <td>I</td>\n",
              "      <td>I</td>\n",
              "      <td>2013-04-16 13:10:00</td>\n",
              "      <td>2013-04-16 13:13:00</td>\n",
              "      <td>4C3AU52NXWE133832</td>\n",
              "      <td>S</td>\n",
              "      <td>JTM00</td>\n",
              "      <td>1</td>\n",
              "      <td>3250</td>\n",
              "      <td>1998</td>\n",
              "      <td>CHRYSLER</td>\n",
              "      <td>SEBRING</td>\n",
              "      <td>6</td>\n",
              "      <td>2500</td>\n",
              "      <td>A</td>\n",
              "      <td>N</td>\n",
              "      <td>109025</td>\n",
              "      <td>G</td>\n",
              "      <td>1</td>\n",
              "      <td>15.98</td>\n",
              "      <td>87108</td>\n",
              "      <td>F</td>\n",
              "      <td>6</td>\n",
              "      <td>980033</td>\n",
              "      <td>1</td>\n",
              "      <td>1</td>\n",
              "      <td>0</td>\n",
              "      <td>0</td>\n",
              "      <td>0</td>\n",
              "      <td>0</td>\n",
              "      <td>0</td>\n",
              "      <td>0</td>\n",
              "      <td>100</td>\n",
              "      <td>0</td>\n",
              "      <td>...</td>\n",
              "      <td>P</td>\n",
              "      <td>23</td>\n",
              "      <td>41</td>\n",
              "      <td>NaN</td>\n",
              "      <td>NaN</td>\n",
              "      <td>P</td>\n",
              "      <td>1</td>\n",
              "      <td>P</td>\n",
              "      <td>1</td>\n",
              "      <td>0</td>\n",
              "      <td>NaN</td>\n",
              "      <td>0502</td>\n",
              "      <td>NaN</td>\n",
              "      <td>P</td>\n",
              "      <td>NaN</td>\n",
              "      <td>NaN</td>\n",
              "      <td>NaN</td>\n",
              "      <td>NaN</td>\n",
              "      <td>NaN</td>\n",
              "      <td>NaN</td>\n",
              "      <td>NaN</td>\n",
              "      <td>NaN</td>\n",
              "      <td>NaN</td>\n",
              "      <td>NaN</td>\n",
              "      <td>0</td>\n",
              "      <td>NaN</td>\n",
              "      <td>N</td>\n",
              "      <td>N</td>\n",
              "      <td>N</td>\n",
              "      <td>N</td>\n",
              "      <td>N</td>\n",
              "      <td>BRILLON</td>\n",
              "      <td>JENNIFER</td>\n",
              "      <td>D</td>\n",
              "      <td>NaN</td>\n",
              "      <td>NaN</td>\n",
              "      <td>0</td>\n",
              "      <td>IS441</td>\n",
              "      <td>W148</td>\n",
              "      <td>2013-04-16 12:13:04</td>\n",
              "    </tr>\n",
              "    <tr>\n",
              "      <th>1</th>\n",
              "      <td>2812480</td>\n",
              "      <td>10414</td>\n",
              "      <td>06988927</td>\n",
              "      <td>IS341</td>\n",
              "      <td>W021</td>\n",
              "      <td>32480268</td>\n",
              "      <td>I</td>\n",
              "      <td>I</td>\n",
              "      <td>2013-08-01 11:02:00</td>\n",
              "      <td>2013-08-01 11:05:00</td>\n",
              "      <td>2FMZA51402BB70021</td>\n",
              "      <td>S</td>\n",
              "      <td>KWC774</td>\n",
              "      <td>1</td>\n",
              "      <td>5650</td>\n",
              "      <td>2002</td>\n",
              "      <td>FORD</td>\n",
              "      <td>WINDSTAR 4DR</td>\n",
              "      <td>6</td>\n",
              "      <td>3800</td>\n",
              "      <td>A</td>\n",
              "      <td>N</td>\n",
              "      <td>167508</td>\n",
              "      <td>G</td>\n",
              "      <td>5</td>\n",
              "      <td>17.00</td>\n",
              "      <td>87105</td>\n",
              "      <td>N</td>\n",
              "      <td>20</td>\n",
              "      <td>20020770</td>\n",
              "      <td>1</td>\n",
              "      <td>1</td>\n",
              "      <td>0</td>\n",
              "      <td>0</td>\n",
              "      <td>0</td>\n",
              "      <td>0</td>\n",
              "      <td>0</td>\n",
              "      <td>0</td>\n",
              "      <td>100</td>\n",
              "      <td>0</td>\n",
              "      <td>...</td>\n",
              "      <td>P</td>\n",
              "      <td>20</td>\n",
              "      <td>10</td>\n",
              "      <td>NaN</td>\n",
              "      <td>NaN</td>\n",
              "      <td>P</td>\n",
              "      <td>1</td>\n",
              "      <td>P</td>\n",
              "      <td>1</td>\n",
              "      <td>0</td>\n",
              "      <td>NaN</td>\n",
              "      <td>0502</td>\n",
              "      <td>NaN</td>\n",
              "      <td>P</td>\n",
              "      <td>NaN</td>\n",
              "      <td>NaN</td>\n",
              "      <td>NaN</td>\n",
              "      <td>NaN</td>\n",
              "      <td>NaN</td>\n",
              "      <td>NaN</td>\n",
              "      <td>NaN</td>\n",
              "      <td>NaN</td>\n",
              "      <td>NaN</td>\n",
              "      <td>NaN</td>\n",
              "      <td>0</td>\n",
              "      <td>NaN</td>\n",
              "      <td>N</td>\n",
              "      <td>N</td>\n",
              "      <td>N</td>\n",
              "      <td>N</td>\n",
              "      <td>N</td>\n",
              "      <td>MIRABAL</td>\n",
              "      <td>ROSALIA</td>\n",
              "      <td>C</td>\n",
              "      <td>NaN</td>\n",
              "      <td>NaN</td>\n",
              "      <td>0</td>\n",
              "      <td>IS341</td>\n",
              "      <td>W021</td>\n",
              "      <td>2013-08-01 15:18:44</td>\n",
              "    </tr>\n",
              "    <tr>\n",
              "      <th>2</th>\n",
              "      <td>2822257</td>\n",
              "      <td>15560</td>\n",
              "      <td>06992350</td>\n",
              "      <td>IS404</td>\n",
              "      <td>W042</td>\n",
              "      <td>AC083846</td>\n",
              "      <td>I</td>\n",
              "      <td>I</td>\n",
              "      <td>2013-08-14 09:25:00</td>\n",
              "      <td>2013-08-14 09:29:00</td>\n",
              "      <td>WMWRF33566TG13861</td>\n",
              "      <td>S</td>\n",
              "      <td>MAJ448</td>\n",
              "      <td>1</td>\n",
              "      <td>0</td>\n",
              "      <td>2006</td>\n",
              "      <td>MINI</td>\n",
              "      <td>COOPER</td>\n",
              "      <td>4</td>\n",
              "      <td>1600</td>\n",
              "      <td>A</td>\n",
              "      <td>N</td>\n",
              "      <td>18275</td>\n",
              "      <td>G</td>\n",
              "      <td>1</td>\n",
              "      <td>17.00</td>\n",
              "      <td>87111</td>\n",
              "      <td>C</td>\n",
              "      <td>6</td>\n",
              "      <td>0</td>\n",
              "      <td>1</td>\n",
              "      <td>1</td>\n",
              "      <td>0</td>\n",
              "      <td>0</td>\n",
              "      <td>0</td>\n",
              "      <td>0</td>\n",
              "      <td>0</td>\n",
              "      <td>0</td>\n",
              "      <td>100</td>\n",
              "      <td>0</td>\n",
              "      <td>...</td>\n",
              "      <td>P</td>\n",
              "      <td>18</td>\n",
              "      <td>13</td>\n",
              "      <td>WMWRF33566TG13861</td>\n",
              "      <td>NaN</td>\n",
              "      <td>P</td>\n",
              "      <td>1</td>\n",
              "      <td>P</td>\n",
              "      <td>1</td>\n",
              "      <td>0</td>\n",
              "      <td>NaN</td>\n",
              "      <td>0502</td>\n",
              "      <td>NaN</td>\n",
              "      <td>P</td>\n",
              "      <td>NaN</td>\n",
              "      <td>NaN</td>\n",
              "      <td>NaN</td>\n",
              "      <td>NaN</td>\n",
              "      <td>NaN</td>\n",
              "      <td>NaN</td>\n",
              "      <td>NaN</td>\n",
              "      <td>NaN</td>\n",
              "      <td>NaN</td>\n",
              "      <td>NaN</td>\n",
              "      <td>0</td>\n",
              "      <td>NaN</td>\n",
              "      <td>N</td>\n",
              "      <td>N</td>\n",
              "      <td>N</td>\n",
              "      <td>N</td>\n",
              "      <td>N</td>\n",
              "      <td>NGUYEN</td>\n",
              "      <td>ANPHA</td>\n",
              "      <td>T</td>\n",
              "      <td>1.6L</td>\n",
              "      <td>NaN</td>\n",
              "      <td>0</td>\n",
              "      <td>IS404</td>\n",
              "      <td>W042</td>\n",
              "      <td>2013-08-14 16:23:59</td>\n",
              "    </tr>\n",
              "    <tr>\n",
              "      <th>3</th>\n",
              "      <td>2824438</td>\n",
              "      <td>15392</td>\n",
              "      <td>06966912</td>\n",
              "      <td>IS296</td>\n",
              "      <td>W050</td>\n",
              "      <td>AC084285</td>\n",
              "      <td>I</td>\n",
              "      <td>I</td>\n",
              "      <td>2013-08-17 10:55:00</td>\n",
              "      <td>2013-08-17 10:59:00</td>\n",
              "      <td>1FALP6537TK218840</td>\n",
              "      <td>S</td>\n",
              "      <td>NP218840</td>\n",
              "      <td>1</td>\n",
              "      <td>3125</td>\n",
              "      <td>1996</td>\n",
              "      <td>FORD</td>\n",
              "      <td>CONTOUR</td>\n",
              "      <td>4</td>\n",
              "      <td>2000</td>\n",
              "      <td>A</td>\n",
              "      <td>N</td>\n",
              "      <td>148253</td>\n",
              "      <td>G</td>\n",
              "      <td>1</td>\n",
              "      <td>24.99</td>\n",
              "      <td>87120</td>\n",
              "      <td>F</td>\n",
              "      <td>6</td>\n",
              "      <td>961077</td>\n",
              "      <td>1</td>\n",
              "      <td>1</td>\n",
              "      <td>0</td>\n",
              "      <td>0</td>\n",
              "      <td>0</td>\n",
              "      <td>0</td>\n",
              "      <td>0</td>\n",
              "      <td>0</td>\n",
              "      <td>100</td>\n",
              "      <td>0</td>\n",
              "      <td>...</td>\n",
              "      <td>P</td>\n",
              "      <td>16</td>\n",
              "      <td>10</td>\n",
              "      <td>NaN</td>\n",
              "      <td>NaN</td>\n",
              "      <td>P</td>\n",
              "      <td>1</td>\n",
              "      <td>P</td>\n",
              "      <td>1</td>\n",
              "      <td>0</td>\n",
              "      <td>NaN</td>\n",
              "      <td>0502</td>\n",
              "      <td>NaN</td>\n",
              "      <td>P</td>\n",
              "      <td>NaN</td>\n",
              "      <td>NaN</td>\n",
              "      <td>NaN</td>\n",
              "      <td>NaN</td>\n",
              "      <td>NaN</td>\n",
              "      <td>NaN</td>\n",
              "      <td>NaN</td>\n",
              "      <td>NaN</td>\n",
              "      <td>NaN</td>\n",
              "      <td>NaN</td>\n",
              "      <td>0</td>\n",
              "      <td>NaN</td>\n",
              "      <td>N</td>\n",
              "      <td>N</td>\n",
              "      <td>N</td>\n",
              "      <td>N</td>\n",
              "      <td>N</td>\n",
              "      <td>Romero</td>\n",
              "      <td>Sante</td>\n",
              "      <td>M</td>\n",
              "      <td>NaN</td>\n",
              "      <td>NaN</td>\n",
              "      <td>0</td>\n",
              "      <td>IS296</td>\n",
              "      <td>W050</td>\n",
              "      <td>2013-08-17 09:58:32</td>\n",
              "    </tr>\n",
              "    <tr>\n",
              "      <th>4</th>\n",
              "      <td>2711421</td>\n",
              "      <td>2577</td>\n",
              "      <td>06887248</td>\n",
              "      <td>IS425</td>\n",
              "      <td>W098</td>\n",
              "      <td>21369207</td>\n",
              "      <td>I</td>\n",
              "      <td>I</td>\n",
              "      <td>2013-03-27 11:59:00</td>\n",
              "      <td>2013-03-27 12:03:00</td>\n",
              "      <td>1N4AL11D73C215791</td>\n",
              "      <td>S</td>\n",
              "      <td>DGW726</td>\n",
              "      <td>1</td>\n",
              "      <td>3375</td>\n",
              "      <td>2003</td>\n",
              "      <td>NISSAN</td>\n",
              "      <td>ALTIMA</td>\n",
              "      <td>4</td>\n",
              "      <td>2500</td>\n",
              "      <td>M</td>\n",
              "      <td>N</td>\n",
              "      <td>118937</td>\n",
              "      <td>G</td>\n",
              "      <td>1</td>\n",
              "      <td>21.00</td>\n",
              "      <td>87109</td>\n",
              "      <td>C</td>\n",
              "      <td>6</td>\n",
              "      <td>20030424</td>\n",
              "      <td>1</td>\n",
              "      <td>1</td>\n",
              "      <td>0</td>\n",
              "      <td>0</td>\n",
              "      <td>0</td>\n",
              "      <td>0</td>\n",
              "      <td>0</td>\n",
              "      <td>0</td>\n",
              "      <td>100</td>\n",
              "      <td>0</td>\n",
              "      <td>...</td>\n",
              "      <td>P</td>\n",
              "      <td>18</td>\n",
              "      <td>10</td>\n",
              "      <td>NaN</td>\n",
              "      <td>NaN</td>\n",
              "      <td>P</td>\n",
              "      <td>1</td>\n",
              "      <td>P</td>\n",
              "      <td>1</td>\n",
              "      <td>0</td>\n",
              "      <td>NaN</td>\n",
              "      <td>0502</td>\n",
              "      <td>NaN</td>\n",
              "      <td>P</td>\n",
              "      <td>NaN</td>\n",
              "      <td>NaN</td>\n",
              "      <td>NaN</td>\n",
              "      <td>NaN</td>\n",
              "      <td>NaN</td>\n",
              "      <td>NaN</td>\n",
              "      <td>NaN</td>\n",
              "      <td>NaN</td>\n",
              "      <td>NaN</td>\n",
              "      <td>NaN</td>\n",
              "      <td>0</td>\n",
              "      <td>NaN</td>\n",
              "      <td>N</td>\n",
              "      <td>N</td>\n",
              "      <td>N</td>\n",
              "      <td>N</td>\n",
              "      <td>N</td>\n",
              "      <td>LOPEZ</td>\n",
              "      <td>CAMILO</td>\n",
              "      <td>D</td>\n",
              "      <td>NaN</td>\n",
              "      <td>NaN</td>\n",
              "      <td>0</td>\n",
              "      <td>IS425</td>\n",
              "      <td>W098</td>\n",
              "      <td>2013-03-27 16:33:17</td>\n",
              "    </tr>\n",
              "  </tbody>\n",
              "</table>\n",
              "<p>5 rows × 127 columns</p>\n",
              "</div>"
            ],
            "text/plain": [
              "  RecordID RECORD_NUM  ... Analyzer_Number      Insert_DateTime\n",
              "0  2728181       1871  ...            W148  2013-04-16 12:13:04\n",
              "1  2812480      10414  ...            W021  2013-08-01 15:18:44\n",
              "2  2822257      15560  ...            W042  2013-08-14 16:23:59\n",
              "3  2824438      15392  ...            W050  2013-08-17 09:58:32\n",
              "4  2711421       2577  ...            W098  2013-03-27 16:33:17\n",
              "\n",
              "[5 rows x 127 columns]"
            ]
          },
          "metadata": {
            "tags": []
          },
          "execution_count": 43
        }
      ]
    },
    {
      "cell_type": "code",
      "metadata": {
        "id": "6APKUOzzPJHx",
        "colab": {
          "base_uri": "https://localhost:8080/",
          "height": 307
        },
        "outputId": "b16a0aba-4b59-48b1-942b-80a741165a76"
      },
      "source": [
        "# select columns based on domain knowledge\n",
        "cols = ['RecordID','VIN','GVWR','MODEL_YEAR','MAKE','MODEL','CYL','ENGINE_SIZE','TRANS_TYPE','DUAL_EXHAUST','ODOMETER','FUEL_TYPE','OVERALL_RESULT','TEST_EDATE']\n",
        "cars_sample= cars_df[cols]\n",
        "cars_sample.head()"
      ],
      "execution_count": 44,
      "outputs": [
        {
          "output_type": "execute_result",
          "data": {
            "text/html": [
              "<div>\n",
              "<style scoped>\n",
              "    .dataframe tbody tr th:only-of-type {\n",
              "        vertical-align: middle;\n",
              "    }\n",
              "\n",
              "    .dataframe tbody tr th {\n",
              "        vertical-align: top;\n",
              "    }\n",
              "\n",
              "    .dataframe thead th {\n",
              "        text-align: right;\n",
              "    }\n",
              "</style>\n",
              "<table border=\"1\" class=\"dataframe\">\n",
              "  <thead>\n",
              "    <tr style=\"text-align: right;\">\n",
              "      <th></th>\n",
              "      <th>RecordID</th>\n",
              "      <th>VIN</th>\n",
              "      <th>GVWR</th>\n",
              "      <th>MODEL_YEAR</th>\n",
              "      <th>MAKE</th>\n",
              "      <th>MODEL</th>\n",
              "      <th>CYL</th>\n",
              "      <th>ENGINE_SIZE</th>\n",
              "      <th>TRANS_TYPE</th>\n",
              "      <th>DUAL_EXHAUST</th>\n",
              "      <th>ODOMETER</th>\n",
              "      <th>FUEL_TYPE</th>\n",
              "      <th>OVERALL_RESULT</th>\n",
              "      <th>TEST_EDATE</th>\n",
              "    </tr>\n",
              "  </thead>\n",
              "  <tbody>\n",
              "    <tr>\n",
              "      <th>0</th>\n",
              "      <td>2728181</td>\n",
              "      <td>4C3AU52NXWE133832</td>\n",
              "      <td>3250</td>\n",
              "      <td>1998</td>\n",
              "      <td>CHRYSLER</td>\n",
              "      <td>SEBRING</td>\n",
              "      <td>6</td>\n",
              "      <td>2500</td>\n",
              "      <td>A</td>\n",
              "      <td>N</td>\n",
              "      <td>109025</td>\n",
              "      <td>G</td>\n",
              "      <td>P</td>\n",
              "      <td>2013-04-16 13:13:00</td>\n",
              "    </tr>\n",
              "    <tr>\n",
              "      <th>1</th>\n",
              "      <td>2812480</td>\n",
              "      <td>2FMZA51402BB70021</td>\n",
              "      <td>5650</td>\n",
              "      <td>2002</td>\n",
              "      <td>FORD</td>\n",
              "      <td>WINDSTAR 4DR</td>\n",
              "      <td>6</td>\n",
              "      <td>3800</td>\n",
              "      <td>A</td>\n",
              "      <td>N</td>\n",
              "      <td>167508</td>\n",
              "      <td>G</td>\n",
              "      <td>P</td>\n",
              "      <td>2013-08-01 11:05:00</td>\n",
              "    </tr>\n",
              "    <tr>\n",
              "      <th>2</th>\n",
              "      <td>2822257</td>\n",
              "      <td>WMWRF33566TG13861</td>\n",
              "      <td>0</td>\n",
              "      <td>2006</td>\n",
              "      <td>MINI</td>\n",
              "      <td>COOPER</td>\n",
              "      <td>4</td>\n",
              "      <td>1600</td>\n",
              "      <td>A</td>\n",
              "      <td>N</td>\n",
              "      <td>18275</td>\n",
              "      <td>G</td>\n",
              "      <td>P</td>\n",
              "      <td>2013-08-14 09:29:00</td>\n",
              "    </tr>\n",
              "    <tr>\n",
              "      <th>3</th>\n",
              "      <td>2824438</td>\n",
              "      <td>1FALP6537TK218840</td>\n",
              "      <td>3125</td>\n",
              "      <td>1996</td>\n",
              "      <td>FORD</td>\n",
              "      <td>CONTOUR</td>\n",
              "      <td>4</td>\n",
              "      <td>2000</td>\n",
              "      <td>A</td>\n",
              "      <td>N</td>\n",
              "      <td>148253</td>\n",
              "      <td>G</td>\n",
              "      <td>P</td>\n",
              "      <td>2013-08-17 10:59:00</td>\n",
              "    </tr>\n",
              "    <tr>\n",
              "      <th>4</th>\n",
              "      <td>2711421</td>\n",
              "      <td>1N4AL11D73C215791</td>\n",
              "      <td>3375</td>\n",
              "      <td>2003</td>\n",
              "      <td>NISSAN</td>\n",
              "      <td>ALTIMA</td>\n",
              "      <td>4</td>\n",
              "      <td>2500</td>\n",
              "      <td>M</td>\n",
              "      <td>N</td>\n",
              "      <td>118937</td>\n",
              "      <td>G</td>\n",
              "      <td>P</td>\n",
              "      <td>2013-03-27 12:03:00</td>\n",
              "    </tr>\n",
              "  </tbody>\n",
              "</table>\n",
              "</div>"
            ],
            "text/plain": [
              "  RecordID                VIN  ... OVERALL_RESULT           TEST_EDATE\n",
              "0  2728181  4C3AU52NXWE133832  ...              P  2013-04-16 13:13:00\n",
              "1  2812480  2FMZA51402BB70021  ...              P  2013-08-01 11:05:00\n",
              "2  2822257  WMWRF33566TG13861  ...              P  2013-08-14 09:29:00\n",
              "3  2824438  1FALP6537TK218840  ...              P  2013-08-17 10:59:00\n",
              "4  2711421  1N4AL11D73C215791  ...              P  2013-03-27 12:03:00\n",
              "\n",
              "[5 rows x 14 columns]"
            ]
          },
          "metadata": {
            "tags": []
          },
          "execution_count": 44
        }
      ]
    },
    {
      "cell_type": "code",
      "metadata": {
        "id": "iiK6Z2lRJz8P",
        "colab": {
          "base_uri": "https://localhost:8080/"
        },
        "outputId": "fa5f03e2-8ca3-4c75-dd86-8f0211be6d06"
      },
      "source": [
        "cars_sample.shape"
      ],
      "execution_count": 45,
      "outputs": [
        {
          "output_type": "execute_result",
          "data": {
            "text/plain": [
              "(188856, 14)"
            ]
          },
          "metadata": {
            "tags": []
          },
          "execution_count": 45
        }
      ]
    },
    {
      "cell_type": "code",
      "metadata": {
        "colab": {
          "base_uri": "https://localhost:8080/"
        },
        "id": "SiXupJ98M2m5",
        "outputId": "5feab395-3496-41e5-b707-34e33be898c6"
      },
      "source": [
        "cars_sample.dtypes"
      ],
      "execution_count": 46,
      "outputs": [
        {
          "output_type": "execute_result",
          "data": {
            "text/plain": [
              "RecordID          object\n",
              "VIN               object\n",
              "GVWR              object\n",
              "MODEL_YEAR        object\n",
              "MAKE              object\n",
              "MODEL             object\n",
              "CYL               object\n",
              "ENGINE_SIZE       object\n",
              "TRANS_TYPE        object\n",
              "DUAL_EXHAUST      object\n",
              "ODOMETER          object\n",
              "FUEL_TYPE         object\n",
              "OVERALL_RESULT    object\n",
              "TEST_EDATE        object\n",
              "dtype: object"
            ]
          },
          "metadata": {
            "tags": []
          },
          "execution_count": 46
        }
      ]
    },
    {
      "cell_type": "code",
      "metadata": {
        "colab": {
          "base_uri": "https://localhost:8080/"
        },
        "id": "XVd830KDmELs",
        "outputId": "ba511209-eaa5-4c65-ace6-033f42be0909"
      },
      "source": [
        "cars_sample.OVERALL_RESULT.value_counts()"
      ],
      "execution_count": 47,
      "outputs": [
        {
          "output_type": "execute_result",
          "data": {
            "text/plain": [
              "P    169820\n",
              "F     13354\n",
              "A      5678\n",
              "O         3\n",
              "Name: OVERALL_RESULT, dtype: int64"
            ]
          },
          "metadata": {
            "tags": []
          },
          "execution_count": 47
        }
      ]
    },
    {
      "cell_type": "code",
      "metadata": {
        "colab": {
          "base_uri": "https://localhost:8080/"
        },
        "id": "BNcXvL1GkmFe",
        "outputId": "09d7d78e-078e-4872-d943-c9d6426fa2d0"
      },
      "source": [
        "cars_sample.isnull().sum()"
      ],
      "execution_count": 48,
      "outputs": [
        {
          "output_type": "execute_result",
          "data": {
            "text/plain": [
              "RecordID             0\n",
              "VIN                  0\n",
              "GVWR                 0\n",
              "MODEL_YEAR           0\n",
              "MAKE               900\n",
              "MODEL              903\n",
              "CYL                936\n",
              "ENGINE_SIZE          0\n",
              "TRANS_TYPE         937\n",
              "DUAL_EXHAUST      1055\n",
              "ODOMETER             0\n",
              "FUEL_TYPE         1055\n",
              "OVERALL_RESULT       1\n",
              "TEST_EDATE           0\n",
              "dtype: int64"
            ]
          },
          "metadata": {
            "tags": []
          },
          "execution_count": 48
        }
      ]
    },
    {
      "cell_type": "markdown",
      "metadata": {
        "id": "YBTlwzdtSYvx"
      },
      "source": [
        "#Data Preperation"
      ]
    },
    {
      "cell_type": "code",
      "metadata": {
        "id": "1vM8bjTRPPqG",
        "colab": {
          "base_uri": "https://localhost:8080/",
          "height": 307
        },
        "outputId": "e3f22967-2849-43f1-cd71-826e43940168"
      },
      "source": [
        "# change datatype to timestamp\n",
        "#cars_sample['TEST_SDATE'] = pd.to_datetime(cars_sample['TEST_SDATE'])\n",
        "cars_sample['TEST_EDATE'] = pd.to_datetime(cars_sample['TEST_EDATE'])\n",
        "cars_sample.head()"
      ],
      "execution_count": 49,
      "outputs": [
        {
          "output_type": "execute_result",
          "data": {
            "text/html": [
              "<div>\n",
              "<style scoped>\n",
              "    .dataframe tbody tr th:only-of-type {\n",
              "        vertical-align: middle;\n",
              "    }\n",
              "\n",
              "    .dataframe tbody tr th {\n",
              "        vertical-align: top;\n",
              "    }\n",
              "\n",
              "    .dataframe thead th {\n",
              "        text-align: right;\n",
              "    }\n",
              "</style>\n",
              "<table border=\"1\" class=\"dataframe\">\n",
              "  <thead>\n",
              "    <tr style=\"text-align: right;\">\n",
              "      <th></th>\n",
              "      <th>RecordID</th>\n",
              "      <th>VIN</th>\n",
              "      <th>GVWR</th>\n",
              "      <th>MODEL_YEAR</th>\n",
              "      <th>MAKE</th>\n",
              "      <th>MODEL</th>\n",
              "      <th>CYL</th>\n",
              "      <th>ENGINE_SIZE</th>\n",
              "      <th>TRANS_TYPE</th>\n",
              "      <th>DUAL_EXHAUST</th>\n",
              "      <th>ODOMETER</th>\n",
              "      <th>FUEL_TYPE</th>\n",
              "      <th>OVERALL_RESULT</th>\n",
              "      <th>TEST_EDATE</th>\n",
              "    </tr>\n",
              "  </thead>\n",
              "  <tbody>\n",
              "    <tr>\n",
              "      <th>0</th>\n",
              "      <td>2728181</td>\n",
              "      <td>4C3AU52NXWE133832</td>\n",
              "      <td>3250</td>\n",
              "      <td>1998</td>\n",
              "      <td>CHRYSLER</td>\n",
              "      <td>SEBRING</td>\n",
              "      <td>6</td>\n",
              "      <td>2500</td>\n",
              "      <td>A</td>\n",
              "      <td>N</td>\n",
              "      <td>109025</td>\n",
              "      <td>G</td>\n",
              "      <td>P</td>\n",
              "      <td>2013-04-16 13:13:00</td>\n",
              "    </tr>\n",
              "    <tr>\n",
              "      <th>1</th>\n",
              "      <td>2812480</td>\n",
              "      <td>2FMZA51402BB70021</td>\n",
              "      <td>5650</td>\n",
              "      <td>2002</td>\n",
              "      <td>FORD</td>\n",
              "      <td>WINDSTAR 4DR</td>\n",
              "      <td>6</td>\n",
              "      <td>3800</td>\n",
              "      <td>A</td>\n",
              "      <td>N</td>\n",
              "      <td>167508</td>\n",
              "      <td>G</td>\n",
              "      <td>P</td>\n",
              "      <td>2013-08-01 11:05:00</td>\n",
              "    </tr>\n",
              "    <tr>\n",
              "      <th>2</th>\n",
              "      <td>2822257</td>\n",
              "      <td>WMWRF33566TG13861</td>\n",
              "      <td>0</td>\n",
              "      <td>2006</td>\n",
              "      <td>MINI</td>\n",
              "      <td>COOPER</td>\n",
              "      <td>4</td>\n",
              "      <td>1600</td>\n",
              "      <td>A</td>\n",
              "      <td>N</td>\n",
              "      <td>18275</td>\n",
              "      <td>G</td>\n",
              "      <td>P</td>\n",
              "      <td>2013-08-14 09:29:00</td>\n",
              "    </tr>\n",
              "    <tr>\n",
              "      <th>3</th>\n",
              "      <td>2824438</td>\n",
              "      <td>1FALP6537TK218840</td>\n",
              "      <td>3125</td>\n",
              "      <td>1996</td>\n",
              "      <td>FORD</td>\n",
              "      <td>CONTOUR</td>\n",
              "      <td>4</td>\n",
              "      <td>2000</td>\n",
              "      <td>A</td>\n",
              "      <td>N</td>\n",
              "      <td>148253</td>\n",
              "      <td>G</td>\n",
              "      <td>P</td>\n",
              "      <td>2013-08-17 10:59:00</td>\n",
              "    </tr>\n",
              "    <tr>\n",
              "      <th>4</th>\n",
              "      <td>2711421</td>\n",
              "      <td>1N4AL11D73C215791</td>\n",
              "      <td>3375</td>\n",
              "      <td>2003</td>\n",
              "      <td>NISSAN</td>\n",
              "      <td>ALTIMA</td>\n",
              "      <td>4</td>\n",
              "      <td>2500</td>\n",
              "      <td>M</td>\n",
              "      <td>N</td>\n",
              "      <td>118937</td>\n",
              "      <td>G</td>\n",
              "      <td>P</td>\n",
              "      <td>2013-03-27 12:03:00</td>\n",
              "    </tr>\n",
              "  </tbody>\n",
              "</table>\n",
              "</div>"
            ],
            "text/plain": [
              "  RecordID                VIN  ... OVERALL_RESULT          TEST_EDATE\n",
              "0  2728181  4C3AU52NXWE133832  ...              P 2013-04-16 13:13:00\n",
              "1  2812480  2FMZA51402BB70021  ...              P 2013-08-01 11:05:00\n",
              "2  2822257  WMWRF33566TG13861  ...              P 2013-08-14 09:29:00\n",
              "3  2824438  1FALP6537TK218840  ...              P 2013-08-17 10:59:00\n",
              "4  2711421  1N4AL11D73C215791  ...              P 2013-03-27 12:03:00\n",
              "\n",
              "[5 rows x 14 columns]"
            ]
          },
          "metadata": {
            "tags": []
          },
          "execution_count": 49
        }
      ]
    },
    {
      "cell_type": "code",
      "metadata": {
        "id": "dwuOwVUpPPqI",
        "colab": {
          "base_uri": "https://localhost:8080/"
        },
        "outputId": "bd18f9da-1ee6-40da-c612-74bb28a1f2ab"
      },
      "source": [
        "# replace 'R' in CYL\n",
        "cars_sample['CYL'] = cars_sample['CYL'].replace('R', '15')\n",
        "cars_sample.CYL.value_counts()"
      ],
      "execution_count": 50,
      "outputs": [
        {
          "output_type": "execute_result",
          "data": {
            "text/plain": [
              "4     73571\n",
              "6     72663\n",
              "8     39377\n",
              "5      1563\n",
              "10      467\n",
              "3       183\n",
              "12       51\n",
              "15       31\n",
              "7         8\n",
              "2         3\n",
              "9         3\n",
              "Name: CYL, dtype: int64"
            ]
          },
          "metadata": {
            "tags": []
          },
          "execution_count": 50
        }
      ]
    },
    {
      "cell_type": "code",
      "metadata": {
        "id": "6kcQ9UjmPPqJ",
        "colab": {
          "base_uri": "https://localhost:8080/"
        },
        "outputId": "0a365278-5aca-4cd1-f57a-57689e073313"
      },
      "source": [
        "pd.set_option('display.max_rows',20)\n",
        "cars_sample.dtypes"
      ],
      "execution_count": 51,
      "outputs": [
        {
          "output_type": "execute_result",
          "data": {
            "text/plain": [
              "RecordID                  object\n",
              "VIN                       object\n",
              "GVWR                      object\n",
              "MODEL_YEAR                object\n",
              "MAKE                      object\n",
              "MODEL                     object\n",
              "CYL                       object\n",
              "ENGINE_SIZE               object\n",
              "TRANS_TYPE                object\n",
              "DUAL_EXHAUST              object\n",
              "ODOMETER                  object\n",
              "FUEL_TYPE                 object\n",
              "OVERALL_RESULT            object\n",
              "TEST_EDATE        datetime64[ns]\n",
              "dtype: object"
            ]
          },
          "metadata": {
            "tags": []
          },
          "execution_count": 51
        }
      ]
    },
    {
      "cell_type": "code",
      "metadata": {
        "id": "4vn0s3TPPCti"
      },
      "source": [
        "# Remove '0' in GVWR(Weight of car) column\n",
        "cars_sample['GVWR'] = cars_sample['GVWR'].replace('0', np.nan)\n",
        "# remove '0' in ODOMETER\n",
        "cars_sample['ODOMETER'] = cars_sample['ODOMETER'].replace('0', np.nan)"
      ],
      "execution_count": 53,
      "outputs": []
    },
    {
      "cell_type": "code",
      "metadata": {
        "colab": {
          "base_uri": "https://localhost:8080/"
        },
        "id": "gi52jx1UNa3T",
        "outputId": "3e880805-e949-4cf4-95a2-86377b2e46dc"
      },
      "source": [
        "cars_sample.isnull().sum()"
      ],
      "execution_count": 54,
      "outputs": [
        {
          "output_type": "execute_result",
          "data": {
            "text/plain": [
              "RecordID              0\n",
              "VIN                   0\n",
              "GVWR              12940\n",
              "MODEL_YEAR            0\n",
              "MAKE                900\n",
              "MODEL               903\n",
              "CYL                 936\n",
              "ENGINE_SIZE           0\n",
              "TRANS_TYPE          937\n",
              "DUAL_EXHAUST       1055\n",
              "ODOMETER           1979\n",
              "FUEL_TYPE          1055\n",
              "OVERALL_RESULT        1\n",
              "TEST_EDATE            0\n",
              "dtype: int64"
            ]
          },
          "metadata": {
            "tags": []
          },
          "execution_count": 54
        }
      ]
    },
    {
      "cell_type": "code",
      "metadata": {
        "id": "nCatsdDfr7V7"
      },
      "source": [
        "# Filling GVWR values based on same car details\n",
        "cols_01 = ['VIN','GVWR']\n",
        "cars_t= cars_sample[cols_01]\n",
        "cars_t['GVWR'] = cars_t['GVWR'].replace(0, np.nan)\n",
        "cars_t = cars_t.dropna(subset=['GVWR'], axis=0, how='any')\n",
        "cars_t.drop_duplicates(subset=['VIN'])\n",
        "#Creating dict\n",
        "dict_01 = pd.Series(cars_t.GVWR.values,index=cars_t.VIN).to_dict()\n",
        "cars_sample.GVWR = cars_sample.GVWR.fillna(cars_sample.VIN.map(dict_01))"
      ],
      "execution_count": 55,
      "outputs": []
    },
    {
      "cell_type": "code",
      "metadata": {
        "id": "XhVp3CAaSDVo",
        "colab": {
          "base_uri": "https://localhost:8080/"
        },
        "outputId": "068defa7-7976-4d64-ba31-39bb09b206e3"
      },
      "source": [
        "cars_sample.isnull().sum()"
      ],
      "execution_count": 56,
      "outputs": [
        {
          "output_type": "execute_result",
          "data": {
            "text/plain": [
              "RecordID             0\n",
              "VIN                  0\n",
              "GVWR              5359\n",
              "MODEL_YEAR           0\n",
              "MAKE               900\n",
              "MODEL              903\n",
              "CYL                936\n",
              "ENGINE_SIZE          0\n",
              "TRANS_TYPE         937\n",
              "DUAL_EXHAUST      1055\n",
              "ODOMETER          1979\n",
              "FUEL_TYPE         1055\n",
              "OVERALL_RESULT       1\n",
              "TEST_EDATE           0\n",
              "dtype: int64"
            ]
          },
          "metadata": {
            "tags": []
          },
          "execution_count": 56
        }
      ]
    },
    {
      "cell_type": "code",
      "metadata": {
        "id": "GBwb32AwPKya",
        "colab": {
          "base_uri": "https://localhost:8080/"
        },
        "outputId": "2165225a-05a8-4049-bd42-6d5dc148a925"
      },
      "source": [
        "# Removing Abort Results\n",
        "cars_sample_01 = cars_sample[cars_sample['OVERALL_RESULT'] != 'A']\n",
        "cars_sample_01.shape"
      ],
      "execution_count": 57,
      "outputs": [
        {
          "output_type": "execute_result",
          "data": {
            "text/plain": [
              "(183178, 14)"
            ]
          },
          "metadata": {
            "tags": []
          },
          "execution_count": 57
        }
      ]
    },
    {
      "cell_type": "code",
      "metadata": {
        "id": "ezgV7eLVPK1S",
        "colab": {
          "base_uri": "https://localhost:8080/"
        },
        "outputId": "a986b4d4-832d-4fc6-ad40-88e291538ff6"
      },
      "source": [
        "# Removing override Results\n",
        "cars_sample_02 = cars_sample_01[cars_sample['OVERALL_RESULT'] != 'O']\n",
        "cars_sample_02.shape"
      ],
      "execution_count": 58,
      "outputs": [
        {
          "output_type": "execute_result",
          "data": {
            "text/plain": [
              "(183175, 14)"
            ]
          },
          "metadata": {
            "tags": []
          },
          "execution_count": 58
        }
      ]
    },
    {
      "cell_type": "code",
      "metadata": {
        "id": "0Z8ApgmEPK5q",
        "colab": {
          "base_uri": "https://localhost:8080/"
        },
        "outputId": "b7f06279-966e-471b-abf0-cc2c7bbc4b27"
      },
      "source": [
        "# Removing Blanks Results\n",
        "cars_sample_03 = cars_sample_02[cars_sample_02['OVERALL_RESULT'].notnull()]\n",
        "cars_sample_03.shape"
      ],
      "execution_count": 59,
      "outputs": [
        {
          "output_type": "execute_result",
          "data": {
            "text/plain": [
              "(183174, 14)"
            ]
          },
          "metadata": {
            "tags": []
          },
          "execution_count": 59
        }
      ]
    },
    {
      "cell_type": "code",
      "metadata": {
        "id": "7qZ9_TjWPbfl",
        "colab": {
          "base_uri": "https://localhost:8080/"
        },
        "outputId": "ed84f71f-51d6-452d-ccbd-f7331c889083"
      },
      "source": [
        "cars_sample_03.groupby('OVERALL_RESULT')['RecordID'].nunique()"
      ],
      "execution_count": 60,
      "outputs": [
        {
          "output_type": "execute_result",
          "data": {
            "text/plain": [
              "OVERALL_RESULT\n",
              "F     13354\n",
              "P    169820\n",
              "Name: RecordID, dtype: int64"
            ]
          },
          "metadata": {
            "tags": []
          },
          "execution_count": 60
        }
      ]
    },
    {
      "cell_type": "code",
      "metadata": {
        "colab": {
          "base_uri": "https://localhost:8080/"
        },
        "id": "UWT0rDdGoemm",
        "outputId": "9dac1bde-aebe-4cfb-92d0-93d3975c6e26"
      },
      "source": [
        "cars_sample_03.isnull().sum()"
      ],
      "execution_count": 61,
      "outputs": [
        {
          "output_type": "execute_result",
          "data": {
            "text/plain": [
              "RecordID             0\n",
              "VIN                  0\n",
              "GVWR              5119\n",
              "MODEL_YEAR           0\n",
              "MAKE                 0\n",
              "MODEL                2\n",
              "CYL                  0\n",
              "ENGINE_SIZE          0\n",
              "TRANS_TYPE           0\n",
              "DUAL_EXHAUST         0\n",
              "ODOMETER           902\n",
              "FUEL_TYPE            0\n",
              "OVERALL_RESULT       0\n",
              "TEST_EDATE           0\n",
              "dtype: int64"
            ]
          },
          "metadata": {
            "tags": []
          },
          "execution_count": 61
        }
      ]
    },
    {
      "cell_type": "code",
      "metadata": {
        "id": "IssHxGoBPPqY"
      },
      "source": [
        "# Replacing Data errors in Make column\n",
        "cars_sample_03['MAKE'] = cars_sample_03['MAKE'].replace(['HUMMERRR'],'HUMMER')\n",
        "cars_sample_03['MAKE'] = cars_sample_03['MAKE'].replace(['RANGEROVER'],'RANGE ROVER')\n",
        "cars_sample_03['MAKE'] = cars_sample_03['MAKE'].replace(['ALFAROMEO'],'ALFA ROMEO')\n",
        "cars_sample_03['MAKE'] = cars_sample_03['MAKE'].replace(['ALPHA ROMEO'],'ALFA ROMEO')\n",
        "cars_sample_03['MAKE'] = cars_sample_03['MAKE'].replace(['AGMGENERA'],'AMGENERAL')\n",
        "cars_sample_03['MAKE'] = cars_sample_03['MAKE'].replace(['GENERAL'],'AMGENERAL')\n",
        "cars_sample_03['MAKE'] = cars_sample_03['MAKE'].replace(['MINNI'],'MINI')\n",
        "cars_sample_03['MAKE'] = cars_sample_03['MAKE'].replace(['MINCOOPER'],'MINI')\n",
        "cars_sample_03['MAKE'] = cars_sample_03['MAKE'].replace(['MINI COOPER'],'MINI')\n",
        "cars_sample_03['MAKE'] = cars_sample_03['MAKE'].replace(['MINI COOPER S'],'MINI')\n",
        "cars_sample_03['MAKE'] = cars_sample_03['MAKE'].replace(['MINICOOPER'],'MINI')\n",
        "cars_sample_03['MAKE'] = cars_sample_03['MAKE'].replace(['MINICOPPER'],'MINI')\n",
        "cars_sample_03['MAKE'] = cars_sample_03['MAKE'].replace(['COOPER'],'MINI')\n",
        "cars_sample_03['MAKE'] = cars_sample_03['MAKE'].replace(['COOPER'],'MINI')\n",
        "cars_sample_03['MAKE'] = cars_sample_03['MAKE'].replace(['FIAT500L'],'FIAT')\n",
        "cars_sample_03['MAKE'] = cars_sample_03['MAKE'].replace(['FIAT 500'],'FIAT')\n",
        "cars_sample_03['MAKE'] = cars_sample_03['MAKE'].replace(['RAM 1500'],'RAM')\n",
        "cars_sample_03['MAKE'] = cars_sample_03['MAKE'].replace(['1500RAM'],'RAM')\n",
        "cars_sample_03['MAKE'] = cars_sample_03['MAKE'].replace(['RAM1500'],'RAM')\n",
        "cars_sample_03['MAKE'] = cars_sample_03['MAKE'].replace(['SMARTCAR'],'SMART')\n",
        "cars_sample_03['MAKE'] = cars_sample_03['MAKE'].replace(['300'],'CHRYSLER')\n",
        "cars_sample_03['MAKE'] = cars_sample_03['MAKE'].replace(['200'],'CHRYSLER')\n",
        "\n"
      ],
      "execution_count": 62,
      "outputs": []
    },
    {
      "cell_type": "code",
      "metadata": {
        "id": "m37jx5hpPPqZ"
      },
      "source": [
        "# Replacing Data errors in Model column\n",
        "cars_sample_03['MODEL'] = cars_sample_03['MODEL'].replace(['TIQUAN'],'TIGUAN')\n",
        "cars_sample_03['MODEL'] = cars_sample_03['MODEL'].replace(['TIGAUN'],'TIGUAN')\n",
        "cars_sample_03['MODEL'] = cars_sample_03['MODEL'].replace(['RABIT'],'RABBIT')\n",
        "cars_sample_03['MODEL'] = cars_sample_03['MODEL'].replace(['COROLLAS'],'COROLLA S')\n",
        "cars_sample_03['MODEL'] = cars_sample_03['MODEL'].replace(['FJCRUSIER'],'FJ CRUISER')\n",
        "cars_sample_03['MODEL'] = cars_sample_03['MODEL'].replace(['FJFCRUISER'],'FJ CRUISER')\n",
        "cars_sample_03['MODEL'] = cars_sample_03['MODEL'].replace(['FJCRUISER'],'FJ CRUISER')\n",
        "cars_sample_03['MODEL'] = cars_sample_03['MODEL'].replace(['HILANDER'],'HIGHLANDER')\n",
        "cars_sample_03['MODEL'] = cars_sample_03['MODEL'].replace(['PRUISC'],'PRIUS C')\n",
        "cars_sample_03['MODEL'] = cars_sample_03['MODEL'].replace(['VENSA'],'VENZA')\n",
        "cars_sample_03['MODEL'] = cars_sample_03['MODEL'].replace(['B9TRIBECA'],'B9 TRIBECA')\n",
        "cars_sample_03['MODEL'] = cars_sample_03['MODEL'].replace(['CROSSTRACK'],'CROSSTREK')\n",
        "cars_sample_03['MODEL'] = cars_sample_03['MODEL'].replace(['CROSS TREK'],'CROSSTREK')\n",
        "cars_sample_03['MODEL'] = cars_sample_03['MODEL'].replace(['CROSSTREX'],'CROSSTREK')\n",
        "cars_sample_03['MODEL'] = cars_sample_03['MODEL'].replace(['OUTBCK'],'OUTBACK')\n",
        "cars_sample_03['MODEL'] = cars_sample_03['MODEL'].replace(['TREBECA'],'TRIBECA')\n",
        "cars_sample_03['MODEL'] = cars_sample_03['MODEL'].replace(['XV CROSSTRAK'],'XV CROSSTREK')\n",
        "cars_sample_03['MODEL'] = cars_sample_03['MODEL'].replace(['XV CROSSTRAK'],'XV CROSSTREK')\n",
        "cars_sample_03['MODEL'] = cars_sample_03['MODEL'].replace(['XVCROSSTREK'],'XV CROSSTREK')\n",
        "cars_sample_03['MODEL'] = cars_sample_03['MODEL'].replace(['XVCROSSTRERK'],'XV CROSSTREK')\n",
        "cars_sample_03['MODEL'] = cars_sample_03['MODEL'].replace(['XVCROSTREK'],'XV CROSSTREK')\n",
        "cars_sample_03['MODEL'] = cars_sample_03['MODEL'].replace(['FOURTWO'],'FORTWO')\n",
        "cars_sample_03['MODEL'] = cars_sample_03['MODEL'].replace(['PRO MASTER'],'PROMASTER')\n",
        "cars_sample_03['MODEL'] = cars_sample_03['MODEL'].replace(['CAYMEN'],'CAYMAN')\n",
        "cars_sample_03['MODEL'] = cars_sample_03['MODEL'].replace(['CAYMAM'],'CAYMAN')\n",
        "cars_sample_03['MODEL'] = cars_sample_03['MODEL'].replace(['MACANS'],'MACAN S')\n",
        "cars_sample_03['MODEL'] = cars_sample_03['MODEL'].replace(['TORRANT'],'TORRENT')\n",
        "cars_sample_03['MODEL'] = cars_sample_03['MODEL'].replace(['TORENT'],'TORRENT')\n",
        "cars_sample_03['MODEL'] = cars_sample_03['MODEL'].replace(['TRANSAM'],'TRANS AM')\n",
        "cars_sample_03['MODEL'] = cars_sample_03['MODEL'].replace(['SOSTICE'],'SOLSTICE')\n",
        "cars_sample_03['MODEL'] = cars_sample_03['MODEL'].replace(['SOLTICE'],'SOLSTICE')\n",
        "cars_sample_03['MODEL'] = cars_sample_03['MODEL'].replace(['GRANDVOYAGER'],'GRAND VOYAGER')\n",
        "cars_sample_03['MODEL'] = cars_sample_03['MODEL'].replace(['EIGHTYEIGHT'],'EIGHTY-EIGHT')\n",
        "cars_sample_03['MODEL'] = cars_sample_03['MODEL'].replace(['EIGHTY EIGHT'],'EIGHTY-EIGHT')\n",
        "cars_sample_03['MODEL'] = cars_sample_03['MODEL'].replace(['3.5 RL'],['3.5RL'])\n",
        "cars_sample_03['MODEL'] = cars_sample_03['MODEL'].replace(['TL 2.5'],['2.5TL'])\n",
        "cars_sample_03['MODEL'] = cars_sample_03['MODEL'].replace(['TL 3.2'],['3.2TL'])\n",
        "cars_sample_03['MODEL'] = cars_sample_03['MODEL'].replace(['TYPES'],['TLX TYPE S'])\n",
        "cars_sample_03['MODEL'] = cars_sample_03['MODEL'].replace(['H2'],['HUMMERH2'])\n",
        "cars_sample_03['MODEL'] = cars_sample_03['MODEL'].replace(['H3'],['HUMMERH3'])\n",
        "cars_sample_03['MODEL'] = cars_sample_03['MODEL'].replace(['A4 AVANT'],['A4'])\n",
        "cars_sample_03['MODEL'] = cars_sample_03['MODEL'].replace(['A4 AVANT QUATTRO'],['A4 QUATTRO'])\n",
        "cars_sample_03['MODEL'] = cars_sample_03['MODEL'].replace(['A5'],['A5 QUATTRO'])\n",
        "cars_sample_03['MODEL'] = cars_sample_03['MODEL'].replace(['A6'],['A6 QUATTRO'])\n",
        "cars_sample_03['MODEL'] = cars_sample_03['MODEL'].replace(['A7'],['A7 QUATTRO'])\n",
        "cars_sample_03['MODEL'] = cars_sample_03['MODEL'].replace(['A8'],['A8 QUATTRO'])\n",
        "cars_sample_03['MODEL'] = cars_sample_03['MODEL'].replace(['ALLROAD'],['A6 QUATTRO'])\n",
        "cars_sample_03['MODEL'] = cars_sample_03['MODEL'].replace(['A5'],['A5 QUATTRO'])\n",
        "cars_sample_03['MODEL'] = cars_sample_03['MODEL'].replace(['Q5 QUATTRO'],['Q5'])\n",
        "cars_sample_03['MODEL'] = cars_sample_03['MODEL'].replace(['TT'],['TT COUPE'])\n",
        "cars_sample_03['MODEL'] = cars_sample_03['MODEL'].replace(['TT ROADSTER QUATTRO'],['TT ROADSTER'])\n",
        "cars_sample_03['MODEL'] = cars_sample_03['MODEL'].replace(['128'],['128I'])\n",
        "cars_sample_03['MODEL'] = cars_sample_03['MODEL'].replace(['135CI'],['135I'])\n",
        "cars_sample_03['MODEL'] = cars_sample_03['MODEL'].replace(['135'],['135I'])\n",
        "cars_sample_03['MODEL'] = cars_sample_03['MODEL'].replace(['228'],['228I'])\n",
        "cars_sample_03['MODEL'] = cars_sample_03['MODEL'].replace(['228CI'],['228I'])\n",
        "cars_sample_03['MODEL'] = cars_sample_03['MODEL'].replace(['320'],['320I'])\n",
        "cars_sample_03['MODEL'] = cars_sample_03['MODEL'].replace(['335'],['335I'])\n",
        "cars_sample_03['MODEL'] = cars_sample_03['MODEL'].replace(['228'],['228I'])\n",
        "cars_sample_03['MODEL'] = cars_sample_03['MODEL'].replace(['428'],['428I'])\n",
        "cars_sample_03['MODEL'] = cars_sample_03['MODEL'].replace(['428CI'],['428I'])\n",
        "cars_sample_03['MODEL'] = cars_sample_03['MODEL'].replace(['435 I'],['435I'])\n",
        "cars_sample_03['MODEL'] = cars_sample_03['MODEL'].replace(['435'],['435I'])\n",
        "cars_sample_03['MODEL'] = cars_sample_03['MODEL'].replace(['528'],['528I'])\n",
        "cars_sample_03['MODEL'] = cars_sample_03['MODEL'].replace(['428'],['428I'])\n",
        "cars_sample_03['MODEL'] = cars_sample_03['MODEL'].replace(['1SERIES'],['1-SERIES'])\n",
        "cars_sample_03['MODEL'] = cars_sample_03['MODEL'].replace(['3 SERIES'],['3-SERIES'])\n",
        "cars_sample_03['MODEL'] = cars_sample_03['MODEL'].replace(['328XI'],['328 XI'])\n",
        "cars_sample_03['MODEL'] = cars_sample_03['MODEL'].replace(['4 SERIES 428I'],['428I'])\n",
        "cars_sample_03['MODEL'] = cars_sample_03['MODEL'].replace(['428IC'],['428I'])\n",
        "cars_sample_03['MODEL'] = cars_sample_03['MODEL'].replace(['435 I'],['435I'])\n",
        "cars_sample_03['MODEL'] = cars_sample_03['MODEL'].replace(['5 SERIES'],['5-SERIES'])\n",
        "cars_sample_03['MODEL'] = cars_sample_03['MODEL'].replace(['6 SERIES'],['6-SERIES'])\n",
        "cars_sample_03['MODEL'] = cars_sample_03['MODEL'].replace(['7 SERIES'],['7-SERIES'])\n",
        "cars_sample_03['MODEL'] = cars_sample_03['MODEL'].replace(['MINI'],['MINICOOPER'])\n",
        "cars_sample_03['MODEL'] = cars_sample_03['MODEL'].replace(['MINI COOPER'],['MINICOOPER'])\n",
        "cars_sample_03['MODEL'] = cars_sample_03['MODEL'].replace(['COOPER'],['MINICOOPER'])\n",
        "cars_sample_03['MODEL'] = cars_sample_03['MODEL'].replace(['MINICOOPERS'],['MINICOOPER'])\n",
        "cars_sample_03['MODEL'] = cars_sample_03['MODEL'].replace(['Z4'],['Z4 ROADSTER'])\n",
        "cars_sample_03['MODEL'] = cars_sample_03['MODEL'].replace(['KACROSSE'],['LACROSSE'])\n",
        "cars_sample_03['MODEL'] = cars_sample_03['MODEL'].replace(['LACROSS'],['LACROSSE'])\n",
        "cars_sample_03['MODEL'] = cars_sample_03['MODEL'].replace(['LACROOSE'],['LACROSSE'])\n",
        "cars_sample_03['MODEL'] = cars_sample_03['MODEL'].replace(['LACR'],['LACROSSE'])\n",
        "cars_sample_03['MODEL'] = cars_sample_03['MODEL'].replace(['LECERN'],['LUCERNE'])\n",
        "cars_sample_03['MODEL'] = cars_sample_03['MODEL'].replace(['LUCERN'],['LUCERNE'])\n",
        "cars_sample_03['MODEL'] = cars_sample_03['MODEL'].replace(['LUCERENE'],['LUCERNE'])\n",
        "cars_sample_03['MODEL'] = cars_sample_03['MODEL'].replace(['RAINIER AWD'],['RAINIER'])\n",
        "cars_sample_03['MODEL'] = cars_sample_03['MODEL'].replace(['TERZZA'],['TERRAZA'])\n",
        "cars_sample_03['MODEL'] = cars_sample_03['MODEL'].replace(['ESCALADEEXT'],['ESCALADE EXT'])\n",
        "cars_sample_03['MODEL'] = cars_sample_03['MODEL'].replace(['LECERN'],['LUCERNE'])\n",
        "cars_sample_03['MODEL'] = cars_sample_03['MODEL'].replace(['AVALANCH'],['AVALANCHE'])\n",
        "cars_sample_03['MODEL'] = cars_sample_03['MODEL'].replace(['COBALTLT'],['COBALT'])\n",
        "cars_sample_03['MODEL'] = cars_sample_03['MODEL'].replace(['COLBALT'],['COBALT'])\n",
        "cars_sample_03['MODEL'] = cars_sample_03['MODEL'].replace(['COBALTLTZ'],['COBALT'])\n",
        "cars_sample_03['MODEL'] = cars_sample_03['MODEL'].replace(['COBOLT'],['COBALT'])\n",
        "cars_sample_03['MODEL'] = cars_sample_03['MODEL'].replace(['EXPRESS2500'],['EXPRESS 2500'])\n",
        "cars_sample_03['MODEL'] = cars_sample_03['MODEL'].replace(['EXPRESS3500'],['EXPRESS 3500'])\n",
        "cars_sample_03['MODEL'] = cars_sample_03['MODEL'].replace(['G3500VAN'],['G3500'])\n",
        "cars_sample_03['MODEL'] = cars_sample_03['MODEL'].replace(['G3500EXPRESS'],['G3500'])\n",
        "cars_sample_03['MODEL'] = cars_sample_03['MODEL'].replace(['G3500 CHEVY VAN'],['G3500'])\n",
        "cars_sample_03['MODEL'] = cars_sample_03['MODEL'].replace(['G2500EXPRESS'],['G2500'])\n",
        "cars_sample_03['MODEL'] = cars_sample_03['MODEL'].replace(['IMPALA SS'],['IMPALA'])\n",
        "cars_sample_03['MODEL'] = cars_sample_03['MODEL'].replace(['MALIBUMAX'],['MALIBU MAXX'])\n",
        "cars_sample_03['MODEL'] = cars_sample_03['MODEL'].replace(['S-10'],['S10'])\n",
        "cars_sample_03['MODEL'] = cars_sample_03['MODEL'].replace(['SILVERARDO'],['SILVERADO'])\n",
        "cars_sample_03['MODEL'] = cars_sample_03['MODEL'].replace(['SLVERADO'],['SILVERADO'])\n",
        "cars_sample_03['MODEL'] = cars_sample_03['MODEL'].replace(['SILVARADO'],['SILVERADO'])\n",
        "cars_sample_03['MODEL'] = cars_sample_03['MODEL'].replace(['SUBURBAN1500'],['SUBURBAN 1500'])\n",
        "cars_sample_03['MODEL'] = cars_sample_03['MODEL'].replace(['SUBARBEN'],['SUBURBAN'])\n",
        "cars_sample_03['MODEL'] = cars_sample_03['MODEL'].replace(['SURBARBAN'],['SUBURBAN'])\n",
        "cars_sample_03['MODEL'] = cars_sample_03['MODEL'].replace(['UPANDER'],['UPLANDER'])\n",
        "cars_sample_03['MODEL'] = cars_sample_03['MODEL'].replace(['UPLANDERLT'],['UPLANDER'])\n",
        "cars_sample_03['MODEL'] = cars_sample_03['MODEL'].replace(['300C'],['300 C'])\n",
        "cars_sample_03['MODEL'] = cars_sample_03['MODEL'].replace(['VOGAGER'],['VOYAGER'])\n",
        "cars_sample_03['MODEL'] = cars_sample_03['MODEL'].replace(['CALIBUR'],['CALIBER'])\n",
        "cars_sample_03['MODEL'] = cars_sample_03['MODEL'].replace(['CALIPER'],['CALIBER'])\n",
        "cars_sample_03['MODEL'] = cars_sample_03['MODEL'].replace(['CALIBIER'],['CALIBER'])\n",
        "cars_sample_03['MODEL'] = cars_sample_03['MODEL'].replace(['CHR'],['CHARGER'])\n",
        "cars_sample_03['MODEL'] = cars_sample_03['MODEL'].replace(['CHAR'],['CHARGER'])\n",
        "cars_sample_03['MODEL'] = cars_sample_03['MODEL'].replace(['CHR'],['CHARGER'])\n",
        "cars_sample_03['MODEL'] = cars_sample_03['MODEL'].replace(['DHARGER'],['CHARGER'])\n",
        "cars_sample_03['MODEL'] = cars_sample_03['MODEL'].replace(['GRANDCARAVAN'],['GRAND CARAVAN'])\n",
        "cars_sample_03['MODEL'] = cars_sample_03['MODEL'].replace(['MAG'],['MAGNUM'])\n",
        "cars_sample_03['MODEL'] = cars_sample_03['MODEL'].replace(['MAGMUM'],['MAGNUM'])\n",
        "cars_sample_03['MODEL'] = cars_sample_03['MODEL'].replace(['MAGN'],['MAGNUM'])\n",
        "cars_sample_03['MODEL'] = cars_sample_03['MODEL'].replace(['MASGNUM'],['MAGNUM'])\n",
        "cars_sample_03['MODEL'] = cars_sample_03['MODEL'].replace(['GIULA'],['GIULIA'])\n",
        "cars_sample_03['MODEL'] = cars_sample_03['MODEL'].replace(['CAMERO'],['CAMARO'])\n",
        "cars_sample_03['MODEL'] = cars_sample_03['MODEL'].replace(['CRUZ'],['CRUZE'])\n",
        "cars_sample_03['MODEL'] = cars_sample_03['MODEL'].replace(['CRUIZE'],['CRUZE'])\n",
        "cars_sample_03['MODEL'] = cars_sample_03['MODEL'].replace(['CRUSE'],['CRUZE'])\n",
        "cars_sample_03['MODEL'] = cars_sample_03['MODEL'].replace(['CURZ'],['CRUZE'])\n",
        "cars_sample_03['MODEL'] = cars_sample_03['MODEL'].replace(['CRUISE'],['CRUZE'])\n",
        "cars_sample_03['MODEL'] = cars_sample_03['MODEL'].replace(['CRUIZE'],['CRUZE'])\n",
        "cars_sample_03['MODEL'] = cars_sample_03['MODEL'].replace(['EQUONOX'],['EQUINOX'])\n",
        "cars_sample_03['MODEL'] = cars_sample_03['MODEL'].replace(['EQINOX'],['EQUINOX'])\n",
        "cars_sample_03['MODEL'] = cars_sample_03['MODEL'].replace(['EQU'],['EQUINOX'])\n",
        "cars_sample_03['MODEL'] = cars_sample_03['MODEL'].replace(['EQUIONOX'],['EQUINOX'])\n",
        "cars_sample_03['MODEL'] = cars_sample_03['MODEL'].replace(['EQUNIOX'],['EQUINOX'])\n",
        "cars_sample_03['MODEL'] = cars_sample_03['MODEL'].replace(['EQUIOX'],['EQUINOX'])\n",
        "cars_sample_03['MODEL'] = cars_sample_03['MODEL'].replace(['EQUINIOUX'],['EQUINOX'])\n",
        "cars_sample_03['MODEL'] = cars_sample_03['MODEL'].replace(['EQ'],['EQUINOX'])\n",
        "cars_sample_03['MODEL'] = cars_sample_03['MODEL'].replace(['EQUNOIX'],['EQUINOX'])\n",
        "cars_sample_03['MODEL'] = cars_sample_03['MODEL'].replace(['EUNIOX'],['EQUINOX'])\n",
        "cars_sample_03['MODEL'] = cars_sample_03['MODEL'].replace(['HHRHHR'],['HHR'])\n",
        "cars_sample_03['MODEL'] = cars_sample_03['MODEL'].replace(['HHT'],['HHR'])\n",
        "cars_sample_03['MODEL'] = cars_sample_03['MODEL'].replace(['K5BLAZER'],['K5 BLAZER'])\n",
        "cars_sample_03['MODEL'] = cars_sample_03['MODEL'].replace(['TRRAVERSE'],['TRAVERSE'])\n",
        "cars_sample_03['MODEL'] = cars_sample_03['MODEL'].replace(['TREVERSE'],['TRAVERSE'])\n",
        "cars_sample_03['MODEL'] = cars_sample_03['MODEL'].replace(['TRAVRSE'],['TRAVERSE'])\n",
        "cars_sample_03['MODEL'] = cars_sample_03['MODEL'].replace(['TRANSVERSE'],['TRAVERSE'])\n",
        "cars_sample_03['MODEL'] = cars_sample_03['MODEL'].replace(['TRAVERS'],['TRAVERSE'])\n",
        "cars_sample_03['MODEL'] = cars_sample_03['MODEL'].replace(['AVEGER'],['AVENGER'])\n",
        "cars_sample_03['MODEL'] = cars_sample_03['MODEL'].replace(['AVENEGER'],['AVENGER'])\n",
        "cars_sample_03['MODEL'] = cars_sample_03['MODEL'].replace(['AVANGER'],['AVENGER'])\n",
        "cars_sample_03['MODEL'] = cars_sample_03['MODEL'].replace(['ADENGER'],['AVENGER'])\n",
        "cars_sample_03['MODEL'] = cars_sample_03['MODEL'].replace(['AVRNGR'],['AVENGER'])\n",
        "cars_sample_03['MODEL'] = cars_sample_03['MODEL'].replace(['CACLBER'],['CALIBER'])\n",
        "cars_sample_03['MODEL'] = cars_sample_03['MODEL'].replace(['CALIBRE'],['CALIBER'])\n",
        "cars_sample_03['MODEL'] = cars_sample_03['MODEL'].replace(['CALIBOR'],['CALIBER'])\n",
        "cars_sample_03['MODEL'] = cars_sample_03['MODEL'].replace(['CAHRGER'],['CHARGER'])\n",
        "cars_sample_03['MODEL'] = cars_sample_03['MODEL'].replace(['CHARGRR'],['CHARGER'])\n",
        "cars_sample_03['MODEL'] = cars_sample_03['MODEL'].replace(['CHALENGER'],['CHALLENGER'])\n",
        "cars_sample_03['MODEL'] = cars_sample_03['MODEL'].replace(['CHALLERNEGER'],['CHALLENGER'])\n",
        "cars_sample_03['MODEL'] = cars_sample_03['MODEL'].replace(['CHALLENGER'],['CHALLENGER'])\n",
        "cars_sample_03['MODEL'] = cars_sample_03['MODEL'].replace(['CHALLENER'],['CHALLENGER'])\n",
        "cars_sample_03['MODEL'] = cars_sample_03['MODEL'].replace(['CHALANGER'],['CHALLENGER'])\n",
        "cars_sample_03['MODEL'] = cars_sample_03['MODEL'].replace(['CHALENGER'],['CHALLENGER'])\n",
        "cars_sample_03['MODEL'] = cars_sample_03['MODEL'].replace(['JOURNY'],['JOURNEY'])\n",
        "cars_sample_03['MODEL'] = cars_sample_03['MODEL'].replace(['JUOR'],['JOURNEY'])\n",
        "cars_sample_03['MODEL'] = cars_sample_03['MODEL'].replace(['PROWMASTER'],['PROMASTER'])\n",
        "cars_sample_03['MODEL'] = cars_sample_03['MODEL'].replace(['PROMASTERCITY'],['PROMASTER CITY'])\n",
        "cars_sample_03['MODEL'] = cars_sample_03['MODEL'].replace(['CLUBWAGON'],['CLUB WAGON'])\n",
        "cars_sample_03['MODEL'] = cars_sample_03['MODEL'].replace(['PROWMASTER'],['PROMASTER'])\n",
        "cars_sample_03['MODEL'] = cars_sample_03['MODEL'].replace(['CMAXX'],['CMAX'])\n",
        "cars_sample_03['MODEL'] = cars_sample_03['MODEL'].replace(['ECOSPRT'],['ECOSPORT'])\n",
        "cars_sample_03['MODEL'] = cars_sample_03['MODEL'].replace(['ESCAB'],['ESCAPE'])\n",
        "cars_sample_03['MODEL'] = cars_sample_03['MODEL'].replace(['EXCURSIN'],['EXCURSION'])\n",
        "cars_sample_03['MODEL'] = cars_sample_03['MODEL'].replace(['EXPLORER 2-DR.'],['EXPLORER 2DR'])\n",
        "cars_sample_03['MODEL'] = cars_sample_03['MODEL'].replace(['EXPLORER 4-DR.'],['EXPLORER 4DR'])\n",
        "cars_sample_03['MODEL'] = cars_sample_03['MODEL'].replace(['EXPLORER 2-DR.'],['EXPLORER 2DR'])\n",
        "cars_sample_03['MODEL'] = cars_sample_03['MODEL'].replace(['EXPLORERSPORTRAC'],['EXPLORERSPORTTRAC'])\n",
        "cars_sample_03['MODEL'] = cars_sample_03['MODEL'].replace(['EXPLORERSPORTTRACK'],['EXPLORERSPORTTRAC'])\n",
        "cars_sample_03['MODEL'] = cars_sample_03['MODEL'].replace(['EXPLORERSPORTTRACT'],['EXPLORERSPORTTRAC'])\n",
        "cars_sample_03['MODEL'] = cars_sample_03['MODEL'].replace(['EXPLORERSPORTRAC'],['EXPLORERSPORTTRAC'])\n",
        "cars_sample_03['MODEL'] = cars_sample_03['MODEL'].replace(['EXPOLRERSPORTTRAX'],['EXPLORERSPORTTRAC'])\n",
        "cars_sample_03['MODEL'] = cars_sample_03['MODEL'].replace(['EXPOLERSPORTTRAX'],['EXPLORERSPORTTRAC'])\n",
        "cars_sample_03['MODEL'] = cars_sample_03['MODEL'].replace(['FEISTA'],['FIESTA'])\n",
        "cars_sample_03['MODEL'] = cars_sample_03['MODEL'].replace(['FISTA'],['FIESTA'])\n",
        "cars_sample_03['MODEL'] = cars_sample_03['MODEL'].replace(['FIVEHUNDRED'],['FIVE HUNDRED'])\n",
        "cars_sample_03['MODEL'] = cars_sample_03['MODEL'].replace(['FIVEHUNRED'],['FIVE HUNDRED'])\n",
        "cars_sample_03['MODEL'] = cars_sample_03['MODEL'].replace(['FUSHION'],['FUSION'])\n",
        "cars_sample_03['MODEL'] = cars_sample_03['MODEL'].replace(['FUSCION'],['FUSION'])\n",
        "cars_sample_03['MODEL'] = cars_sample_03['MODEL'].replace(['FUS'],['FUSION'])\n",
        "cars_sample_03['MODEL'] = cars_sample_03['MODEL'].replace(['FUCION'],['FUSION'])\n",
        "cars_sample_03['MODEL'] = cars_sample_03['MODEL'].replace(['MUSTANGGT'],['MUSTANG GT'])\n",
        "cars_sample_03['MODEL'] = cars_sample_03['MODEL'].replace(['POLICEINTERCEPTOR'],['POLICE INTERCEPTOR'])\n",
        "cars_sample_03['MODEL'] = cars_sample_03['MODEL'].replace(['POLICE INTERCEPTO'],['POLICE INTERCEPTOR'])\n",
        "cars_sample_03['MODEL'] = cars_sample_03['MODEL'].replace(['SPORTTRACK'],['SPORTTRAC'])\n",
        "cars_sample_03['MODEL'] = cars_sample_03['MODEL'].replace(['SRORTTRAC'],['SPORTTRAC'])\n",
        "cars_sample_03['MODEL'] = cars_sample_03['MODEL'].replace(['SPORTRACK'],['SPORTTRAC'])\n",
        "cars_sample_03['MODEL'] = cars_sample_03['MODEL'].replace(['TRANSIT150'],['TRANSIT 150'])\n",
        "cars_sample_03['MODEL'] = cars_sample_03['MODEL'].replace(['TRANSIT250'],['TRANSIT 250'])\n",
        "cars_sample_03['MODEL'] = cars_sample_03['MODEL'].replace(['TRANSIT350'],['TRANSIT 350'])\n",
        "cars_sample_03['MODEL'] = cars_sample_03['MODEL'].replace(['TRANSITT350'],['TRANSIT T350'])\n",
        "cars_sample_03['MODEL'] = cars_sample_03['MODEL'].replace(['PRISM'],['PRIZM'])\n",
        "cars_sample_03['MODEL'] = cars_sample_03['MODEL'].replace(['ARCADIA'],['ACADIA'])\n",
        "cars_sample_03['MODEL'] = cars_sample_03['MODEL'].replace(['ACAIDA'],['ACADIA'])\n",
        "cars_sample_03['MODEL'] = cars_sample_03['MODEL'].replace(['ACAIDIA'],['ACADIA'])\n",
        "cars_sample_03['MODEL'] = cars_sample_03['MODEL'].replace(['G1500SAVANA'],['G1500 SAVANA'])\n",
        "cars_sample_03['MODEL'] = cars_sample_03['MODEL'].replace(['SIERA'],['SIERRA'])\n",
        "cars_sample_03['MODEL'] = cars_sample_03['MODEL'].replace(['SERRRA'],['SIERRA'])\n",
        "cars_sample_03['MODEL'] = cars_sample_03['MODEL'].replace(['SIRRA'],['SIERRA'])\n",
        "cars_sample_03['MODEL'] = cars_sample_03['MODEL'].replace(['TERRIAN'],['TERRAIN'])\n",
        "cars_sample_03['MODEL'] = cars_sample_03['MODEL'].replace(['TERRAN'],['TERRAIN'])\n",
        "cars_sample_03['MODEL'] = cars_sample_03['MODEL'].replace(['TERAIN'],['TERRAIN'])\n",
        "cars_sample_03['MODEL'] = cars_sample_03['MODEL'].replace(['TERR'],['TERRAIN'])\n",
        "cars_sample_03['MODEL'] = cars_sample_03['MODEL'].replace(['ACCORD 3'],['ACCORD'])\n",
        "cars_sample_03['MODEL'] = cars_sample_03['MODEL'].replace(['ACCORD CPE'],['ACCORD COUPE'])\n",
        "cars_sample_03['MODEL'] = cars_sample_03['MODEL'].replace(['CLAIRITY'],['CLARITY'])\n",
        "cars_sample_03['MODEL'] = cars_sample_03['MODEL'].replace(['CRV'],['CR-V'])\n",
        "cars_sample_03['MODEL'] = cars_sample_03['MODEL'].replace(['RIDGLINE'],['RIDGELINE'])\n",
        "cars_sample_03['MODEL'] = cars_sample_03['MODEL'].replace(['RIDELINE'],['RIDGELINE'])\n",
        "cars_sample_03['MODEL'] = cars_sample_03['MODEL'].replace(['AZER'],['AZERA'])\n",
        "cars_sample_03['MODEL'] = cars_sample_03['MODEL'].replace(['RIDGLINE'],['RIDGELINE'])\n",
        "cars_sample_03['MODEL'] = cars_sample_03['MODEL'].replace(['ELTOURAGE'],['ENTOURAGE'])\n",
        "cars_sample_03['MODEL'] = cars_sample_03['MODEL'].replace(['GENISIS'],['GENESIS'])\n",
        "cars_sample_03['MODEL'] = cars_sample_03['MODEL'].replace(['GENISYS'],['GENESIS'])\n",
        "cars_sample_03['MODEL'] = cars_sample_03['MODEL'].replace(['GESESIS'],['GENESIS'])\n",
        "cars_sample_03['MODEL'] = cars_sample_03['MODEL'].replace(['IONIC'],['IONIQ'])\n",
        "cars_sample_03['MODEL'] = cars_sample_03['MODEL'].replace(['SANTEFE'],['SANTAFE'])\n",
        "cars_sample_03['MODEL'] = cars_sample_03['MODEL'].replace(['SANTA FE'],['SANTAFE'])\n",
        "cars_sample_03['MODEL'] = cars_sample_03['MODEL'].replace(['TUSON'],['TUCSON'])\n",
        "cars_sample_03['MODEL'] = cars_sample_03['MODEL'].replace(['TUSCON'],['TUCSON'])\n",
        "cars_sample_03['MODEL'] = cars_sample_03['MODEL'].replace(['TUSCAN'],['TUCSON'])\n",
        "cars_sample_03['MODEL'] = cars_sample_03['MODEL'].replace(['VEACRUZ'],['VERACRUZ'])\n",
        "cars_sample_03['MODEL'] = cars_sample_03['MODEL'].replace(['VARACRUZ'],['VERACRUZ'])\n",
        "cars_sample_03['MODEL'] = cars_sample_03['MODEL'].replace(['VERACRUZE'],['VERACRUZ'])\n",
        "cars_sample_03['MODEL'] = cars_sample_03['MODEL'].replace(['VELASTER'],['VELOSTER'])\n",
        "cars_sample_03['MODEL'] = cars_sample_03['MODEL'].replace(['VELOSTAR'],['VELOSTER'])\n",
        "cars_sample_03['MODEL'] = cars_sample_03['MODEL'].replace(['VELOCETER'],['VELOSTER'])\n",
        "cars_sample_03['MODEL'] = cars_sample_03['MODEL'].replace(['FPACE'],['F PACE'])\n",
        "cars_sample_03['MODEL'] = cars_sample_03['MODEL'].replace(['F PASE'],['F PACE'])\n",
        "cars_sample_03['MODEL'] = cars_sample_03['MODEL'].replace(['FTYPE'],['F TYPE'])\n",
        "cars_sample_03['MODEL'] = cars_sample_03['MODEL'].replace(['CHSROKEE'],['CHEROKEE'])\n",
        "cars_sample_03['MODEL'] = cars_sample_03['MODEL'].replace(['CHEROKE'],['CHEROKEE'])\n",
        "cars_sample_03['MODEL'] = cars_sample_03['MODEL'].replace(['COMANDER'],['COMMANDER'])\n",
        "cars_sample_03['MODEL'] = cars_sample_03['MODEL'].replace(['COMPAS'],['COMPASS'])\n",
        "cars_sample_03['MODEL'] = cars_sample_03['MODEL'].replace(['COMMPASS'],['COMPASS'])\n",
        "cars_sample_03['MODEL'] = cars_sample_03['MODEL'].replace(['COMPAS'],['COMPASS'])\n",
        "cars_sample_03['MODEL'] = cars_sample_03['MODEL'].replace(['GRANDCHEROKEE'],['GRAND CHEROKEE'])\n",
        "cars_sample_03['MODEL'] = cars_sample_03['MODEL'].replace(['COMPAS'],['COMPASS'])\n",
        "cars_sample_03['MODEL'] = cars_sample_03['MODEL'].replace(['LARADO'],['LAREDO'])\n",
        "cars_sample_03['MODEL'] = cars_sample_03['MODEL'].replace(['LORADO'],['LAREDO'])\n",
        "cars_sample_03['MODEL'] = cars_sample_03['MODEL'].replace(['LARADO'],['LAREDO'])\n",
        "cars_sample_03['MODEL'] = cars_sample_03['MODEL'].replace(['PATROIT'],['PATRIOT'])\n",
        "cars_sample_03['MODEL'] = cars_sample_03['MODEL'].replace(['PARIOT'],['PATRIOT'])\n",
        "cars_sample_03['MODEL'] = cars_sample_03['MODEL'].replace(['PAITROIET'],['PATRIOT'])\n",
        "cars_sample_03['MODEL'] = cars_sample_03['MODEL'].replace(['REGENADE'],['RENEGADE'])\n",
        "cars_sample_03['MODEL'] = cars_sample_03['MODEL'].replace(['RENAGADE'],['RENEGADE'])\n",
        "cars_sample_03['MODEL'] = cars_sample_03['MODEL'].replace(['RENGADE'],['RENEGADE'])\n",
        "cars_sample_03['MODEL'] = cars_sample_03['MODEL'].replace(['RENEGANE'],['RENEGADE'])\n",
        "cars_sample_03['MODEL'] = cars_sample_03['MODEL'].replace(['REGANADE'],['RENEGADE'])\n",
        "cars_sample_03['MODEL'] = cars_sample_03['MODEL'].replace(['WRANGLERUNLIMITED'],['WRANGLER UNLIMITED'])\n",
        "cars_sample_03['MODEL'] = cars_sample_03['MODEL'].replace(['SOREMTO'],['SORENTO'])\n",
        "cars_sample_03['MODEL'] = cars_sample_03['MODEL'].replace(['SPORTAG'],['SPORTAGE'])\n",
        "cars_sample_03['MODEL'] = cars_sample_03['MODEL'].replace(['CT 200 H'],['CT 200H'])\n",
        "cars_sample_03['MODEL'] = cars_sample_03['MODEL'].replace(['CT200H'],['CT 200H'])\n",
        "\n"
      ],
      "execution_count": 64,
      "outputs": []
    },
    {
      "cell_type": "code",
      "metadata": {
        "id": "5tJdOC9FPPqc"
      },
      "source": [
        "# correct human errors\n",
        "cars_sample_03['MODEL_YEAR']=cars_sample_03.sort_values('MODEL_YEAR').groupby('VIN')['MODEL_YEAR'].transform(lambda x: pd.Series.mode(x)[0])\n",
        "cars_sample_03['MAKE']=cars_sample_03.sort_values('MAKE').groupby('VIN')['MAKE'].transform(lambda x: pd.Series.mode(x)[0])\n",
        "cars_sample_03['MODEL']=cars_sample_03.sort_values('MODEL').groupby('VIN')['MODEL'].transform(lambda x: pd.Series.mode(x)[0])\n",
        "##cars_sample_03['CYL']=cars_sample_03.sort_values('CYL').groupby('VIN')['CYL'].transform(lambda x: pd.Series.mode(x)[0])\n",
        "#cars_sample_03['ENGINE_SIZE']=cars_sample_03.sort_values('ENGINE_SIZE',ascending= False).groupby('VIN')['ENGINE_SIZE'].transform(lambda x: pd.Series.mode(x)[0])\n",
        "#cars_sample_03['TRANS_TYPE']=cars_sample_03.sort_values('TRANS_TYPE').groupby('VIN')['TRANS_TYPE'].transform(lambda x: pd.Series.mode(x)[0])"
      ],
      "execution_count": 65,
      "outputs": []
    },
    {
      "cell_type": "code",
      "metadata": {
        "id": "ay6Zi3DE5fj9"
      },
      "source": [
        "#Export\n",
        "#cars_sample_03.to_csv(r\"/content/drive/My Drive/Cars/Data/Car_odo_raw.csv\", index = False)"
      ],
      "execution_count": null,
      "outputs": []
    },
    {
      "cell_type": "code",
      "metadata": {
        "id": "b2VzA4eW-Phn"
      },
      "source": [
        "#Using new label so that we need not repeat all steps to access cleaned data\n",
        "cars_sample_03a = cars_sample_03"
      ],
      "execution_count": 66,
      "outputs": []
    },
    {
      "cell_type": "code",
      "metadata": {
        "id": "okXfPbf3PPqd"
      },
      "source": [
        "# remove '0' in ODOMETER\n",
        "cars_sample_03a['ODOMETER'] = cars_sample_03a['ODOMETER'].replace('0', np.nan)"
      ],
      "execution_count": 67,
      "outputs": []
    },
    {
      "cell_type": "code",
      "metadata": {
        "id": "3YJQKVjUazyF"
      },
      "source": [
        "# remove 9999999 and 8888888 from odometer\n",
        "#cars_sample_03a = cars_sample_03a[cars_sample_03a.ODOMETER != '9999999']\n",
        "#cars_sample_03a = cars_sample_03a[cars_sample_03a.ODOMETER != '8888888']\n"
      ],
      "execution_count": 68,
      "outputs": []
    },
    {
      "cell_type": "code",
      "metadata": {
        "id": "hMjeEnJKPPqf",
        "colab": {
          "base_uri": "https://localhost:8080/"
        },
        "outputId": "c8528ee9-8418-4ece-f95a-639e28d114c5"
      },
      "source": [
        "cars_sample_03a['OVERALL_RESULT'].isnull().sum()"
      ],
      "execution_count": 69,
      "outputs": [
        {
          "output_type": "execute_result",
          "data": {
            "text/plain": [
              "0"
            ]
          },
          "metadata": {
            "tags": []
          },
          "execution_count": 69
        }
      ]
    },
    {
      "cell_type": "code",
      "metadata": {
        "id": "uwSUgO4oPPqg",
        "colab": {
          "base_uri": "https://localhost:8080/"
        },
        "outputId": "314bd430-b7dc-4a7e-b370-6c2a08a9e439"
      },
      "source": [
        "cars_sample_03a.shape"
      ],
      "execution_count": 70,
      "outputs": [
        {
          "output_type": "execute_result",
          "data": {
            "text/plain": [
              "(183174, 14)"
            ]
          },
          "metadata": {
            "tags": []
          },
          "execution_count": 70
        }
      ]
    },
    {
      "cell_type": "code",
      "metadata": {
        "id": "XVHQPgXBPPqi",
        "colab": {
          "base_uri": "https://localhost:8080/"
        },
        "outputId": "c4b9b522-c696-4459-b242-fafbf353b815"
      },
      "source": [
        "cars_sample_03a.info()"
      ],
      "execution_count": 71,
      "outputs": [
        {
          "output_type": "stream",
          "text": [
            "<class 'pandas.core.frame.DataFrame'>\n",
            "Int64Index: 183174 entries, 0 to 188855\n",
            "Data columns (total 14 columns):\n",
            " #   Column          Non-Null Count   Dtype         \n",
            "---  ------          --------------   -----         \n",
            " 0   RecordID        183174 non-null  object        \n",
            " 1   VIN             183174 non-null  object        \n",
            " 2   GVWR            178055 non-null  object        \n",
            " 3   MODEL_YEAR      183174 non-null  object        \n",
            " 4   MAKE            183174 non-null  object        \n",
            " 5   MODEL           183174 non-null  object        \n",
            " 6   CYL             183174 non-null  object        \n",
            " 7   ENGINE_SIZE     183174 non-null  object        \n",
            " 8   TRANS_TYPE      183174 non-null  object        \n",
            " 9   DUAL_EXHAUST    183174 non-null  object        \n",
            " 10  ODOMETER        182272 non-null  object        \n",
            " 11  FUEL_TYPE       183174 non-null  object        \n",
            " 12  OVERALL_RESULT  183174 non-null  object        \n",
            " 13  TEST_EDATE      183174 non-null  datetime64[ns]\n",
            "dtypes: datetime64[ns](1), object(13)\n",
            "memory usage: 21.0+ MB\n"
          ],
          "name": "stdout"
        }
      ]
    },
    {
      "cell_type": "code",
      "metadata": {
        "id": "oTRw6BHkQAoB"
      },
      "source": [
        "cars_sample_04 = cars_sample_03a"
      ],
      "execution_count": 72,
      "outputs": []
    },
    {
      "cell_type": "code",
      "metadata": {
        "id": "Ce1bNg0rQhOh"
      },
      "source": [
        "# Convert datatype\n",
        "cars_sample_04['GVWR'] = pd.to_numeric(cars_sample_04['GVWR'], errors='coerce').astype('Int64')\n",
        "cars_sample_04['ODOMETER'] = pd.to_numeric(cars_sample_04['ODOMETER'], errors='coerce').astype('Int64')\n",
        "cars_sample_04['RecordID'] = pd.to_numeric(cars_sample_04['RecordID'], errors='coerce').astype('Int64')\n",
        "cars_sample_04['MODEL_YEAR'] = pd.to_numeric(cars_sample_04['MODEL_YEAR'], errors='coerce').astype('Int64')\n",
        "cars_sample_04['ENGINE_SIZE'] = pd.to_numeric(cars_sample_04['ENGINE_SIZE'], errors='coerce').astype('Int64')\n",
        "cars_sample_04['CYL'] = pd.to_numeric(cars_sample_04['CYL'], errors='coerce').astype('Int64')"
      ],
      "execution_count": 73,
      "outputs": []
    },
    {
      "cell_type": "code",
      "metadata": {
        "id": "yAsbyw5nPPqm",
        "colab": {
          "base_uri": "https://localhost:8080/"
        },
        "outputId": "92b35767-dcaf-4651-8251-94757498bd5a"
      },
      "source": [
        "#to calculate age \n",
        "cars_sample_04['YEAR'] = pd.DatetimeIndex(cars_sample_04['TEST_EDATE']).year\n",
        "#cars_sample_04['YEAR'].head()\n",
        "#cars_sample_04.info()\n",
        "cars_sample_04[\"MODEL_YEAR\"] = pd.to_numeric(cars_sample_04[\"MODEL_YEAR\"])\n",
        "cars_sample_04['AGE'] = cars_sample_04['YEAR'] - cars_sample_04 ['MODEL_YEAR']\n",
        "cars_sample_04.head()\n",
        "#cars_sample_04[\"GVWR\"] = pd.to_numeric(cars_sample_04[\"GVWR\"])\n",
        "#cars_sample_04[\"ENGINE_SIZE\"] = pd.to_numeric(cars_sample_04[\"ENGINE_SIZE\"])\n",
        "cars_sample_04.info()"
      ],
      "execution_count": 75,
      "outputs": [
        {
          "output_type": "stream",
          "text": [
            "<class 'pandas.core.frame.DataFrame'>\n",
            "Int64Index: 183174 entries, 0 to 188855\n",
            "Data columns (total 16 columns):\n",
            " #   Column          Non-Null Count   Dtype         \n",
            "---  ------          --------------   -----         \n",
            " 0   RecordID        183174 non-null  Int64         \n",
            " 1   VIN             183174 non-null  object        \n",
            " 2   GVWR            178055 non-null  Int64         \n",
            " 3   MODEL_YEAR      183174 non-null  Int64         \n",
            " 4   MAKE            183174 non-null  object        \n",
            " 5   MODEL           183174 non-null  object        \n",
            " 6   CYL             183174 non-null  Int64         \n",
            " 7   ENGINE_SIZE     183174 non-null  Int64         \n",
            " 8   TRANS_TYPE      183174 non-null  object        \n",
            " 9   DUAL_EXHAUST    183174 non-null  object        \n",
            " 10  ODOMETER        182272 non-null  Int64         \n",
            " 11  FUEL_TYPE       183174 non-null  object        \n",
            " 12  OVERALL_RESULT  183174 non-null  object        \n",
            " 13  TEST_EDATE      183174 non-null  datetime64[ns]\n",
            " 14  YEAR            183174 non-null  int64         \n",
            " 15  AGE             183174 non-null  Int64         \n",
            "dtypes: Int64(7), datetime64[ns](1), int64(1), object(7)\n",
            "memory usage: 25.0+ MB\n"
          ],
          "name": "stdout"
        }
      ]
    },
    {
      "cell_type": "code",
      "metadata": {
        "id": "tTKOxu9d9oVF"
      },
      "source": [
        "#Export\n",
        "#cars_sample_04.to_csv(r\"/content/drive/My Drive/Cars/Data/Car_ageraw.csv\", index = False)"
      ],
      "execution_count": null,
      "outputs": []
    },
    {
      "cell_type": "code",
      "metadata": {
        "id": "xyQwtPN8u8ol",
        "colab": {
          "base_uri": "https://localhost:8080/"
        },
        "outputId": "21fb8203-55c4-4270-b241-ff0ede2c1285"
      },
      "source": [
        "cars_sample_04.isnull().sum()"
      ],
      "execution_count": 76,
      "outputs": [
        {
          "output_type": "execute_result",
          "data": {
            "text/plain": [
              "RecordID             0\n",
              "VIN                  0\n",
              "GVWR              5119\n",
              "MODEL_YEAR           0\n",
              "MAKE                 0\n",
              "MODEL                0\n",
              "CYL                  0\n",
              "ENGINE_SIZE          0\n",
              "TRANS_TYPE           0\n",
              "DUAL_EXHAUST         0\n",
              "ODOMETER           902\n",
              "FUEL_TYPE            0\n",
              "OVERALL_RESULT       0\n",
              "TEST_EDATE           0\n",
              "YEAR                 0\n",
              "AGE                  0\n",
              "dtype: int64"
            ]
          },
          "metadata": {
            "tags": []
          },
          "execution_count": 76
        }
      ]
    },
    {
      "cell_type": "code",
      "metadata": {
        "id": "2i93rjVePAxf"
      },
      "source": [
        "# replace the ODEMETER with mean in multiple records occurd in the same year\n",
        "cars_sample_04['ODOMETER']=cars_sample_04.groupby(['VIN','YEAR'])['ODOMETER'].transform('mean')"
      ],
      "execution_count": 77,
      "outputs": []
    },
    {
      "cell_type": "code",
      "metadata": {
        "id": "kxNEG6XAXTxY",
        "colab": {
          "base_uri": "https://localhost:8080/"
        },
        "outputId": "1083ffc6-eef6-4d07-edd6-a4067cfbbaea"
      },
      "source": [
        "cars_sample_04.shape"
      ],
      "execution_count": 78,
      "outputs": [
        {
          "output_type": "execute_result",
          "data": {
            "text/plain": [
              "(183174, 16)"
            ]
          },
          "metadata": {
            "tags": []
          },
          "execution_count": 78
        }
      ]
    },
    {
      "cell_type": "code",
      "metadata": {
        "id": "W30URnJbPEf3"
      },
      "source": [
        "# remove cars have multiple records performed test on same day\n",
        "#cars_sample_03['DATE']= cars_sample_03['TEST_EDATE'].dt.date\n",
        "## With date\n",
        "## 3891 records records removed with Y,M,D\n",
        "## 8718 records records removed with Y,M\n",
        "## 17732 records records removed with Y\n",
        "cars_sample_05 = cars_sample_04.sort_values('OVERALL_RESULT', ascending=False).drop_duplicates(subset=['VIN', 'YEAR'], keep='last')"
      ],
      "execution_count": 79,
      "outputs": []
    },
    {
      "cell_type": "code",
      "metadata": {
        "id": "1a8neBkBXevw",
        "colab": {
          "base_uri": "https://localhost:8080/"
        },
        "outputId": "9ee53906-4e71-4748-cd09-6c7531004731"
      },
      "source": [
        "cars_sample_05.shape"
      ],
      "execution_count": 80,
      "outputs": [
        {
          "output_type": "execute_result",
          "data": {
            "text/plain": [
              "(165442, 16)"
            ]
          },
          "metadata": {
            "tags": []
          },
          "execution_count": 80
        }
      ]
    },
    {
      "cell_type": "code",
      "metadata": {
        "id": "Pc2y7AKlBHnc"
      },
      "source": [
        "#Export\n",
        "#cars_sample_05.shape\n",
        "#cars_sample_04.to_csv(r\"/content/drive/My Drive/Cars/Data/Car_odoclean1.csv\", index = False)"
      ],
      "execution_count": 81,
      "outputs": []
    },
    {
      "cell_type": "code",
      "metadata": {
        "id": "HYqjBkIvQDRx"
      },
      "source": [
        "#Remove Age Less than 4 Years and above 30 Years\n",
        "cars_sample_05 = cars_sample_05[(cars_sample_05.AGE >= 4)]\n",
        "cars_sample_05 = cars_sample_05[(cars_sample_05.AGE <= 34)]"
      ],
      "execution_count": 82,
      "outputs": []
    },
    {
      "cell_type": "code",
      "metadata": {
        "id": "z1-KjdGOYZD7",
        "colab": {
          "base_uri": "https://localhost:8080/"
        },
        "outputId": "67ccf82b-0f2e-4d7b-adab-643dc2021ac0"
      },
      "source": [
        "cars_sample_05.shape"
      ],
      "execution_count": 83,
      "outputs": [
        {
          "output_type": "execute_result",
          "data": {
            "text/plain": [
              "(139758, 16)"
            ]
          },
          "metadata": {
            "tags": []
          },
          "execution_count": 83
        }
      ]
    },
    {
      "cell_type": "code",
      "metadata": {
        "id": "5q3lFpJ42Pks",
        "colab": {
          "base_uri": "https://localhost:8080/"
        },
        "outputId": "ad656104-d8e0-4fc9-f10c-7641e344ae74"
      },
      "source": [
        "cars_sample_05[\"AGE\"].agg([\"max\",\"min\"])"
      ],
      "execution_count": 84,
      "outputs": [
        {
          "output_type": "execute_result",
          "data": {
            "text/plain": [
              "max    34\n",
              "min     4\n",
              "Name: AGE, dtype: int64"
            ]
          },
          "metadata": {
            "tags": []
          },
          "execution_count": 84
        }
      ]
    },
    {
      "cell_type": "code",
      "metadata": {
        "id": "GyViAj-bg1yu",
        "colab": {
          "base_uri": "https://localhost:8080/"
        },
        "outputId": "0c836bca-4aa0-4f03-ebd4-e50bc72b3258"
      },
      "source": [
        "cars_sample_05[\"ODOMETER\"].agg([\"max\",\"min\"])"
      ],
      "execution_count": 85,
      "outputs": [
        {
          "output_type": "execute_result",
          "data": {
            "text/plain": [
              "max    9999999.0\n",
              "min          1.0\n",
              "Name: ODOMETER, dtype: float64"
            ]
          },
          "metadata": {
            "tags": []
          },
          "execution_count": 85
        }
      ]
    },
    {
      "cell_type": "code",
      "metadata": {
        "id": "EX0oAeQdjoz8",
        "colab": {
          "base_uri": "https://localhost:8080/"
        },
        "outputId": "a30e4992-0003-48e6-c7b0-d8e143b1c80d"
      },
      "source": [
        "from sklearn import datasets\n",
        "import matplotlib.pyplot as plt\n",
        "\n",
        "# \n",
        "list_columns=[\"ODOMETER\",\"AGE\"]\n",
        "cars_sample_bx=cars_sample_05[list_columns]\n",
        "dataset = cars_sample_bx['ODOMETER']\n",
        "    \n",
        "mean = np.round(np.mean(dataset), 2)\n",
        "median = np.round(np.median(dataset), 2)\n",
        "min_value = np.round(dataset.min(), 2)\n",
        "max_value = np.round(dataset.max(), 2)\n",
        "quartile_1 = np.round(dataset.quantile(0.25), 2)\n",
        "quartile_3 = np.round(dataset.quantile(0.75), 2)\n",
        "    # Interquartile range\n",
        "iqr = np.round(quartile_3 - quartile_1, 2)\n",
        "upper_value = quartile_3 + 1.5 * iqr\n",
        "lower_value = quartile_1 - 1.5 * iqr\n",
        "\n",
        "print('Min: %s' % min_value)\n",
        "print('Mean: %s' % mean)\n",
        "print('Max: %s' % max_value)\n",
        "print('25th percentile: %s' % quartile_1)\n",
        "print('Median: %s' % median)\n",
        "print('75th percentile: %s' % quartile_3)\n",
        "print('Interquartile range (IQR): %s' % iqr)\n",
        "print('Max boundry: %s' % upper_value)\n",
        "print('Min boundry: %s' % lower_value)"
      ],
      "execution_count": 86,
      "outputs": [
        {
          "output_type": "stream",
          "text": [
            "Min: 1.0\n",
            "Mean: 124046.59\n",
            "Max: 9999999.0\n",
            "25th percentile: 73292.5\n",
            "Median: nan\n",
            "75th percentile: 151756.5\n",
            "Interquartile range (IQR): 78464.0\n",
            "Max boundry: 269452.5\n",
            "Min boundry: -44403.5\n"
          ],
          "name": "stdout"
        }
      ]
    },
    {
      "cell_type": "code",
      "metadata": {
        "id": "1qFDK5Umlbxv",
        "colab": {
          "base_uri": "https://localhost:8080/",
          "height": 374
        },
        "outputId": "0b56c31a-3dd4-4499-c1e1-daba7075e63d"
      },
      "source": [
        "import seaborn as sns\n",
        "sns.set_theme(style=\"whitegrid\")\n",
        "\n",
        "plt.figure(figsize=(10,5))\n",
        "ax = sns.boxplot(data = cars_sample_05 ,x = 'ODOMETER',hue = 'OVERALL_RESULT',showfliers=True,notch= True,width= 0.8,linewidth=0.5,orient='h')\n",
        "plt.xlabel(\"ODOMETER\", fontsize= 12)\n",
        "#plt.ylabel(\"Passenger Age\", fontsize= 12)\n",
        "plt.title(\"BOX PLOT - ODOMETER\", fontsize= 15)"
      ],
      "execution_count": 87,
      "outputs": [
        {
          "output_type": "execute_result",
          "data": {
            "text/plain": [
              "Text(0.5, 1.0, 'BOX PLOT - ODOMETER')"
            ]
          },
          "metadata": {
            "tags": []
          },
          "execution_count": 87
        },
        {
          "output_type": "display_data",
          "data": {
            "image/png": "[encoded data removed]",
            "text/plain": [
              "<Figure size 720x360 with 1 Axes>"
            ]
          },
          "metadata": {
            "tags": []
          }
        }
      ]
    },
    {
      "cell_type": "code",
      "metadata": {
        "id": "odkIiVaSdRke"
      },
      "source": [
        "cars_sample_05 = cars_sample_05[cars_sample_05['ODOMETER'] <= 270000]\n",
        "cars_sample_05 = cars_sample_05[cars_sample_05['ODOMETER'] >= 1000]\n"
      ],
      "execution_count": 88,
      "outputs": []
    },
    {
      "cell_type": "code",
      "metadata": {
        "id": "twXbSSQxYVYu",
        "colab": {
          "base_uri": "https://localhost:8080/"
        },
        "outputId": "79336d6c-ef36-4f63-a4f5-606ee5aa2a13"
      },
      "source": [
        "cars_sample_05.shape"
      ],
      "execution_count": 89,
      "outputs": [
        {
          "output_type": "execute_result",
          "data": {
            "text/plain": [
              "(136877, 16)"
            ]
          },
          "metadata": {
            "tags": []
          },
          "execution_count": 89
        }
      ]
    },
    {
      "cell_type": "code",
      "metadata": {
        "id": "kGRSww2oXPp_",
        "colab": {
          "base_uri": "https://localhost:8080/"
        },
        "outputId": "0be935bc-6ad5-40b5-c796-92e097961e9a"
      },
      "source": [
        "# Drop rows with null values\n",
        "cars_sample_06 = cars_sample_05\n",
        "cars_sample_06.dropna(inplace=True)\n",
        "cars_sample_06.isnull().sum()"
      ],
      "execution_count": 90,
      "outputs": [
        {
          "output_type": "execute_result",
          "data": {
            "text/plain": [
              "RecordID          0\n",
              "VIN               0\n",
              "GVWR              0\n",
              "MODEL_YEAR        0\n",
              "MAKE              0\n",
              "MODEL             0\n",
              "CYL               0\n",
              "ENGINE_SIZE       0\n",
              "TRANS_TYPE        0\n",
              "DUAL_EXHAUST      0\n",
              "ODOMETER          0\n",
              "FUEL_TYPE         0\n",
              "OVERALL_RESULT    0\n",
              "TEST_EDATE        0\n",
              "YEAR              0\n",
              "AGE               0\n",
              "dtype: int64"
            ]
          },
          "metadata": {
            "tags": []
          },
          "execution_count": 90
        }
      ]
    },
    {
      "cell_type": "code",
      "metadata": {
        "id": "wXH8OgI-QCy8"
      },
      "source": [
        "#Export it\n",
        "#cars_sample_06.to_csv(r\"/content/drive/My Drive/Cars/Data/Car_ageclean.csv\", index = False)\n",
        "#cars_sample_06.to_csv(r\"/content/drive/My Drive/Data/cars_sample_06.csv\", index = False) #vincent"
      ],
      "execution_count": null,
      "outputs": []
    },
    {
      "cell_type": "code",
      "metadata": {
        "id": "Lb189ZFXQI2_",
        "colab": {
          "base_uri": "https://localhost:8080/"
        },
        "outputId": "81212d75-dd6b-4fed-e159-187c28ed77b7"
      },
      "source": [
        "cars_sample_06.shape"
      ],
      "execution_count": 91,
      "outputs": [
        {
          "output_type": "execute_result",
          "data": {
            "text/plain": [
              "(134315, 16)"
            ]
          },
          "metadata": {
            "tags": []
          },
          "execution_count": 91
        }
      ]
    },
    {
      "cell_type": "code",
      "metadata": {
        "id": "00w-nqplr9J7"
      },
      "source": [
        "# Remove rows according to Value count of MAKE \n",
        "# Get the count of each value\n",
        "value_counts = cars_sample_06['MAKE'].value_counts()\n",
        "\n",
        "# Select the values where the count is less than certain value\n",
        "car_make_count_threshld = 850\n",
        "to_remove = value_counts[value_counts <= car_make_count_threshld].index\n",
        "\n",
        "# Keep rows where the city column is not in to_remove\n",
        "cars_sample_06 = cars_sample_06[~cars_sample_06.MAKE.isin(to_remove)]"
      ],
      "execution_count": 92,
      "outputs": []
    },
    {
      "cell_type": "code",
      "metadata": {
        "id": "Y4YPgNPX6H_0"
      },
      "source": [
        "# New feature generation - MAKE_MODEL\n",
        "cars_sample_06['MAKE_MODEL'] = cars_sample_06[['MAKE', 'MODEL']].agg('-'.join, axis=1)\n",
        "cars_sample_06[\"MAKE_MODEL\"] = cars_sample_06[\"MAKE_MODEL\"].astype('category')"
      ],
      "execution_count": 93,
      "outputs": []
    },
    {
      "cell_type": "code",
      "metadata": {
        "id": "kbtzmsapu92Y"
      },
      "source": [
        "#Creating MAKE_MODEL_Label\n",
        "#Label Encoder\n",
        "cars_sample_06['MAKE_MODEL_Label'] = cars_sample_06['MAKE_MODEL'].cat.codes"
      ],
      "execution_count": 94,
      "outputs": []
    },
    {
      "cell_type": "code",
      "metadata": {
        "id": "ZFDW8dEa40vw"
      },
      "source": [
        "#Selecting columns for Make\n",
        "#Select Required Columns\n",
        "#list_columns=[\"MAKE_MODEL\",\"AGE\",\"OVERALL_RESULT\"]\n",
        "#cars_sample_07=cars_sample_06[list_columns]\n",
        "#cars_sample_07.head()"
      ],
      "execution_count": null,
      "outputs": []
    },
    {
      "cell_type": "code",
      "metadata": {
        "id": "inQ7d5Vw46og"
      },
      "source": [
        "#Bin Age and GVWR\n",
        "#cars_sample_06['GVWR_bin']=pd.cut(x = cars_sample_06['GVWR'], bins = [0,1000,2000,3000,4000,5000,6000,7000,8000,9000,10000], labels = [0,1,2,3,4,5,6,7,8,9])\n",
        "# cars_sample_06['AGE_bin']=pd.cut(x = cars_sample_06['AGE'], bins = [0,5,10,15,20,25,30], labels = [0,1,2,3,4,5])"
      ],
      "execution_count": null,
      "outputs": []
    },
    {
      "cell_type": "code",
      "metadata": {
        "id": "c6GLo6PB5DGl"
      },
      "source": [
        "#Selecting columns for Make\n",
        "#Select Required Columns\n",
        "#list_columns=[\"GVWR_bin\",\"AGE_bin\",\"OVERALL_RESULT\"]\n",
        "#cars_sample_07=cars_sample_06[list_columns]\n",
        "#cars_sample_07.head()"
      ],
      "execution_count": null,
      "outputs": []
    },
    {
      "cell_type": "code",
      "metadata": {
        "id": "DEGJOuHxDSc5"
      },
      "source": [
        "#cars_sample_06 has 135706 Rows and 16 Columns"
      ],
      "execution_count": null,
      "outputs": []
    },
    {
      "cell_type": "code",
      "metadata": {
        "id": "BI8esnfvD_uF",
        "colab": {
          "base_uri": "https://localhost:8080/",
          "height": 203
        },
        "outputId": "fde70e5a-9796-41c9-a9ad-9c6397fc360e"
      },
      "source": [
        "#AGE, ODOMETER, MAKE_MODEL\n",
        "\n",
        "#Select Required Columns\n",
        "list_columns=[\"ODOMETER\",\"AGE\",'MODEL_YEAR','MAKE_MODEL',\"OVERALL_RESULT\"]\n",
        "cars_sample_07=cars_sample_06[list_columns]\n",
        "cars_sample_07.head()\n"
      ],
      "execution_count": 95,
      "outputs": [
        {
          "output_type": "execute_result",
          "data": {
            "text/html": [
              "<div>\n",
              "<style scoped>\n",
              "    .dataframe tbody tr th:only-of-type {\n",
              "        vertical-align: middle;\n",
              "    }\n",
              "\n",
              "    .dataframe tbody tr th {\n",
              "        vertical-align: top;\n",
              "    }\n",
              "\n",
              "    .dataframe thead th {\n",
              "        text-align: right;\n",
              "    }\n",
              "</style>\n",
              "<table border=\"1\" class=\"dataframe\">\n",
              "  <thead>\n",
              "    <tr style=\"text-align: right;\">\n",
              "      <th></th>\n",
              "      <th>ODOMETER</th>\n",
              "      <th>AGE</th>\n",
              "      <th>MODEL_YEAR</th>\n",
              "      <th>MAKE_MODEL</th>\n",
              "      <th>OVERALL_RESULT</th>\n",
              "    </tr>\n",
              "  </thead>\n",
              "  <tbody>\n",
              "    <tr>\n",
              "      <th>0</th>\n",
              "      <td>109025.0</td>\n",
              "      <td>15</td>\n",
              "      <td>1998</td>\n",
              "      <td>CHRYSLER-SEBRING</td>\n",
              "      <td>P</td>\n",
              "    </tr>\n",
              "    <tr>\n",
              "      <th>124100</th>\n",
              "      <td>190800.0</td>\n",
              "      <td>18</td>\n",
              "      <td>2000</td>\n",
              "      <td>DODGE-CARAVAN 2WD</td>\n",
              "      <td>P</td>\n",
              "    </tr>\n",
              "    <tr>\n",
              "      <th>124092</th>\n",
              "      <td>113955.0</td>\n",
              "      <td>17</td>\n",
              "      <td>2001</td>\n",
              "      <td>MITSUBISHI-GALANT</td>\n",
              "      <td>P</td>\n",
              "    </tr>\n",
              "    <tr>\n",
              "      <th>124094</th>\n",
              "      <td>78142.0</td>\n",
              "      <td>5</td>\n",
              "      <td>2013</td>\n",
              "      <td>CHEVROLET-IMPALA</td>\n",
              "      <td>P</td>\n",
              "    </tr>\n",
              "    <tr>\n",
              "      <th>124095</th>\n",
              "      <td>55075.0</td>\n",
              "      <td>15</td>\n",
              "      <td>2003</td>\n",
              "      <td>NISSAN-MURANO 2WD</td>\n",
              "      <td>P</td>\n",
              "    </tr>\n",
              "  </tbody>\n",
              "</table>\n",
              "</div>"
            ],
            "text/plain": [
              "        ODOMETER  AGE  MODEL_YEAR         MAKE_MODEL OVERALL_RESULT\n",
              "0       109025.0   15        1998   CHRYSLER-SEBRING              P\n",
              "124100  190800.0   18        2000  DODGE-CARAVAN 2WD              P\n",
              "124092  113955.0   17        2001  MITSUBISHI-GALANT              P\n",
              "124094   78142.0    5        2013   CHEVROLET-IMPALA              P\n",
              "124095   55075.0   15        2003  NISSAN-MURANO 2WD              P"
            ]
          },
          "metadata": {
            "tags": []
          },
          "execution_count": 95
        }
      ]
    },
    {
      "cell_type": "code",
      "metadata": {
        "id": "LfkYjYDR1nwv",
        "colab": {
          "base_uri": "https://localhost:8080/"
        },
        "outputId": "1e6027d6-0a37-457c-925d-2d0236009081"
      },
      "source": [
        "cars_sample_07.OVERALL_RESULT.value_counts()"
      ],
      "execution_count": 96,
      "outputs": [
        {
          "output_type": "execute_result",
          "data": {
            "text/plain": [
              "P    119553\n",
              "F      9982\n",
              "Name: OVERALL_RESULT, dtype: int64"
            ]
          },
          "metadata": {
            "tags": []
          },
          "execution_count": 96
        }
      ]
    },
    {
      "cell_type": "code",
      "metadata": {
        "id": "OMg5s_vmLZVU",
        "colab": {
          "base_uri": "https://localhost:8080/"
        },
        "outputId": "58c2f24e-9a43-4595-d90c-ab05cedd7fb1"
      },
      "source": [
        "cars_sample_07.shape"
      ],
      "execution_count": 97,
      "outputs": [
        {
          "output_type": "execute_result",
          "data": {
            "text/plain": [
              "(129535, 5)"
            ]
          },
          "metadata": {
            "tags": []
          },
          "execution_count": 97
        }
      ]
    },
    {
      "cell_type": "markdown",
      "metadata": {
        "id": "j2L5iPraubqN"
      },
      "source": [
        "# ONE HOT ENCODING & SPLIT"
      ]
    },
    {
      "cell_type": "code",
      "metadata": {
        "id": "OsC-gy6fuiyh"
      },
      "source": [
        "# DONT run normalize section and split section if you use this section\n",
        "\n",
        "#Create list with categorical features' names.\n",
        "# ADD your categorcal feature names here\n",
        "nonum_feats_names = ['MAKE_MODEL']\n",
        "\n",
        "#Create list with numerical features' names.\n",
        "# ADD your numerical feature names here\n",
        "num_cols_names = ['ODOMETER', 'AGE','MODEL_YEAR','OVERALL_RESULT']"
      ],
      "execution_count": 98,
      "outputs": []
    },
    {
      "cell_type": "code",
      "metadata": {
        "id": "IvHRo1VDurzw"
      },
      "source": [
        "#Assign appropriate data type to categorical variables.\n",
        "nonum_feats = cars_sample_07[nonum_feats_names].astype('category')\n",
        "#nonum_feats.info()"
      ],
      "execution_count": 99,
      "outputs": []
    },
    {
      "cell_type": "code",
      "metadata": {
        "id": "oELU0ZuausIs"
      },
      "source": [
        "# encode categorical variables\n",
        "cat_dummies = pd.get_dummies(nonum_feats , drop_first=True)\n",
        "#cat_dummies.info()"
      ],
      "execution_count": 100,
      "outputs": []
    },
    {
      "cell_type": "code",
      "metadata": {
        "id": "plvFSVsJurmz",
        "colab": {
          "base_uri": "https://localhost:8080/",
          "height": 269
        },
        "outputId": "2096c0dd-e826-4029-9b10-fd824f7e38ae"
      },
      "source": [
        "#Drop encoded feature from data, no need both\n",
        "df_test_03 = cars_sample_07.drop(['MAKE_MODEL'], axis=1)\n",
        "cars_encoded = pd.concat([df_test_03, cat_dummies], axis=1)\n",
        "cars_encoded.head()"
      ],
      "execution_count": 101,
      "outputs": [
        {
          "output_type": "execute_result",
          "data": {
            "text/html": [
              "<div>\n",
              "<style scoped>\n",
              "    .dataframe tbody tr th:only-of-type {\n",
              "        vertical-align: middle;\n",
              "    }\n",
              "\n",
              "    .dataframe tbody tr th {\n",
              "        vertical-align: top;\n",
              "    }\n",
              "\n",
              "    .dataframe thead th {\n",
              "        text-align: right;\n",
              "    }\n",
              "</style>\n",
              "<table border=\"1\" class=\"dataframe\">\n",
              "  <thead>\n",
              "    <tr style=\"text-align: right;\">\n",
              "      <th></th>\n",
              "      <th>ODOMETER</th>\n",
              "      <th>AGE</th>\n",
              "      <th>MODEL_YEAR</th>\n",
              "      <th>OVERALL_RESULT</th>\n",
              "      <th>MAKE_MODEL_ACURA-2.3CL</th>\n",
              "      <th>MAKE_MODEL_ACURA-2.5TL</th>\n",
              "      <th>MAKE_MODEL_ACURA-3.0CL</th>\n",
              "      <th>MAKE_MODEL_ACURA-3.2CL</th>\n",
              "      <th>MAKE_MODEL_ACURA-3.2TL</th>\n",
              "      <th>MAKE_MODEL_ACURA-3.5RL</th>\n",
              "      <th>MAKE_MODEL_ACURA-32S</th>\n",
              "      <th>MAKE_MODEL_ACURA-DRX</th>\n",
              "      <th>MAKE_MODEL_ACURA-ILX</th>\n",
              "      <th>MAKE_MODEL_ACURA-INTEGRA</th>\n",
              "      <th>MAKE_MODEL_ACURA-LEGEND</th>\n",
              "      <th>MAKE_MODEL_ACURA-MDX</th>\n",
              "      <th>MAKE_MODEL_ACURA-NSX</th>\n",
              "      <th>MAKE_MODEL_ACURA-Q40</th>\n",
              "      <th>MAKE_MODEL_ACURA-RDX</th>\n",
              "      <th>MAKE_MODEL_ACURA-RDXTURBO</th>\n",
              "      <th>MAKE_MODEL_ACURA-RL</th>\n",
              "      <th>MAKE_MODEL_ACURA-RLX</th>\n",
              "      <th>MAKE_MODEL_ACURA-RSX</th>\n",
              "      <th>MAKE_MODEL_ACURA-TL</th>\n",
              "      <th>MAKE_MODEL_ACURA-TLX</th>\n",
              "      <th>MAKE_MODEL_ACURA-TSX</th>\n",
              "      <th>MAKE_MODEL_ACURA-TSX SPORT WAGON</th>\n",
              "      <th>MAKE_MODEL_ACURA-VIGOR</th>\n",
              "      <th>MAKE_MODEL_ACURA-ZDX</th>\n",
              "      <th>MAKE_MODEL_BMW-1 SERIES</th>\n",
              "      <th>MAKE_MODEL_BMW-1-SERIES</th>\n",
              "      <th>MAKE_MODEL_BMW-128I</th>\n",
              "      <th>MAKE_MODEL_BMW-135I</th>\n",
              "      <th>MAKE_MODEL_BMW-228I</th>\n",
              "      <th>MAKE_MODEL_BMW-235I</th>\n",
              "      <th>MAKE_MODEL_BMW-3-SERIES</th>\n",
              "      <th>MAKE_MODEL_BMW-325E</th>\n",
              "      <th>MAKE_MODEL_BMW-325I</th>\n",
              "      <th>MAKE_MODEL_BMW-328</th>\n",
              "      <th>MAKE_MODEL_BMW-328 XI</th>\n",
              "      <th>...</th>\n",
              "      <th>MAKE_MODEL_VOLKSWAGEN-PICKUP</th>\n",
              "      <th>MAKE_MODEL_VOLKSWAGEN-R32</th>\n",
              "      <th>MAKE_MODEL_VOLKSWAGEN-RABBIT</th>\n",
              "      <th>MAKE_MODEL_VOLKSWAGEN-ROUTAN</th>\n",
              "      <th>MAKE_MODEL_VOLKSWAGEN-RV</th>\n",
              "      <th>MAKE_MODEL_VOLKSWAGEN-SCIROCCO</th>\n",
              "      <th>MAKE_MODEL_VOLKSWAGEN-TIGUAN</th>\n",
              "      <th>MAKE_MODEL_VOLKSWAGEN-TOUAREG</th>\n",
              "      <th>MAKE_MODEL_VOLKSWAGEN-VANAGON</th>\n",
              "      <th>MAKE_MODEL_VOLVO-240</th>\n",
              "      <th>MAKE_MODEL_VOLVO-740</th>\n",
              "      <th>MAKE_MODEL_VOLVO-760</th>\n",
              "      <th>MAKE_MODEL_VOLVO-800 SERIES</th>\n",
              "      <th>MAKE_MODEL_VOLVO-850</th>\n",
              "      <th>MAKE_MODEL_VOLVO-850 SERIES</th>\n",
              "      <th>MAKE_MODEL_VOLVO-940</th>\n",
              "      <th>MAKE_MODEL_VOLVO-960</th>\n",
              "      <th>MAKE_MODEL_VOLVO-C30</th>\n",
              "      <th>MAKE_MODEL_VOLVO-C70</th>\n",
              "      <th>MAKE_MODEL_VOLVO-DL</th>\n",
              "      <th>MAKE_MODEL_VOLVO-GLT</th>\n",
              "      <th>MAKE_MODEL_VOLVO-S40</th>\n",
              "      <th>MAKE_MODEL_VOLVO-S60</th>\n",
              "      <th>MAKE_MODEL_VOLVO-S60 AWD</th>\n",
              "      <th>MAKE_MODEL_VOLVO-S60 FWD</th>\n",
              "      <th>MAKE_MODEL_VOLVO-S70</th>\n",
              "      <th>MAKE_MODEL_VOLVO-S70 AWD</th>\n",
              "      <th>MAKE_MODEL_VOLVO-S70 SERIES SEDAN</th>\n",
              "      <th>MAKE_MODEL_VOLVO-S80</th>\n",
              "      <th>MAKE_MODEL_VOLVO-S90</th>\n",
              "      <th>MAKE_MODEL_VOLVO-V40</th>\n",
              "      <th>MAKE_MODEL_VOLVO-V50</th>\n",
              "      <th>MAKE_MODEL_VOLVO-V60</th>\n",
              "      <th>MAKE_MODEL_VOLVO-V70</th>\n",
              "      <th>MAKE_MODEL_VOLVO-V70 AWD</th>\n",
              "      <th>MAKE_MODEL_VOLVO-V70 FWD</th>\n",
              "      <th>MAKE_MODEL_VOLVO-V70XC</th>\n",
              "      <th>MAKE_MODEL_VOLVO-XC60</th>\n",
              "      <th>MAKE_MODEL_VOLVO-XC70</th>\n",
              "      <th>MAKE_MODEL_VOLVO-XC90</th>\n",
              "    </tr>\n",
              "  </thead>\n",
              "  <tbody>\n",
              "    <tr>\n",
              "      <th>0</th>\n",
              "      <td>109025.0</td>\n",
              "      <td>15</td>\n",
              "      <td>1998</td>\n",
              "      <td>P</td>\n",
              "      <td>0</td>\n",
              "      <td>0</td>\n",
              "      <td>0</td>\n",
              "      <td>0</td>\n",
              "      <td>0</td>\n",
              "      <td>0</td>\n",
              "      <td>0</td>\n",
              "      <td>0</td>\n",
              "      <td>0</td>\n",
              "      <td>0</td>\n",
              "      <td>0</td>\n",
              "      <td>0</td>\n",
              "      <td>0</td>\n",
              "      <td>0</td>\n",
              "      <td>0</td>\n",
              "      <td>0</td>\n",
              "      <td>0</td>\n",
              "      <td>0</td>\n",
              "      <td>0</td>\n",
              "      <td>0</td>\n",
              "      <td>0</td>\n",
              "      <td>0</td>\n",
              "      <td>0</td>\n",
              "      <td>0</td>\n",
              "      <td>0</td>\n",
              "      <td>0</td>\n",
              "      <td>0</td>\n",
              "      <td>0</td>\n",
              "      <td>0</td>\n",
              "      <td>0</td>\n",
              "      <td>0</td>\n",
              "      <td>0</td>\n",
              "      <td>0</td>\n",
              "      <td>0</td>\n",
              "      <td>0</td>\n",
              "      <td>0</td>\n",
              "      <td>...</td>\n",
              "      <td>0</td>\n",
              "      <td>0</td>\n",
              "      <td>0</td>\n",
              "      <td>0</td>\n",
              "      <td>0</td>\n",
              "      <td>0</td>\n",
              "      <td>0</td>\n",
              "      <td>0</td>\n",
              "      <td>0</td>\n",
              "      <td>0</td>\n",
              "      <td>0</td>\n",
              "      <td>0</td>\n",
              "      <td>0</td>\n",
              "      <td>0</td>\n",
              "      <td>0</td>\n",
              "      <td>0</td>\n",
              "      <td>0</td>\n",
              "      <td>0</td>\n",
              "      <td>0</td>\n",
              "      <td>0</td>\n",
              "      <td>0</td>\n",
              "      <td>0</td>\n",
              "      <td>0</td>\n",
              "      <td>0</td>\n",
              "      <td>0</td>\n",
              "      <td>0</td>\n",
              "      <td>0</td>\n",
              "      <td>0</td>\n",
              "      <td>0</td>\n",
              "      <td>0</td>\n",
              "      <td>0</td>\n",
              "      <td>0</td>\n",
              "      <td>0</td>\n",
              "      <td>0</td>\n",
              "      <td>0</td>\n",
              "      <td>0</td>\n",
              "      <td>0</td>\n",
              "      <td>0</td>\n",
              "      <td>0</td>\n",
              "      <td>0</td>\n",
              "    </tr>\n",
              "    <tr>\n",
              "      <th>124100</th>\n",
              "      <td>190800.0</td>\n",
              "      <td>18</td>\n",
              "      <td>2000</td>\n",
              "      <td>P</td>\n",
              "      <td>0</td>\n",
              "      <td>0</td>\n",
              "      <td>0</td>\n",
              "      <td>0</td>\n",
              "      <td>0</td>\n",
              "      <td>0</td>\n",
              "      <td>0</td>\n",
              "      <td>0</td>\n",
              "      <td>0</td>\n",
              "      <td>0</td>\n",
              "      <td>0</td>\n",
              "      <td>0</td>\n",
              "      <td>0</td>\n",
              "      <td>0</td>\n",
              "      <td>0</td>\n",
              "      <td>0</td>\n",
              "      <td>0</td>\n",
              "      <td>0</td>\n",
              "      <td>0</td>\n",
              "      <td>0</td>\n",
              "      <td>0</td>\n",
              "      <td>0</td>\n",
              "      <td>0</td>\n",
              "      <td>0</td>\n",
              "      <td>0</td>\n",
              "      <td>0</td>\n",
              "      <td>0</td>\n",
              "      <td>0</td>\n",
              "      <td>0</td>\n",
              "      <td>0</td>\n",
              "      <td>0</td>\n",
              "      <td>0</td>\n",
              "      <td>0</td>\n",
              "      <td>0</td>\n",
              "      <td>0</td>\n",
              "      <td>0</td>\n",
              "      <td>...</td>\n",
              "      <td>0</td>\n",
              "      <td>0</td>\n",
              "      <td>0</td>\n",
              "      <td>0</td>\n",
              "      <td>0</td>\n",
              "      <td>0</td>\n",
              "      <td>0</td>\n",
              "      <td>0</td>\n",
              "      <td>0</td>\n",
              "      <td>0</td>\n",
              "      <td>0</td>\n",
              "      <td>0</td>\n",
              "      <td>0</td>\n",
              "      <td>0</td>\n",
              "      <td>0</td>\n",
              "      <td>0</td>\n",
              "      <td>0</td>\n",
              "      <td>0</td>\n",
              "      <td>0</td>\n",
              "      <td>0</td>\n",
              "      <td>0</td>\n",
              "      <td>0</td>\n",
              "      <td>0</td>\n",
              "      <td>0</td>\n",
              "      <td>0</td>\n",
              "      <td>0</td>\n",
              "      <td>0</td>\n",
              "      <td>0</td>\n",
              "      <td>0</td>\n",
              "      <td>0</td>\n",
              "      <td>0</td>\n",
              "      <td>0</td>\n",
              "      <td>0</td>\n",
              "      <td>0</td>\n",
              "      <td>0</td>\n",
              "      <td>0</td>\n",
              "      <td>0</td>\n",
              "      <td>0</td>\n",
              "      <td>0</td>\n",
              "      <td>0</td>\n",
              "    </tr>\n",
              "    <tr>\n",
              "      <th>124092</th>\n",
              "      <td>113955.0</td>\n",
              "      <td>17</td>\n",
              "      <td>2001</td>\n",
              "      <td>P</td>\n",
              "      <td>0</td>\n",
              "      <td>0</td>\n",
              "      <td>0</td>\n",
              "      <td>0</td>\n",
              "      <td>0</td>\n",
              "      <td>0</td>\n",
              "      <td>0</td>\n",
              "      <td>0</td>\n",
              "      <td>0</td>\n",
              "      <td>0</td>\n",
              "      <td>0</td>\n",
              "      <td>0</td>\n",
              "      <td>0</td>\n",
              "      <td>0</td>\n",
              "      <td>0</td>\n",
              "      <td>0</td>\n",
              "      <td>0</td>\n",
              "      <td>0</td>\n",
              "      <td>0</td>\n",
              "      <td>0</td>\n",
              "      <td>0</td>\n",
              "      <td>0</td>\n",
              "      <td>0</td>\n",
              "      <td>0</td>\n",
              "      <td>0</td>\n",
              "      <td>0</td>\n",
              "      <td>0</td>\n",
              "      <td>0</td>\n",
              "      <td>0</td>\n",
              "      <td>0</td>\n",
              "      <td>0</td>\n",
              "      <td>0</td>\n",
              "      <td>0</td>\n",
              "      <td>0</td>\n",
              "      <td>0</td>\n",
              "      <td>0</td>\n",
              "      <td>...</td>\n",
              "      <td>0</td>\n",
              "      <td>0</td>\n",
              "      <td>0</td>\n",
              "      <td>0</td>\n",
              "      <td>0</td>\n",
              "      <td>0</td>\n",
              "      <td>0</td>\n",
              "      <td>0</td>\n",
              "      <td>0</td>\n",
              "      <td>0</td>\n",
              "      <td>0</td>\n",
              "      <td>0</td>\n",
              "      <td>0</td>\n",
              "      <td>0</td>\n",
              "      <td>0</td>\n",
              "      <td>0</td>\n",
              "      <td>0</td>\n",
              "      <td>0</td>\n",
              "      <td>0</td>\n",
              "      <td>0</td>\n",
              "      <td>0</td>\n",
              "      <td>0</td>\n",
              "      <td>0</td>\n",
              "      <td>0</td>\n",
              "      <td>0</td>\n",
              "      <td>0</td>\n",
              "      <td>0</td>\n",
              "      <td>0</td>\n",
              "      <td>0</td>\n",
              "      <td>0</td>\n",
              "      <td>0</td>\n",
              "      <td>0</td>\n",
              "      <td>0</td>\n",
              "      <td>0</td>\n",
              "      <td>0</td>\n",
              "      <td>0</td>\n",
              "      <td>0</td>\n",
              "      <td>0</td>\n",
              "      <td>0</td>\n",
              "      <td>0</td>\n",
              "    </tr>\n",
              "    <tr>\n",
              "      <th>124094</th>\n",
              "      <td>78142.0</td>\n",
              "      <td>5</td>\n",
              "      <td>2013</td>\n",
              "      <td>P</td>\n",
              "      <td>0</td>\n",
              "      <td>0</td>\n",
              "      <td>0</td>\n",
              "      <td>0</td>\n",
              "      <td>0</td>\n",
              "      <td>0</td>\n",
              "      <td>0</td>\n",
              "      <td>0</td>\n",
              "      <td>0</td>\n",
              "      <td>0</td>\n",
              "      <td>0</td>\n",
              "      <td>0</td>\n",
              "      <td>0</td>\n",
              "      <td>0</td>\n",
              "      <td>0</td>\n",
              "      <td>0</td>\n",
              "      <td>0</td>\n",
              "      <td>0</td>\n",
              "      <td>0</td>\n",
              "      <td>0</td>\n",
              "      <td>0</td>\n",
              "      <td>0</td>\n",
              "      <td>0</td>\n",
              "      <td>0</td>\n",
              "      <td>0</td>\n",
              "      <td>0</td>\n",
              "      <td>0</td>\n",
              "      <td>0</td>\n",
              "      <td>0</td>\n",
              "      <td>0</td>\n",
              "      <td>0</td>\n",
              "      <td>0</td>\n",
              "      <td>0</td>\n",
              "      <td>0</td>\n",
              "      <td>0</td>\n",
              "      <td>0</td>\n",
              "      <td>...</td>\n",
              "      <td>0</td>\n",
              "      <td>0</td>\n",
              "      <td>0</td>\n",
              "      <td>0</td>\n",
              "      <td>0</td>\n",
              "      <td>0</td>\n",
              "      <td>0</td>\n",
              "      <td>0</td>\n",
              "      <td>0</td>\n",
              "      <td>0</td>\n",
              "      <td>0</td>\n",
              "      <td>0</td>\n",
              "      <td>0</td>\n",
              "      <td>0</td>\n",
              "      <td>0</td>\n",
              "      <td>0</td>\n",
              "      <td>0</td>\n",
              "      <td>0</td>\n",
              "      <td>0</td>\n",
              "      <td>0</td>\n",
              "      <td>0</td>\n",
              "      <td>0</td>\n",
              "      <td>0</td>\n",
              "      <td>0</td>\n",
              "      <td>0</td>\n",
              "      <td>0</td>\n",
              "      <td>0</td>\n",
              "      <td>0</td>\n",
              "      <td>0</td>\n",
              "      <td>0</td>\n",
              "      <td>0</td>\n",
              "      <td>0</td>\n",
              "      <td>0</td>\n",
              "      <td>0</td>\n",
              "      <td>0</td>\n",
              "      <td>0</td>\n",
              "      <td>0</td>\n",
              "      <td>0</td>\n",
              "      <td>0</td>\n",
              "      <td>0</td>\n",
              "    </tr>\n",
              "    <tr>\n",
              "      <th>124095</th>\n",
              "      <td>55075.0</td>\n",
              "      <td>15</td>\n",
              "      <td>2003</td>\n",
              "      <td>P</td>\n",
              "      <td>0</td>\n",
              "      <td>0</td>\n",
              "      <td>0</td>\n",
              "      <td>0</td>\n",
              "      <td>0</td>\n",
              "      <td>0</td>\n",
              "      <td>0</td>\n",
              "      <td>0</td>\n",
              "      <td>0</td>\n",
              "      <td>0</td>\n",
              "      <td>0</td>\n",
              "      <td>0</td>\n",
              "      <td>0</td>\n",
              "      <td>0</td>\n",
              "      <td>0</td>\n",
              "      <td>0</td>\n",
              "      <td>0</td>\n",
              "      <td>0</td>\n",
              "      <td>0</td>\n",
              "      <td>0</td>\n",
              "      <td>0</td>\n",
              "      <td>0</td>\n",
              "      <td>0</td>\n",
              "      <td>0</td>\n",
              "      <td>0</td>\n",
              "      <td>0</td>\n",
              "      <td>0</td>\n",
              "      <td>0</td>\n",
              "      <td>0</td>\n",
              "      <td>0</td>\n",
              "      <td>0</td>\n",
              "      <td>0</td>\n",
              "      <td>0</td>\n",
              "      <td>0</td>\n",
              "      <td>0</td>\n",
              "      <td>0</td>\n",
              "      <td>...</td>\n",
              "      <td>0</td>\n",
              "      <td>0</td>\n",
              "      <td>0</td>\n",
              "      <td>0</td>\n",
              "      <td>0</td>\n",
              "      <td>0</td>\n",
              "      <td>0</td>\n",
              "      <td>0</td>\n",
              "      <td>0</td>\n",
              "      <td>0</td>\n",
              "      <td>0</td>\n",
              "      <td>0</td>\n",
              "      <td>0</td>\n",
              "      <td>0</td>\n",
              "      <td>0</td>\n",
              "      <td>0</td>\n",
              "      <td>0</td>\n",
              "      <td>0</td>\n",
              "      <td>0</td>\n",
              "      <td>0</td>\n",
              "      <td>0</td>\n",
              "      <td>0</td>\n",
              "      <td>0</td>\n",
              "      <td>0</td>\n",
              "      <td>0</td>\n",
              "      <td>0</td>\n",
              "      <td>0</td>\n",
              "      <td>0</td>\n",
              "      <td>0</td>\n",
              "      <td>0</td>\n",
              "      <td>0</td>\n",
              "      <td>0</td>\n",
              "      <td>0</td>\n",
              "      <td>0</td>\n",
              "      <td>0</td>\n",
              "      <td>0</td>\n",
              "      <td>0</td>\n",
              "      <td>0</td>\n",
              "      <td>0</td>\n",
              "      <td>0</td>\n",
              "    </tr>\n",
              "  </tbody>\n",
              "</table>\n",
              "<p>5 rows × 1559 columns</p>\n",
              "</div>"
            ],
            "text/plain": [
              "        ODOMETER  AGE  ...  MAKE_MODEL_VOLVO-XC70 MAKE_MODEL_VOLVO-XC90\n",
              "0       109025.0   15  ...                      0                     0\n",
              "124100  190800.0   18  ...                      0                     0\n",
              "124092  113955.0   17  ...                      0                     0\n",
              "124094   78142.0    5  ...                      0                     0\n",
              "124095   55075.0   15  ...                      0                     0\n",
              "\n",
              "[5 rows x 1559 columns]"
            ]
          },
          "metadata": {
            "tags": []
          },
          "execution_count": 101
        }
      ]
    },
    {
      "cell_type": "code",
      "metadata": {
        "id": "QMZ-D8uBn2PH"
      },
      "source": [
        "#Dont run for random forest\n",
        "# Quintile transformer\n",
        "from sklearn.preprocessing import PowerTransformer\n",
        "ptb = preprocessing.QuantileTransformer(output_distribution='normal', random_state=0)\n",
        "column_names_to_normalize = ['AGE','ODOMETER','MODEL_YEAR']\n",
        "x = cars_encoded[column_names_to_normalize].values\n",
        "x_scaled = ptb.fit_transform(x)\n",
        "df_temp = pd.DataFrame(x_scaled, columns=column_names_to_normalize, index = cars_encoded.index)\n",
        "cars_encoded[column_names_to_normalize] = df_temp\n",
        "#works with odometer onlz KS test pass"
      ],
      "execution_count": 102,
      "outputs": []
    },
    {
      "cell_type": "code",
      "metadata": {
        "id": "3tqGkfsQuxwr",
        "colab": {
          "base_uri": "https://localhost:8080/"
        },
        "outputId": "9ff1bd77-0f2f-420b-e692-bf1aa1fd1061"
      },
      "source": [
        "#x is attributes, y is classifier\n",
        "x=cars_encoded.drop('OVERALL_RESULT',axis=1)\n",
        "y=cars_encoded.OVERALL_RESULT\n",
        "# test and train split\n",
        "x_train,x_test,y_train,y_test=train_test_split(x,y,test_size=0.2, random_state=123)\n",
        "print(\"X_train : \",x_train.shape)\n",
        "print(\"X_test : \",x_test.shape)\n",
        "print(\"y_train : \",y_train.shape)\n",
        "print(\"y_test : \",y_test.shape)\n",
        "y_test = y_test.replace(['P'],[0])\n",
        "y_test = y_test.replace(['F'],[1])\n",
        "y_train = y_train.replace(['P'],[0])\n",
        "y_train = y_train.replace(['F'],[1])\n"
      ],
      "execution_count": 103,
      "outputs": [
        {
          "output_type": "stream",
          "text": [
            "X_train :  (103628, 1558)\n",
            "X_test :  (25907, 1558)\n",
            "y_train :  (103628,)\n",
            "y_test :  (25907,)\n"
          ],
          "name": "stdout"
        }
      ]
    },
    {
      "cell_type": "code",
      "metadata": {
        "id": "ax67uuC8uxiY",
        "colab": {
          "base_uri": "https://localhost:8080/",
          "height": 269
        },
        "outputId": "f309ce58-53f3-47cd-f275-7138f37fcc49"
      },
      "source": [
        "x_train.head()"
      ],
      "execution_count": 104,
      "outputs": [
        {
          "output_type": "execute_result",
          "data": {
            "text/html": [
              "<div>\n",
              "<style scoped>\n",
              "    .dataframe tbody tr th:only-of-type {\n",
              "        vertical-align: middle;\n",
              "    }\n",
              "\n",
              "    .dataframe tbody tr th {\n",
              "        vertical-align: top;\n",
              "    }\n",
              "\n",
              "    .dataframe thead th {\n",
              "        text-align: right;\n",
              "    }\n",
              "</style>\n",
              "<table border=\"1\" class=\"dataframe\">\n",
              "  <thead>\n",
              "    <tr style=\"text-align: right;\">\n",
              "      <th></th>\n",
              "      <th>ODOMETER</th>\n",
              "      <th>AGE</th>\n",
              "      <th>MODEL_YEAR</th>\n",
              "      <th>MAKE_MODEL_ACURA-2.3CL</th>\n",
              "      <th>MAKE_MODEL_ACURA-2.5TL</th>\n",
              "      <th>MAKE_MODEL_ACURA-3.0CL</th>\n",
              "      <th>MAKE_MODEL_ACURA-3.2CL</th>\n",
              "      <th>MAKE_MODEL_ACURA-3.2TL</th>\n",
              "      <th>MAKE_MODEL_ACURA-3.5RL</th>\n",
              "      <th>MAKE_MODEL_ACURA-32S</th>\n",
              "      <th>MAKE_MODEL_ACURA-DRX</th>\n",
              "      <th>MAKE_MODEL_ACURA-ILX</th>\n",
              "      <th>MAKE_MODEL_ACURA-INTEGRA</th>\n",
              "      <th>MAKE_MODEL_ACURA-LEGEND</th>\n",
              "      <th>MAKE_MODEL_ACURA-MDX</th>\n",
              "      <th>MAKE_MODEL_ACURA-NSX</th>\n",
              "      <th>MAKE_MODEL_ACURA-Q40</th>\n",
              "      <th>MAKE_MODEL_ACURA-RDX</th>\n",
              "      <th>MAKE_MODEL_ACURA-RDXTURBO</th>\n",
              "      <th>MAKE_MODEL_ACURA-RL</th>\n",
              "      <th>MAKE_MODEL_ACURA-RLX</th>\n",
              "      <th>MAKE_MODEL_ACURA-RSX</th>\n",
              "      <th>MAKE_MODEL_ACURA-TL</th>\n",
              "      <th>MAKE_MODEL_ACURA-TLX</th>\n",
              "      <th>MAKE_MODEL_ACURA-TSX</th>\n",
              "      <th>MAKE_MODEL_ACURA-TSX SPORT WAGON</th>\n",
              "      <th>MAKE_MODEL_ACURA-VIGOR</th>\n",
              "      <th>MAKE_MODEL_ACURA-ZDX</th>\n",
              "      <th>MAKE_MODEL_BMW-1 SERIES</th>\n",
              "      <th>MAKE_MODEL_BMW-1-SERIES</th>\n",
              "      <th>MAKE_MODEL_BMW-128I</th>\n",
              "      <th>MAKE_MODEL_BMW-135I</th>\n",
              "      <th>MAKE_MODEL_BMW-228I</th>\n",
              "      <th>MAKE_MODEL_BMW-235I</th>\n",
              "      <th>MAKE_MODEL_BMW-3-SERIES</th>\n",
              "      <th>MAKE_MODEL_BMW-325E</th>\n",
              "      <th>MAKE_MODEL_BMW-325I</th>\n",
              "      <th>MAKE_MODEL_BMW-328</th>\n",
              "      <th>MAKE_MODEL_BMW-328 XI</th>\n",
              "      <th>MAKE_MODEL_BMW-3281</th>\n",
              "      <th>...</th>\n",
              "      <th>MAKE_MODEL_VOLKSWAGEN-PICKUP</th>\n",
              "      <th>MAKE_MODEL_VOLKSWAGEN-R32</th>\n",
              "      <th>MAKE_MODEL_VOLKSWAGEN-RABBIT</th>\n",
              "      <th>MAKE_MODEL_VOLKSWAGEN-ROUTAN</th>\n",
              "      <th>MAKE_MODEL_VOLKSWAGEN-RV</th>\n",
              "      <th>MAKE_MODEL_VOLKSWAGEN-SCIROCCO</th>\n",
              "      <th>MAKE_MODEL_VOLKSWAGEN-TIGUAN</th>\n",
              "      <th>MAKE_MODEL_VOLKSWAGEN-TOUAREG</th>\n",
              "      <th>MAKE_MODEL_VOLKSWAGEN-VANAGON</th>\n",
              "      <th>MAKE_MODEL_VOLVO-240</th>\n",
              "      <th>MAKE_MODEL_VOLVO-740</th>\n",
              "      <th>MAKE_MODEL_VOLVO-760</th>\n",
              "      <th>MAKE_MODEL_VOLVO-800 SERIES</th>\n",
              "      <th>MAKE_MODEL_VOLVO-850</th>\n",
              "      <th>MAKE_MODEL_VOLVO-850 SERIES</th>\n",
              "      <th>MAKE_MODEL_VOLVO-940</th>\n",
              "      <th>MAKE_MODEL_VOLVO-960</th>\n",
              "      <th>MAKE_MODEL_VOLVO-C30</th>\n",
              "      <th>MAKE_MODEL_VOLVO-C70</th>\n",
              "      <th>MAKE_MODEL_VOLVO-DL</th>\n",
              "      <th>MAKE_MODEL_VOLVO-GLT</th>\n",
              "      <th>MAKE_MODEL_VOLVO-S40</th>\n",
              "      <th>MAKE_MODEL_VOLVO-S60</th>\n",
              "      <th>MAKE_MODEL_VOLVO-S60 AWD</th>\n",
              "      <th>MAKE_MODEL_VOLVO-S60 FWD</th>\n",
              "      <th>MAKE_MODEL_VOLVO-S70</th>\n",
              "      <th>MAKE_MODEL_VOLVO-S70 AWD</th>\n",
              "      <th>MAKE_MODEL_VOLVO-S70 SERIES SEDAN</th>\n",
              "      <th>MAKE_MODEL_VOLVO-S80</th>\n",
              "      <th>MAKE_MODEL_VOLVO-S90</th>\n",
              "      <th>MAKE_MODEL_VOLVO-V40</th>\n",
              "      <th>MAKE_MODEL_VOLVO-V50</th>\n",
              "      <th>MAKE_MODEL_VOLVO-V60</th>\n",
              "      <th>MAKE_MODEL_VOLVO-V70</th>\n",
              "      <th>MAKE_MODEL_VOLVO-V70 AWD</th>\n",
              "      <th>MAKE_MODEL_VOLVO-V70 FWD</th>\n",
              "      <th>MAKE_MODEL_VOLVO-V70XC</th>\n",
              "      <th>MAKE_MODEL_VOLVO-XC60</th>\n",
              "      <th>MAKE_MODEL_VOLVO-XC70</th>\n",
              "      <th>MAKE_MODEL_VOLVO-XC90</th>\n",
              "    </tr>\n",
              "  </thead>\n",
              "  <tbody>\n",
              "    <tr>\n",
              "      <th>119077</th>\n",
              "      <td>0.540586</td>\n",
              "      <td>0.849874</td>\n",
              "      <td>-0.738089</td>\n",
              "      <td>0</td>\n",
              "      <td>0</td>\n",
              "      <td>0</td>\n",
              "      <td>0</td>\n",
              "      <td>0</td>\n",
              "      <td>0</td>\n",
              "      <td>0</td>\n",
              "      <td>0</td>\n",
              "      <td>0</td>\n",
              "      <td>0</td>\n",
              "      <td>0</td>\n",
              "      <td>0</td>\n",
              "      <td>0</td>\n",
              "      <td>0</td>\n",
              "      <td>0</td>\n",
              "      <td>0</td>\n",
              "      <td>0</td>\n",
              "      <td>0</td>\n",
              "      <td>0</td>\n",
              "      <td>0</td>\n",
              "      <td>0</td>\n",
              "      <td>0</td>\n",
              "      <td>0</td>\n",
              "      <td>0</td>\n",
              "      <td>0</td>\n",
              "      <td>0</td>\n",
              "      <td>0</td>\n",
              "      <td>0</td>\n",
              "      <td>0</td>\n",
              "      <td>0</td>\n",
              "      <td>0</td>\n",
              "      <td>0</td>\n",
              "      <td>0</td>\n",
              "      <td>0</td>\n",
              "      <td>0</td>\n",
              "      <td>0</td>\n",
              "      <td>0</td>\n",
              "      <td>...</td>\n",
              "      <td>0</td>\n",
              "      <td>0</td>\n",
              "      <td>0</td>\n",
              "      <td>0</td>\n",
              "      <td>0</td>\n",
              "      <td>0</td>\n",
              "      <td>0</td>\n",
              "      <td>0</td>\n",
              "      <td>0</td>\n",
              "      <td>0</td>\n",
              "      <td>0</td>\n",
              "      <td>0</td>\n",
              "      <td>0</td>\n",
              "      <td>0</td>\n",
              "      <td>0</td>\n",
              "      <td>0</td>\n",
              "      <td>0</td>\n",
              "      <td>0</td>\n",
              "      <td>0</td>\n",
              "      <td>0</td>\n",
              "      <td>0</td>\n",
              "      <td>0</td>\n",
              "      <td>0</td>\n",
              "      <td>0</td>\n",
              "      <td>0</td>\n",
              "      <td>0</td>\n",
              "      <td>0</td>\n",
              "      <td>0</td>\n",
              "      <td>0</td>\n",
              "      <td>0</td>\n",
              "      <td>0</td>\n",
              "      <td>0</td>\n",
              "      <td>0</td>\n",
              "      <td>0</td>\n",
              "      <td>0</td>\n",
              "      <td>0</td>\n",
              "      <td>0</td>\n",
              "      <td>0</td>\n",
              "      <td>0</td>\n",
              "      <td>0</td>\n",
              "    </tr>\n",
              "    <tr>\n",
              "      <th>18742</th>\n",
              "      <td>-1.235183</td>\n",
              "      <td>-0.700711</td>\n",
              "      <td>0.080379</td>\n",
              "      <td>0</td>\n",
              "      <td>0</td>\n",
              "      <td>0</td>\n",
              "      <td>0</td>\n",
              "      <td>0</td>\n",
              "      <td>0</td>\n",
              "      <td>0</td>\n",
              "      <td>0</td>\n",
              "      <td>0</td>\n",
              "      <td>0</td>\n",
              "      <td>0</td>\n",
              "      <td>0</td>\n",
              "      <td>0</td>\n",
              "      <td>0</td>\n",
              "      <td>0</td>\n",
              "      <td>0</td>\n",
              "      <td>0</td>\n",
              "      <td>0</td>\n",
              "      <td>0</td>\n",
              "      <td>0</td>\n",
              "      <td>0</td>\n",
              "      <td>0</td>\n",
              "      <td>0</td>\n",
              "      <td>0</td>\n",
              "      <td>0</td>\n",
              "      <td>0</td>\n",
              "      <td>0</td>\n",
              "      <td>0</td>\n",
              "      <td>0</td>\n",
              "      <td>0</td>\n",
              "      <td>0</td>\n",
              "      <td>0</td>\n",
              "      <td>0</td>\n",
              "      <td>0</td>\n",
              "      <td>0</td>\n",
              "      <td>0</td>\n",
              "      <td>0</td>\n",
              "      <td>...</td>\n",
              "      <td>0</td>\n",
              "      <td>0</td>\n",
              "      <td>0</td>\n",
              "      <td>0</td>\n",
              "      <td>0</td>\n",
              "      <td>0</td>\n",
              "      <td>0</td>\n",
              "      <td>0</td>\n",
              "      <td>0</td>\n",
              "      <td>0</td>\n",
              "      <td>0</td>\n",
              "      <td>0</td>\n",
              "      <td>0</td>\n",
              "      <td>0</td>\n",
              "      <td>0</td>\n",
              "      <td>0</td>\n",
              "      <td>0</td>\n",
              "      <td>0</td>\n",
              "      <td>0</td>\n",
              "      <td>0</td>\n",
              "      <td>0</td>\n",
              "      <td>0</td>\n",
              "      <td>0</td>\n",
              "      <td>0</td>\n",
              "      <td>0</td>\n",
              "      <td>0</td>\n",
              "      <td>0</td>\n",
              "      <td>0</td>\n",
              "      <td>0</td>\n",
              "      <td>0</td>\n",
              "      <td>0</td>\n",
              "      <td>0</td>\n",
              "      <td>0</td>\n",
              "      <td>0</td>\n",
              "      <td>0</td>\n",
              "      <td>0</td>\n",
              "      <td>0</td>\n",
              "      <td>0</td>\n",
              "      <td>0</td>\n",
              "      <td>0</td>\n",
              "    </tr>\n",
              "    <tr>\n",
              "      <th>174978</th>\n",
              "      <td>-0.683109</td>\n",
              "      <td>-0.953493</td>\n",
              "      <td>1.767903</td>\n",
              "      <td>0</td>\n",
              "      <td>0</td>\n",
              "      <td>0</td>\n",
              "      <td>0</td>\n",
              "      <td>0</td>\n",
              "      <td>0</td>\n",
              "      <td>0</td>\n",
              "      <td>0</td>\n",
              "      <td>0</td>\n",
              "      <td>0</td>\n",
              "      <td>0</td>\n",
              "      <td>0</td>\n",
              "      <td>0</td>\n",
              "      <td>0</td>\n",
              "      <td>0</td>\n",
              "      <td>0</td>\n",
              "      <td>0</td>\n",
              "      <td>0</td>\n",
              "      <td>0</td>\n",
              "      <td>0</td>\n",
              "      <td>0</td>\n",
              "      <td>0</td>\n",
              "      <td>0</td>\n",
              "      <td>0</td>\n",
              "      <td>0</td>\n",
              "      <td>0</td>\n",
              "      <td>0</td>\n",
              "      <td>0</td>\n",
              "      <td>0</td>\n",
              "      <td>0</td>\n",
              "      <td>0</td>\n",
              "      <td>0</td>\n",
              "      <td>0</td>\n",
              "      <td>0</td>\n",
              "      <td>0</td>\n",
              "      <td>0</td>\n",
              "      <td>0</td>\n",
              "      <td>...</td>\n",
              "      <td>0</td>\n",
              "      <td>0</td>\n",
              "      <td>0</td>\n",
              "      <td>0</td>\n",
              "      <td>0</td>\n",
              "      <td>0</td>\n",
              "      <td>0</td>\n",
              "      <td>0</td>\n",
              "      <td>0</td>\n",
              "      <td>0</td>\n",
              "      <td>0</td>\n",
              "      <td>0</td>\n",
              "      <td>0</td>\n",
              "      <td>0</td>\n",
              "      <td>0</td>\n",
              "      <td>0</td>\n",
              "      <td>0</td>\n",
              "      <td>0</td>\n",
              "      <td>0</td>\n",
              "      <td>0</td>\n",
              "      <td>0</td>\n",
              "      <td>0</td>\n",
              "      <td>0</td>\n",
              "      <td>0</td>\n",
              "      <td>0</td>\n",
              "      <td>0</td>\n",
              "      <td>0</td>\n",
              "      <td>0</td>\n",
              "      <td>0</td>\n",
              "      <td>0</td>\n",
              "      <td>0</td>\n",
              "      <td>0</td>\n",
              "      <td>0</td>\n",
              "      <td>0</td>\n",
              "      <td>0</td>\n",
              "      <td>0</td>\n",
              "      <td>0</td>\n",
              "      <td>0</td>\n",
              "      <td>0</td>\n",
              "      <td>0</td>\n",
              "    </tr>\n",
              "    <tr>\n",
              "      <th>53003</th>\n",
              "      <td>-0.870135</td>\n",
              "      <td>0.989697</td>\n",
              "      <td>-1.159515</td>\n",
              "      <td>0</td>\n",
              "      <td>0</td>\n",
              "      <td>0</td>\n",
              "      <td>0</td>\n",
              "      <td>0</td>\n",
              "      <td>0</td>\n",
              "      <td>0</td>\n",
              "      <td>0</td>\n",
              "      <td>0</td>\n",
              "      <td>0</td>\n",
              "      <td>0</td>\n",
              "      <td>0</td>\n",
              "      <td>0</td>\n",
              "      <td>0</td>\n",
              "      <td>0</td>\n",
              "      <td>0</td>\n",
              "      <td>0</td>\n",
              "      <td>0</td>\n",
              "      <td>0</td>\n",
              "      <td>0</td>\n",
              "      <td>0</td>\n",
              "      <td>0</td>\n",
              "      <td>0</td>\n",
              "      <td>0</td>\n",
              "      <td>0</td>\n",
              "      <td>0</td>\n",
              "      <td>0</td>\n",
              "      <td>0</td>\n",
              "      <td>0</td>\n",
              "      <td>0</td>\n",
              "      <td>0</td>\n",
              "      <td>0</td>\n",
              "      <td>0</td>\n",
              "      <td>0</td>\n",
              "      <td>0</td>\n",
              "      <td>0</td>\n",
              "      <td>0</td>\n",
              "      <td>...</td>\n",
              "      <td>0</td>\n",
              "      <td>0</td>\n",
              "      <td>0</td>\n",
              "      <td>0</td>\n",
              "      <td>0</td>\n",
              "      <td>0</td>\n",
              "      <td>0</td>\n",
              "      <td>0</td>\n",
              "      <td>0</td>\n",
              "      <td>0</td>\n",
              "      <td>0</td>\n",
              "      <td>0</td>\n",
              "      <td>0</td>\n",
              "      <td>0</td>\n",
              "      <td>0</td>\n",
              "      <td>0</td>\n",
              "      <td>0</td>\n",
              "      <td>0</td>\n",
              "      <td>0</td>\n",
              "      <td>0</td>\n",
              "      <td>0</td>\n",
              "      <td>0</td>\n",
              "      <td>0</td>\n",
              "      <td>0</td>\n",
              "      <td>0</td>\n",
              "      <td>0</td>\n",
              "      <td>0</td>\n",
              "      <td>0</td>\n",
              "      <td>0</td>\n",
              "      <td>0</td>\n",
              "      <td>0</td>\n",
              "      <td>0</td>\n",
              "      <td>0</td>\n",
              "      <td>0</td>\n",
              "      <td>0</td>\n",
              "      <td>0</td>\n",
              "      <td>0</td>\n",
              "      <td>0</td>\n",
              "      <td>0</td>\n",
              "      <td>0</td>\n",
              "    </tr>\n",
              "    <tr>\n",
              "      <th>182418</th>\n",
              "      <td>0.233174</td>\n",
              "      <td>0.389783</td>\n",
              "      <td>0.275694</td>\n",
              "      <td>0</td>\n",
              "      <td>0</td>\n",
              "      <td>0</td>\n",
              "      <td>0</td>\n",
              "      <td>0</td>\n",
              "      <td>0</td>\n",
              "      <td>0</td>\n",
              "      <td>0</td>\n",
              "      <td>0</td>\n",
              "      <td>0</td>\n",
              "      <td>0</td>\n",
              "      <td>0</td>\n",
              "      <td>0</td>\n",
              "      <td>0</td>\n",
              "      <td>0</td>\n",
              "      <td>0</td>\n",
              "      <td>0</td>\n",
              "      <td>0</td>\n",
              "      <td>0</td>\n",
              "      <td>0</td>\n",
              "      <td>0</td>\n",
              "      <td>0</td>\n",
              "      <td>0</td>\n",
              "      <td>0</td>\n",
              "      <td>0</td>\n",
              "      <td>0</td>\n",
              "      <td>0</td>\n",
              "      <td>0</td>\n",
              "      <td>0</td>\n",
              "      <td>0</td>\n",
              "      <td>0</td>\n",
              "      <td>0</td>\n",
              "      <td>0</td>\n",
              "      <td>0</td>\n",
              "      <td>0</td>\n",
              "      <td>0</td>\n",
              "      <td>0</td>\n",
              "      <td>...</td>\n",
              "      <td>0</td>\n",
              "      <td>0</td>\n",
              "      <td>0</td>\n",
              "      <td>0</td>\n",
              "      <td>0</td>\n",
              "      <td>0</td>\n",
              "      <td>0</td>\n",
              "      <td>0</td>\n",
              "      <td>0</td>\n",
              "      <td>0</td>\n",
              "      <td>0</td>\n",
              "      <td>0</td>\n",
              "      <td>0</td>\n",
              "      <td>0</td>\n",
              "      <td>0</td>\n",
              "      <td>0</td>\n",
              "      <td>0</td>\n",
              "      <td>0</td>\n",
              "      <td>0</td>\n",
              "      <td>0</td>\n",
              "      <td>0</td>\n",
              "      <td>0</td>\n",
              "      <td>0</td>\n",
              "      <td>0</td>\n",
              "      <td>0</td>\n",
              "      <td>0</td>\n",
              "      <td>0</td>\n",
              "      <td>0</td>\n",
              "      <td>0</td>\n",
              "      <td>0</td>\n",
              "      <td>0</td>\n",
              "      <td>0</td>\n",
              "      <td>0</td>\n",
              "      <td>0</td>\n",
              "      <td>0</td>\n",
              "      <td>0</td>\n",
              "      <td>0</td>\n",
              "      <td>0</td>\n",
              "      <td>0</td>\n",
              "      <td>0</td>\n",
              "    </tr>\n",
              "  </tbody>\n",
              "</table>\n",
              "<p>5 rows × 1558 columns</p>\n",
              "</div>"
            ],
            "text/plain": [
              "        ODOMETER       AGE  ...  MAKE_MODEL_VOLVO-XC70  MAKE_MODEL_VOLVO-XC90\n",
              "119077  0.540586  0.849874  ...                      0                      0\n",
              "18742  -1.235183 -0.700711  ...                      0                      0\n",
              "174978 -0.683109 -0.953493  ...                      0                      0\n",
              "53003  -0.870135  0.989697  ...                      0                      0\n",
              "182418  0.233174  0.389783  ...                      0                      0\n",
              "\n",
              "[5 rows x 1558 columns]"
            ]
          },
          "metadata": {
            "tags": []
          },
          "execution_count": 104
        }
      ]
    },
    {
      "cell_type": "markdown",
      "metadata": {
        "id": "IymSYeD9bWM5"
      },
      "source": [
        "# Normalize data"
      ]
    },
    {
      "cell_type": "code",
      "metadata": {
        "id": "R37z_74m6FOJ"
      },
      "source": [
        "# Run this when you dont have ONE HOT encoded features\n",
        "# Quintile transformer\n",
        "from sklearn.preprocessing import PowerTransformer\n",
        "ptb = preprocessing.QuantileTransformer(output_distribution='normal', random_state=0)\n",
        "column_names_to_normalize = ['AGE','ODOMETER','GVWR']\n",
        "x = cars_sample_07[column_names_to_normalize].values\n",
        "x_scaled = ptb.fit_transform(x)\n",
        "df_temp = pd.DataFrame(x_scaled, columns=column_names_to_normalize, index = cars_sample_07.index)\n",
        "cars_sample_07[column_names_to_normalize] = df_temp\n",
        "#works with odometer onlz KS test pass"
      ],
      "execution_count": null,
      "outputs": []
    },
    {
      "cell_type": "code",
      "metadata": {
        "colab": {
          "base_uri": "https://localhost:8080/"
        },
        "id": "i7TVOyulLaAE",
        "outputId": "d788fb0c-1110-403c-a5f8-16d2eae2f1ab"
      },
      "source": [
        "#Anderson-Darling Test\n",
        "from scipy.stats import anderson\n",
        "result = anderson(cars_sample_07['GVWR'])\n",
        "print('Statistic: %.3f' % result.statistic)\n",
        "p = 0\n",
        "for i in range(len(result.critical_values)):\n",
        "\tsl, cv = result.significance_level[i], result.critical_values[i]\n",
        "\tif result.statistic < result.critical_values[i]:\n",
        "\t\tprint('%.3f: %.3f, data looks normal (fail to reject H0)' % (sl, cv))\n",
        "\telse:\n",
        "\t\tprint('%.3f: %.3f, data does not look normal (reject H0)' % (sl, cv))"
      ],
      "execution_count": null,
      "outputs": [
        {
          "output_type": "stream",
          "text": [
            "Statistic: 65.093\n",
            "15.000: 0.576, data does not look normal (reject H0)\n",
            "10.000: 0.656, data does not look normal (reject H0)\n",
            "5.000: 0.787, data does not look normal (reject H0)\n",
            "2.500: 0.918, data does not look normal (reject H0)\n",
            "1.000: 1.092, data does not look normal (reject H0)\n"
          ],
          "name": "stdout"
        }
      ]
    },
    {
      "cell_type": "code",
      "metadata": {
        "colab": {
          "base_uri": "https://localhost:8080/",
          "height": 195
        },
        "id": "e9Lp5PKiLLfA",
        "outputId": "31ef93bd-5357-4fcb-9ef3-27a7e62c48a4"
      },
      "source": [
        "cars_sample_07.head()"
      ],
      "execution_count": null,
      "outputs": [
        {
          "output_type": "execute_result",
          "data": {
            "text/html": [
              "<div>\n",
              "<style scoped>\n",
              "    .dataframe tbody tr th:only-of-type {\n",
              "        vertical-align: middle;\n",
              "    }\n",
              "\n",
              "    .dataframe tbody tr th {\n",
              "        vertical-align: top;\n",
              "    }\n",
              "\n",
              "    .dataframe thead th {\n",
              "        text-align: right;\n",
              "    }\n",
              "</style>\n",
              "<table border=\"1\" class=\"dataframe\">\n",
              "  <thead>\n",
              "    <tr style=\"text-align: right;\">\n",
              "      <th></th>\n",
              "      <th>ODOMETER</th>\n",
              "      <th>AGE</th>\n",
              "      <th>GVWR</th>\n",
              "      <th>OVERALL_RESULT</th>\n",
              "    </tr>\n",
              "  </thead>\n",
              "  <tbody>\n",
              "    <tr>\n",
              "      <th>0</th>\n",
              "      <td>-0.005475</td>\n",
              "      <td>0.700711</td>\n",
              "      <td>-1.107059</td>\n",
              "      <td>P</td>\n",
              "    </tr>\n",
              "    <tr>\n",
              "      <th>124100</th>\n",
              "      <td>1.313183</td>\n",
              "      <td>1.123415</td>\n",
              "      <td>0.286135</td>\n",
              "      <td>P</td>\n",
              "    </tr>\n",
              "    <tr>\n",
              "      <th>124092</th>\n",
              "      <td>0.078075</td>\n",
              "      <td>0.987652</td>\n",
              "      <td>-0.918498</td>\n",
              "      <td>P</td>\n",
              "    </tr>\n",
              "    <tr>\n",
              "      <th>124094</th>\n",
              "      <td>-0.579224</td>\n",
              "      <td>-1.310017</td>\n",
              "      <td>0.090704</td>\n",
              "      <td>P</td>\n",
              "    </tr>\n",
              "    <tr>\n",
              "      <th>124095</th>\n",
              "      <td>-1.096414</td>\n",
              "      <td>0.700711</td>\n",
              "      <td>0.227519</td>\n",
              "      <td>P</td>\n",
              "    </tr>\n",
              "  </tbody>\n",
              "</table>\n",
              "</div>"
            ],
            "text/plain": [
              "        ODOMETER       AGE      GVWR OVERALL_RESULT\n",
              "0      -0.005475  0.700711 -1.107059              P\n",
              "124100  1.313183  1.123415  0.286135              P\n",
              "124092  0.078075  0.987652 -0.918498              P\n",
              "124094 -0.579224 -1.310017  0.090704              P\n",
              "124095 -1.096414  0.700711  0.227519              P"
            ]
          },
          "metadata": {
            "tags": []
          },
          "execution_count": 94
        }
      ]
    },
    {
      "cell_type": "code",
      "metadata": {
        "id": "NocOIWGXW3A0",
        "colab": {
          "base_uri": "https://localhost:8080/",
          "height": 285
        },
        "outputId": "f16cd500-b169-46b0-b875-575cbb6aa572"
      },
      "source": [
        "import seaborn as sns\n",
        "cars_sample_07['GVWR'].hist(bins=100)"
      ],
      "execution_count": null,
      "outputs": [
        {
          "output_type": "execute_result",
          "data": {
            "text/plain": [
              "<matplotlib.axes._subplots.AxesSubplot at 0x7f6c8bf806d8>"
            ]
          },
          "metadata": {
            "tags": []
          },
          "execution_count": 95
        },
        {
          "output_type": "display_data",
          "data": {
            "image/png": "[encoded data removed]",
            "text/plain": [
              "<Figure size 432x288 with 1 Axes>"
            ]
          },
          "metadata": {
            "tags": []
          }
        }
      ]
    },
    {
      "cell_type": "markdown",
      "metadata": {
        "id": "9Ff9_Q-1bTct"
      },
      "source": [
        "# Split"
      ]
    },
    {
      "cell_type": "code",
      "metadata": {
        "id": "LXGUSgRMb4fe"
      },
      "source": [
        "# Dont use this if use ONE HOT ENCODING , it data split code there also"
      ],
      "execution_count": null,
      "outputs": []
    },
    {
      "cell_type": "code",
      "metadata": {
        "id": "U-tv0PZrXSOU",
        "colab": {
          "base_uri": "https://localhost:8080/"
        },
        "outputId": "0175895a-c75a-4873-bb34-b7accb425a8d"
      },
      "source": [
        "#x is attributes, y is classifier\n",
        "x=cars_sample_07.drop('OVERALL_RESULT',axis=1)\n",
        "y=cars_sample_07.OVERALL_RESULT\n",
        "# test and train split\n",
        "x_train,x_test,y_train,y_test=train_test_split(x,y,test_size=0.2, random_state=123)\n",
        "print(\"X_train : \",x_train.shape)\n",
        "print(\"X_test : \",x_test.shape)\n",
        "print(\"y_train : \",y_train.shape)\n",
        "print(\"y_test : \",y_test.shape)\n",
        "y_test = y_test.replace(['P'],[0])\n",
        "y_test = y_test.replace(['F'],[1])\n",
        "y_train = y_train.replace(['P'],[0])\n",
        "y_train = y_train.replace(['F'],[1])"
      ],
      "execution_count": null,
      "outputs": [
        {
          "output_type": "stream",
          "text": [
            "X_train :  (103628, 5)\n",
            "X_test :  (25907, 5)\n",
            "y_train :  (103628,)\n",
            "y_test :  (25907,)\n"
          ],
          "name": "stdout"
        }
      ]
    },
    {
      "cell_type": "markdown",
      "metadata": {
        "id": "1ydzVcqvbQEW"
      },
      "source": [
        "# Case Balancing \n"
      ]
    },
    {
      "cell_type": "markdown",
      "metadata": {
        "id": "tVU2Mkqyx9CY"
      },
      "source": [
        "Select one case balancing method"
      ]
    },
    {
      "cell_type": "code",
      "metadata": {
        "id": "T_GTGtpjwo-T"
      },
      "source": [
        "# Random Under Sampling\n",
        "rus = RandomUnderSampler(random_state=42, replacement=True)\n",
        "X_resampled, y_resampled = rus.fit_sample(x_train, y_train)"
      ],
      "execution_count": 105,
      "outputs": []
    },
    {
      "cell_type": "code",
      "metadata": {
        "id": "M1DQMlUAxOCr"
      },
      "source": [
        "# Over Sampling \n",
        "ros = RandomOverSampler(random_state=42)\n",
        "X_resampled, y_resampled = ros.fit_sample(x_train, y_train)"
      ],
      "execution_count": null,
      "outputs": []
    },
    {
      "cell_type": "code",
      "metadata": {
        "id": "v8x1m9NcM2Mm"
      },
      "source": [
        "# SMOTE NC\n",
        "# Use when there is categorical variables and have to definr which columns are categorical\n",
        "smnc = SMOTENC(categorical_features= [2]  , random_state=100, sampling_strategy=.6)\n",
        "X_resampled, y_resampled = smnc.fit_sample(x_train, y_train)"
      ],
      "execution_count": null,
      "outputs": []
    },
    {
      "cell_type": "code",
      "metadata": {
        "id": "3YCJeO7-b5PZ"
      },
      "source": [
        "# SMOTE\n",
        "sm = SMOTE(sampling_strategy= 0.6, k_neighbors=5, random_state=100)\n",
        "X_resampled, y_resampled = sm.fit_sample(x_train, y_train)"
      ],
      "execution_count": null,
      "outputs": []
    },
    {
      "cell_type": "code",
      "metadata": {
        "id": "2_8eAF-IeWsS"
      },
      "source": [
        "# ADASYN\n",
        "ada = ADASYN(random_state=100)\n",
        "X_resampled, y_resampled = ada.fit_sample(x_train, y_train)"
      ],
      "execution_count": null,
      "outputs": []
    },
    {
      "cell_type": "code",
      "metadata": {
        "id": "_gSZgiZdb5E9",
        "colab": {
          "base_uri": "https://localhost:8080/",
          "height": 297
        },
        "outputId": "c8f506ae-4dac-4da6-e7db-2e02089d3133"
      },
      "source": [
        "# Scatter plot\n",
        "kwarg_params = {'linewidth': 1, 'edgecolor': 'black'}\n",
        "colors = ['#ef8a62' if v == 0 else '#f7f7f7' if v == 1 else '#67a9cf' for v in y_resampled]\n",
        "plt.scatter(X_resampled[:, 0], X_resampled[:, 1], c=colors, **kwarg_params)\n",
        "sns.despine()\n",
        "plt.suptitle(\"Benchmark Data Resampled with SMOTE\")\n",
        "pass"
      ],
      "execution_count": 106,
      "outputs": [
        {
          "output_type": "display_data",
          "data": {
            "image/png": "[encoded data removed]",
            "text/plain": [
              "<Figure size 432x288 with 1 Axes>"
            ]
          },
          "metadata": {
            "tags": []
          }
        }
      ]
    },
    {
      "cell_type": "markdown",
      "metadata": {
        "id": "dOYrDQIhbJGv"
      },
      "source": [
        "# Model - Random Forest"
      ]
    },
    {
      "cell_type": "code",
      "metadata": {
        "id": "f-vgMZ5PC8AW",
        "colab": {
          "base_uri": "https://localhost:8080/"
        },
        "outputId": "5a4512ab-93e6-4d92-ed06-681e76501dad"
      },
      "source": [
        "#Random Forest model \"ODOMETER\",\"AGE\"\n",
        "model= RandomForestClassifier(random_state = 42)\n",
        "\n",
        "# Train the model on training data\n",
        "model.fit(X_resampled,y_resampled)\n",
        "#model.fit(x_train,y_train)\n"
      ],
      "execution_count": 107,
      "outputs": [
        {
          "output_type": "execute_result",
          "data": {
            "text/plain": [
              "RandomForestClassifier(bootstrap=True, ccp_alpha=0.0, class_weight=None,\n",
              "                       criterion='gini', max_depth=None, max_features='auto',\n",
              "                       max_leaf_nodes=None, max_samples=None,\n",
              "                       min_impurity_decrease=0.0, min_impurity_split=None,\n",
              "                       min_samples_leaf=1, min_samples_split=2,\n",
              "                       min_weight_fraction_leaf=0.0, n_estimators=100,\n",
              "                       n_jobs=None, oob_score=False, random_state=42, verbose=0,\n",
              "                       warm_start=False)"
            ]
          },
          "metadata": {
            "tags": []
          },
          "execution_count": 107
        }
      ]
    },
    {
      "cell_type": "code",
      "metadata": {
        "id": "39XaVUtJgbVN",
        "colab": {
          "base_uri": "https://localhost:8080/"
        },
        "outputId": "b414ffd7-f62d-453a-a6e6-d697ae584dd8"
      },
      "source": [
        "model.score(x_test,y_test)#accuracy\n"
      ],
      "execution_count": 108,
      "outputs": [
        {
          "output_type": "execute_result",
          "data": {
            "text/plain": [
              "0.6190990851893311"
            ]
          },
          "metadata": {
            "tags": []
          },
          "execution_count": 108
        }
      ]
    },
    {
      "cell_type": "code",
      "metadata": {
        "id": "ex02mBgtgda1",
        "colab": {
          "base_uri": "https://localhost:8080/"
        },
        "outputId": "58ee7c45-0ea5-42ca-8a25-008e086f37c6"
      },
      "source": [
        "#confusion matrix\n",
        "y_predicted= model.predict(x_test)\n",
        "cm= confusion_matrix(y_test,y_predicted)\n",
        "cm"
      ],
      "execution_count": 109,
      "outputs": [
        {
          "output_type": "execute_result",
          "data": {
            "text/plain": [
              "array([[14668,  9170],\n",
              "       [  698,  1371]])"
            ]
          },
          "metadata": {
            "tags": []
          },
          "execution_count": 109
        }
      ]
    },
    {
      "cell_type": "code",
      "metadata": {
        "id": "PuGI7H85vCG9",
        "colab": {
          "base_uri": "https://localhost:8080/"
        },
        "outputId": "3077107e-0f4a-4241-b83f-4fcbe01f0382"
      },
      "source": [
        "confusion = metrics.confusion_matrix(y_test,y_predicted)\n",
        "TP = confusion[0,0]\n",
        "TN = confusion[1,1]\n",
        "FP = confusion[1,0]\n",
        "FN = confusion[0,1]\n",
        "\n",
        "print('TP :', TP)\n",
        "print('TN :', TN)\n",
        "print('FP :', FP)\n",
        "print('FN :', FN)\n",
        "\n",
        "print('Accuracy :',  metrics.accuracy_score(y_test,y_predicted))\n",
        "print('Specificity :', TN/float(TN+FP))\n",
        "print('FPR :',FP / float(TN+FP))\n",
        "print('Recall :',TP/ float(TP+FN))\n",
        "print('Precision :', TP / float(TP+FP))\n",
        "print('NPV :',TN/float(FN+TN))\n",
        "print('AUC :',roc_auc_score(y_test, y_predicted))\n",
        "\n",
        "#F1_SCORE\n",
        "Recall = TP/ float(TP+FN)\n",
        "#print(Recall)\n",
        "Precision = TP / float(TP+FP)\n",
        "#print(Precision)\n",
        "F1_Score = 2*(Precision*Recall)/ float(Precision+Recall)\n",
        "print('F1_SCORE :',F1_Score)"
      ],
      "execution_count": 110,
      "outputs": [
        {
          "output_type": "stream",
          "text": [
            "TP : 14668\n",
            "TN : 1371\n",
            "FP : 698\n",
            "FN : 9170\n",
            "Accuracy : 0.6190990851893311\n",
            "Specificity : 0.6626389560173997\n",
            "FPR : 0.3373610439826003\n",
            "Recall : 0.6153200771876836\n",
            "Precision : 0.9545750357933099\n",
            "NPV : 0.13006356133194194\n",
            "AUC : 0.6389795166025416\n",
            "F1_SCORE : 0.7482909907152332\n"
          ],
          "name": "stdout"
        }
      ]
    },
    {
      "cell_type": "code",
      "metadata": {
        "id": "v10j4m4YuV05"
      },
      "source": [
        "#print(classification_report(y_test,y_predicted))\n",
        "#print(accuracy_score(y_test, y_predicted))"
      ],
      "execution_count": 111,
      "outputs": []
    },
    {
      "cell_type": "code",
      "metadata": {
        "id": "-qUUV2bJujcB",
        "colab": {
          "base_uri": "https://localhost:8080/",
          "height": 301
        },
        "outputId": "fbbb9f3c-7347-4f38-dc9e-b3a1b7cc3fac"
      },
      "source": [
        "# ROC Curve\n",
        "fpr, tpr, threshold = metrics.roc_curve(y_test, y_predicted)\n",
        "roc_auc = metrics.auc(fpr, tpr)\n",
        "\n",
        "plt.title('Receiver Operating Characteristic')\n",
        "plt.plot(fpr, tpr, 'b', label = 'AUC = %0.2f' % roc_auc)\n",
        "plt.legend(loc = 'lower right')\n",
        "plt.plot([0, 1], [0, 1],'r--')\n",
        "plt.xlim([0, 1])\n",
        "plt.ylim([0, 1])\n",
        "plt.ylabel('True Positive Rate')\n",
        "plt.xlabel('False Positive Rate')\n",
        "plt.show()"
      ],
      "execution_count": 112,
      "outputs": [
        {
          "output_type": "display_data",
          "data": {
            "image/png": "[encoded data removed]",
            "text/plain": [
              "<Figure size 432x288 with 1 Axes>"
            ]
          },
          "metadata": {
            "tags": []
          }
        }
      ]
    },
    {
      "cell_type": "code",
      "metadata": {
        "id": "phhX07iWamYe"
      },
      "source": [
        "#from sklearn.model_selection import GridSearchCV \n",
        "#grid_param = {\n",
        "#    'n_estimators': [50,100, 150],\n",
        "#    'criterion': ['gini', 'entropy'],\n",
        "#    'bootstrap': [True, False]\n",
        "#}\n",
        "#gd_sr = GridSearchCV(estimator= model,\n",
        "#                     param_grid=grid_param,\n",
        "#                     scoring='accuracy',\n",
        "#                     cv=5,\n",
        "#                     n_jobs=-1)\n",
        "#gd_sr.fit(x_train, y_train)\n",
        "#best_parameters = gd_sr.best_params_\n",
        "#print(best_parameters)\n",
        "#Random Forest model \"ODOMETER\",\"AGE\"\n",
        "#model= RandomForestClassifier(n_estimators=50,bootstrap= True, criterion='entropy')\n",
        "# Train the model on training data\n",
        "#model.fit(X_resampled,y_resampled)\n"
      ],
      "execution_count": null,
      "outputs": []
    },
    {
      "cell_type": "code",
      "metadata": {
        "id": "AtPOB30Rlpt0"
      },
      "source": [
        "#from sklearn.model_selection import RandomizedSearchCV\n",
        "#from sklearn import datasets\n",
        "#from sklearn.ensemble import RandomForestClassifier\n",
        "#from scipy.stats import uniform, truncnorm, randint\n",
        "\n",
        "#Random Forest model \"ODOMETER\",\"AGE\"\n",
        "#model= RandomForestClassifier(n_estimators=100,bootstrap = True, criterion = 'gini')\n",
        "#from sklearn.model_selection import cross_val_score\n",
        "\n",
        "#Random Forest model \"ODOMETER\",\"AGE\"\n",
        "#RF= RandomForestClassifier(n_estimators=187,random_state = 42,criterion='gini',max_features= 0.286,min_samples_split= 0.153)\n",
        "\n",
        "\n",
        "# Train the model on training data\n",
        "#model.fit(X_resampled,y_resampled)2\n",
        "#RF.fit(x_train, y_train )"
      ],
      "execution_count": null,
      "outputs": []
    },
    {
      "cell_type": "code",
      "metadata": {
        "id": "ZvoDVrZhlwoG"
      },
      "source": [
        "#model_params = {\n",
        "    # randomly sample numbers from 4 to 204 estimators\n",
        "    #'n_estimators': randint(50,200),\n",
        "    # normally distributed max_features, with mean .25 stddev 0.1, bounded between 0 and 1\n",
        "    #'max_features': truncnorm(a=0, b=1, loc=0.25, scale=0.1),\n",
        "    # uniform distribution from 0.01 to 0.2 (0.01 + 0.199)\n",
        "    #'min_samples_split': uniform(0.01, 0.199)\n",
        "#}"
      ],
      "execution_count": null,
      "outputs": []
    },
    {
      "cell_type": "code",
      "metadata": {
        "id": "pSXqGdcol2Zc"
      },
      "source": [
        "#create random forest classifier model\n",
        "#rf_model = RandomForestClassifier()\n",
        "\n",
        "# set up random search meta-estimator\n",
        "# this will train 100 models over 5 folds of cross validation (500 models total)\n",
        "#clf = RandomizedSearchCV(RF, model_params, n_iter=100, cv=5, random_state=1)\n",
        "\n",
        "# train the random search meta-estimator to find the best model out of 100 candidates\n",
        "model = clf.fit(x_train, y_train)\n",
        "\n",
        "# print winning set of hyperparameters\n",
        "#from pprint import pprint\n",
        "#pprint(model.best_estimator_.get_params())"
      ],
      "execution_count": null,
      "outputs": []
    },
    {
      "cell_type": "markdown",
      "metadata": {
        "id": "6Jz8VVQHgwm8"
      },
      "source": [
        "# Model - Decision Tree"
      ]
    },
    {
      "cell_type": "code",
      "metadata": {
        "id": "dMSnWBI8foZn",
        "colab": {
          "base_uri": "https://localhost:8080/"
        },
        "outputId": "6e40baab-7ddf-424e-e416-bb8869e0e5f9"
      },
      "source": [
        "#DecisionTreeClassifier \"ODOMETER\",\"AGE\",\"ENGINE_SIZE\"\n",
        "clf = DecisionTreeClassifier(random_state=42)\n",
        "# Train the model\n",
        "clf.fit(X_resampled,y_resampled)\n",
        "clf.score(x_test,y_test)#accuracy"
      ],
      "execution_count": null,
      "outputs": [
        {
          "output_type": "execute_result",
          "data": {
            "text/plain": [
              "0.8674664052136801"
            ]
          },
          "metadata": {
            "tags": []
          },
          "execution_count": 64
        }
      ]
    },
    {
      "cell_type": "code",
      "metadata": {
        "id": "b176xqHhywjp",
        "colab": {
          "base_uri": "https://localhost:8080/"
        },
        "outputId": "bdbde84e-a906-41ce-ccf4-d6dd39a40044"
      },
      "source": [
        "y_predicted= clf.predict(x_test)\n",
        "#confusion matrix\n",
        "cm= confusion_matrix(y_test,y_predicted)\n",
        "cm"
      ],
      "execution_count": null,
      "outputs": [
        {
          "output_type": "execute_result",
          "data": {
            "text/plain": [
              "array([[29701,  2480],\n",
              "       [ 2116,   381]])"
            ]
          },
          "metadata": {
            "tags": []
          },
          "execution_count": 65
        }
      ]
    },
    {
      "cell_type": "code",
      "metadata": {
        "id": "m95Gl-gBy3r7",
        "colab": {
          "base_uri": "https://localhost:8080/"
        },
        "outputId": "0725e528-f011-4403-c93f-7c7a58385aed"
      },
      "source": [
        "print(classification_report(y_test,y_predicted))\n",
        "print(accuracy_score(y_test, y_predicted))"
      ],
      "execution_count": null,
      "outputs": [
        {
          "output_type": "stream",
          "text": [
            "              precision    recall  f1-score   support\n",
            "\n",
            "           0       0.93      0.92      0.93     32181\n",
            "           1       0.13      0.15      0.14      2497\n",
            "\n",
            "    accuracy                           0.87     34678\n",
            "   macro avg       0.53      0.54      0.54     34678\n",
            "weighted avg       0.88      0.87      0.87     34678\n",
            "\n",
            "0.8674664052136801\n"
          ],
          "name": "stdout"
        }
      ]
    },
    {
      "cell_type": "code",
      "metadata": {
        "id": "yYfVaPCOy4tf",
        "colab": {
          "base_uri": "https://localhost:8080/"
        },
        "outputId": "d2f2c247-5620-4062-b463-c935b615a60e"
      },
      "source": [
        "# AUC Score\n",
        "roc_auc_score(y_test, y_predicted)"
      ],
      "execution_count": null,
      "outputs": [
        {
          "output_type": "execute_result",
          "data": {
            "text/plain": [
              "0.5377594967850361"
            ]
          },
          "metadata": {
            "tags": []
          },
          "execution_count": 67
        }
      ]
    },
    {
      "cell_type": "code",
      "metadata": {
        "id": "Jlx-EdOyy8CL",
        "colab": {
          "base_uri": "https://localhost:8080/",
          "height": 295
        },
        "outputId": "2e997c3c-6099-4b27-ae2b-fd456323e374"
      },
      "source": [
        "# ROC Curve\n",
        "fpr, tpr, threshold = metrics.roc_curve(y_test, y_predicted)\n",
        "roc_auc = metrics.auc(fpr, tpr)\n",
        "\n",
        "plt.title('Receiver Operating Characteristic')\n",
        "plt.plot(fpr, tpr, 'b', label = 'AUC = %0.2f' % roc_auc)\n",
        "plt.legend(loc = 'lower right')\n",
        "plt.plot([0, 1], [0, 1],'r--')\n",
        "plt.xlim([0, 1])\n",
        "plt.ylim([0, 1])\n",
        "plt.ylabel('True Positive Rate')\n",
        "plt.xlabel('False Positive Rate')\n",
        "plt.show()"
      ],
      "execution_count": null,
      "outputs": [
        {
          "output_type": "display_data",
          "data": {
            "image/png": "[encoded data removed]",
            "text/plain": [
              "<Figure size 432x288 with 1 Axes>"
            ]
          },
          "metadata": {
            "tags": []
          }
        }
      ]
    },
    {
      "cell_type": "code",
      "metadata": {
        "id": "JU_7RRkeFyqU"
      },
      "source": [
        "#heatmap for confusion matrix\n",
        "#plt.figure(figsize=(10,7))\n",
        "#sns.heatmap(cm,annot=True)\n",
        "#plt.xlabel(\"Predicted\")\n",
        "#plt.ylabel(\"Truth\")"
      ],
      "execution_count": null,
      "outputs": []
    },
    {
      "cell_type": "markdown",
      "metadata": {
        "id": "jI84pTc0E8D-"
      },
      "source": [
        "# Logistic Regression"
      ]
    },
    {
      "cell_type": "code",
      "metadata": {
        "id": "yhD9fq3bNihi"
      },
      "source": [
        "from sklearn.model_selection import GridSearchCV\n",
        "from sklearn.linear_model import LogisticRegression\n",
        "from sklearn.metrics import confusion_matrix, precision_recall_curve, auc, roc_auc_score, roc_curve, recall_score, classification_report\n",
        "\n",
        "parameters = {\n",
        "    'C': np.linspace(1, 10, 10)\n",
        "             }\n",
        "lr = LogisticRegression()\n",
        "clf = GridSearchCV(lr, parameters, cv=5, verbose=5, n_jobs=3)\n",
        "clf.fit(X_resampled, y_resampled)\n"
      ],
      "execution_count": null,
      "outputs": []
    },
    {
      "cell_type": "code",
      "metadata": {
        "id": "9RSfzKQ6N2iV",
        "colab": {
          "base_uri": "https://localhost:8080/"
        },
        "outputId": "d7e377c2-d3a0-49c2-e6a5-818cc766c26e"
      },
      "source": [
        "clf.best_params_"
      ],
      "execution_count": null,
      "outputs": [
        {
          "output_type": "execute_result",
          "data": {
            "text/plain": [
              "{'C': 1.0}"
            ]
          },
          "metadata": {
            "tags": []
          },
          "execution_count": 67
        }
      ]
    },
    {
      "cell_type": "code",
      "metadata": {
        "id": "wZ9SL4qh6R9y"
      },
      "source": [
        "#Vincent code\n",
        "from sklearn.model_selection import GridSearchCV\n",
        "from sklearn.linear_model import LogisticRegression\n",
        "from sklearn.metrics import confusion_matrix, precision_recall_curve, auc, roc_auc_score, roc_curve, recall_score\n",
        "\n",
        "parameters = {'penalty': ['l1','l2'], 'C': [0.001,0.01,0.1,1,10,100,1000]}\n",
        "lr = LogisticRegression()\n",
        "clf = GridSearchCV(lr, parameters, cv=5, verbose=5, n_jobs=3)\n",
        "clf.fit(X_resampled, y_resampled.ravel())"
      ],
      "execution_count": null,
      "outputs": []
    },
    {
      "cell_type": "code",
      "metadata": {
        "colab": {
          "base_uri": "https://localhost:8080/"
        },
        "id": "L5K6kfjH6or4",
        "outputId": "41322ed2-d9c0-4f1d-d473-9bd6a47eb830"
      },
      "source": [
        "clf.best_params_"
      ],
      "execution_count": null,
      "outputs": [
        {
          "output_type": "execute_result",
          "data": {
            "text/plain": [
              "{'C': 10, 'penalty': 'l2'}"
            ]
          },
          "metadata": {
            "tags": []
          },
          "execution_count": 105
        }
      ]
    },
    {
      "cell_type": "code",
      "metadata": {
        "id": "WzGRuQZwE_N7",
        "colab": {
          "base_uri": "https://localhost:8080/"
        },
        "outputId": "5829473f-71df-4d43-8342-568461854ac3"
      },
      "source": [
        "from sklearn.linear_model import LogisticRegression\n",
        "logreg = LogisticRegression(C = 0.1, penalty= 'l2' ,verbose=5,n_jobs=3,random_state=100)\n",
        "#logreg = LogisticRegression(C=10, verbose=5,n_jobs=3,random_state=100)\n",
        "#logreg = LogisticRegression(C=1.0, class_weight=None, dual=False,\n",
        "                                         # fit_intercept=True,\n",
        "                                         # intercept_scaling=1, l1_ratio=None,\n",
        "                                         # max_iter=100, multi_class='auto',\n",
        "                                          #n_jobs=None, penalty='l2',\n",
        "                                         # random_state=None, solver='lbfgs',\n",
        "                                         # tol=0.0001, verbose=5,\n",
        "                                         # warm_start=False)\n",
        "logreg.fit(X_resampled,y_resampled)\n",
        "#logreg.fit(x_train,y_train)\n",
        "\n",
        "logreg.score(x_test,y_test)#accuracy"
      ],
      "execution_count": null,
      "outputs": [
        {
          "output_type": "stream",
          "text": [
            "[Parallel(n_jobs=3)]: Using backend LokyBackend with 3 concurrent workers.\n",
            "[Parallel(n_jobs=3)]: Done   1 out of   1 | elapsed: 20.7min finished\n"
          ],
          "name": "stderr"
        },
        {
          "output_type": "execute_result",
          "data": {
            "text/plain": [
              "0.6500173698228278"
            ]
          },
          "metadata": {
            "tags": []
          },
          "execution_count": 70
        }
      ]
    },
    {
      "cell_type": "code",
      "metadata": {
        "colab": {
          "base_uri": "https://localhost:8080/"
        },
        "id": "NbNSeYDIUI9a",
        "outputId": "5d4c00ed-098d-40cc-b040-320d644a1e01"
      },
      "source": [
        "print(logreg.coef_)  "
      ],
      "execution_count": null,
      "outputs": [
        {
          "output_type": "stream",
          "text": [
            "[[ 0.46353248  0.02665676 -0.37406911 ...  0.328182   -0.08624923\n",
            "  -0.20914926]]\n"
          ],
          "name": "stdout"
        }
      ]
    },
    {
      "cell_type": "code",
      "metadata": {
        "colab": {
          "base_uri": "https://localhost:8080/"
        },
        "id": "e8_L-NmvUKwK",
        "outputId": "5c67ea21-9471-47ed-ddf1-88c16f898c20"
      },
      "source": [
        "print(logreg.intercept_)"
      ],
      "execution_count": null,
      "outputs": [
        {
          "output_type": "stream",
          "text": [
            "[-0.23834061]\n"
          ],
          "name": "stdout"
        }
      ]
    },
    {
      "cell_type": "code",
      "metadata": {
        "id": "a69Z8VGXFfcD",
        "colab": {
          "base_uri": "https://localhost:8080/"
        },
        "outputId": "2f4d1cb3-bf0c-4481-c806-53e102165c33"
      },
      "source": [
        "y_predicted= logreg.predict(x_test)\n",
        "#confusion matrix\n",
        "lm= confusion_matrix(y_test,y_predicted)\n",
        "lm"
      ],
      "execution_count": null,
      "outputs": [
        {
          "output_type": "execute_result",
          "data": {
            "text/plain": [
              "array([[15437,  8401],\n",
              "       [  666,  1403]])"
            ]
          },
          "metadata": {
            "tags": []
          },
          "execution_count": 72
        }
      ]
    },
    {
      "cell_type": "code",
      "metadata": {
        "colab": {
          "base_uri": "https://localhost:8080/",
          "height": 229
        },
        "id": "RqcBMjiMG8QR",
        "outputId": "b99f077b-5fb8-4ef5-cbd8-7f971549f813"
      },
      "source": [
        "pred_proba_df = pd.DataFrame(clf.predict_proba(x_test))\n",
        "threshold_list = [0.05,0.1,0.15,0.2,0.25,0.3,0.35,0.4,0.45,0.5,0.55,0.6,0.65,.7,.75,.8,.85,.9,.95,.99]\n",
        "for i in threshold_list:\n",
        "    print ('\\n**** For i = {} **'.format(i))\n",
        "    Y_test_pred = pred_proba_df.applymap(lambda x: 1 if x>i else 0)\n",
        "    test_accuracy = metrics.accuracy_score(y_test.to_numpy().reshape(y_test.to_numpy().size,1),\n",
        "                                           Y_test_pred.iloc[:,1].to_numpy().reshape(Y_test_pred.iloc[:,1].to_numpy().size,1))\n",
        "    print('Our testing accuracy is {}'.format(test_accuracy))\n",
        "\n",
        "    print(confusion_matrix(y_test.to_numpy().reshape(y_test.to_numpy().size,1),\n",
        "                           Y_test_pred.iloc[:,1].to_numpy().reshape(Y_test_pred.iloc[:,1].to_numpy().size,1)))"
      ],
      "execution_count": null,
      "outputs": [
        {
          "output_type": "error",
          "ename": "NameError",
          "evalue": "ignored",
          "traceback": [
            "\u001b[0;31m---------------------------------------------------------------------------\u001b[0m",
            "\u001b[0;31mNameError\u001b[0m                                 Traceback (most recent call last)",
            "\u001b[0;32m<ipython-input-73-4eaa41f2b15e>\u001b[0m in \u001b[0;36m<module>\u001b[0;34m()\u001b[0m\n\u001b[0;32m----> 1\u001b[0;31m \u001b[0mpred_proba_df\u001b[0m \u001b[0;34m=\u001b[0m \u001b[0mpd\u001b[0m\u001b[0;34m.\u001b[0m\u001b[0mDataFrame\u001b[0m\u001b[0;34m(\u001b[0m\u001b[0mclf\u001b[0m\u001b[0;34m.\u001b[0m\u001b[0mpredict_proba\u001b[0m\u001b[0;34m(\u001b[0m\u001b[0mx_test\u001b[0m\u001b[0;34m)\u001b[0m\u001b[0;34m)\u001b[0m\u001b[0;34m\u001b[0m\u001b[0;34m\u001b[0m\u001b[0m\n\u001b[0m\u001b[1;32m      2\u001b[0m \u001b[0mthreshold_list\u001b[0m \u001b[0;34m=\u001b[0m \u001b[0;34m[\u001b[0m\u001b[0;36m0.05\u001b[0m\u001b[0;34m,\u001b[0m\u001b[0;36m0.1\u001b[0m\u001b[0;34m,\u001b[0m\u001b[0;36m0.15\u001b[0m\u001b[0;34m,\u001b[0m\u001b[0;36m0.2\u001b[0m\u001b[0;34m,\u001b[0m\u001b[0;36m0.25\u001b[0m\u001b[0;34m,\u001b[0m\u001b[0;36m0.3\u001b[0m\u001b[0;34m,\u001b[0m\u001b[0;36m0.35\u001b[0m\u001b[0;34m,\u001b[0m\u001b[0;36m0.4\u001b[0m\u001b[0;34m,\u001b[0m\u001b[0;36m0.45\u001b[0m\u001b[0;34m,\u001b[0m\u001b[0;36m0.5\u001b[0m\u001b[0;34m,\u001b[0m\u001b[0;36m0.55\u001b[0m\u001b[0;34m,\u001b[0m\u001b[0;36m0.6\u001b[0m\u001b[0;34m,\u001b[0m\u001b[0;36m0.65\u001b[0m\u001b[0;34m,\u001b[0m\u001b[0;36m.7\u001b[0m\u001b[0;34m,\u001b[0m\u001b[0;36m.75\u001b[0m\u001b[0;34m,\u001b[0m\u001b[0;36m.8\u001b[0m\u001b[0;34m,\u001b[0m\u001b[0;36m.85\u001b[0m\u001b[0;34m,\u001b[0m\u001b[0;36m.9\u001b[0m\u001b[0;34m,\u001b[0m\u001b[0;36m.95\u001b[0m\u001b[0;34m,\u001b[0m\u001b[0;36m.99\u001b[0m\u001b[0;34m]\u001b[0m\u001b[0;34m\u001b[0m\u001b[0;34m\u001b[0m\u001b[0m\n\u001b[1;32m      3\u001b[0m \u001b[0;32mfor\u001b[0m \u001b[0mi\u001b[0m \u001b[0;32min\u001b[0m \u001b[0mthreshold_list\u001b[0m\u001b[0;34m:\u001b[0m\u001b[0;34m\u001b[0m\u001b[0;34m\u001b[0m\u001b[0m\n\u001b[1;32m      4\u001b[0m     \u001b[0mprint\u001b[0m \u001b[0;34m(\u001b[0m\u001b[0;34m'\\n**** For i = {} **'\u001b[0m\u001b[0;34m.\u001b[0m\u001b[0mformat\u001b[0m\u001b[0;34m(\u001b[0m\u001b[0mi\u001b[0m\u001b[0;34m)\u001b[0m\u001b[0;34m)\u001b[0m\u001b[0;34m\u001b[0m\u001b[0;34m\u001b[0m\u001b[0m\n\u001b[1;32m      5\u001b[0m     \u001b[0mY_test_pred\u001b[0m \u001b[0;34m=\u001b[0m \u001b[0mpred_proba_df\u001b[0m\u001b[0;34m.\u001b[0m\u001b[0mapplymap\u001b[0m\u001b[0;34m(\u001b[0m\u001b[0;32mlambda\u001b[0m \u001b[0mx\u001b[0m\u001b[0;34m:\u001b[0m \u001b[0;36m1\u001b[0m \u001b[0;32mif\u001b[0m \u001b[0mx\u001b[0m\u001b[0;34m>\u001b[0m\u001b[0mi\u001b[0m \u001b[0;32melse\u001b[0m \u001b[0;36m0\u001b[0m\u001b[0;34m)\u001b[0m\u001b[0;34m\u001b[0m\u001b[0;34m\u001b[0m\u001b[0m\n",
            "\u001b[0;31mNameError\u001b[0m: name 'clf' is not defined"
          ]
        }
      ]
    },
    {
      "cell_type": "code",
      "metadata": {
        "id": "4hsu88oEFflz"
      },
      "source": [
        "#print(classification_report(y_test,y_predicted))\n",
        "#print(accuracy_score(y_test, y_predicted))"
      ],
      "execution_count": null,
      "outputs": []
    },
    {
      "cell_type": "code",
      "metadata": {
        "id": "CvTQSjorALQj",
        "colab": {
          "base_uri": "https://localhost:8080/"
        },
        "outputId": "ca7fe9ed-02fd-4bdb-ba9c-03d45e269a46"
      },
      "source": [
        "confusion = metrics.confusion_matrix(y_test,y_predicted)\n",
        "TP = confusion[0,0]\n",
        "TN = confusion[1,1]\n",
        "FP = confusion[1,0]\n",
        "FN = confusion[0,1]\n",
        "\n",
        "print('TP :', TP)\n",
        "print('TN :', TN)\n",
        "print('FP :', FP)\n",
        "print('FN :', FN)\n",
        "\n",
        "print('Accuracy :',  metrics.accuracy_score(y_test,y_predicted))\n",
        "print('Specificity :', TN/float(TN+FP))\n",
        "print('FPR :',FP / float(TN+FP))\n",
        "print('Recall :',TP/ float(TP+FN))\n",
        "print('Precision :', TP / float(TP+FP))\n",
        "print('NPV :',TN/float(FN+TN))\n",
        "print('AUC :',roc_auc_score(y_test, y_predicted))\n",
        "\n",
        "#F1_SCORE\n",
        "Recall = TP/ float(TP+FN)\n",
        "#print(Recall)\n",
        "Precision = TP / float(TP+FP)\n",
        "#print(Precision)\n",
        "F1_Score = 2*(Precision*Recall)/ float(Precision+Recall)\n",
        "print('F1_SCORE :',F1_Score)"
      ],
      "execution_count": null,
      "outputs": [
        {
          "output_type": "stream",
          "text": [
            "TP : 15437\n",
            "TN : 1403\n",
            "FP : 666\n",
            "FN : 8401\n",
            "Accuracy : 0.6500173698228278\n",
            "Specificity : 0.6781053649105848\n",
            "FPR : 0.3218946350894152\n",
            "Recall : 0.6475794949240709\n",
            "Precision : 0.9586412469726138\n",
            "NPV : 0.1431048551611587\n",
            "AUC : 0.6628424299173278\n",
            "F1_SCORE : 0.772990160486718\n"
          ],
          "name": "stdout"
        }
      ]
    },
    {
      "cell_type": "code",
      "metadata": {
        "id": "X2EDof0-AUsX",
        "colab": {
          "base_uri": "https://localhost:8080/",
          "height": 301
        },
        "outputId": "e8f25e2a-5f80-4471-86be-420695559883"
      },
      "source": [
        "# ROC Curve\n",
        "fpr, tpr, threshold = metrics.roc_curve(y_test, y_predicted)\n",
        "roc_auc = metrics.auc(fpr, tpr)\n",
        "\n",
        "plt.title('Receiver Operating Characteristic')\n",
        "plt.plot(fpr, tpr, 'b', label = 'AUC = %0.2f' % roc_auc)\n",
        "plt.legend(loc = 'lower right')\n",
        "plt.plot([0, 1], [0, 1],'r--')\n",
        "plt.xlim([0, 1])\n",
        "plt.ylim([0, 1])\n",
        "plt.ylabel('True Positive Rate')\n",
        "plt.xlabel('False Positive Rate')\n",
        "plt.show()"
      ],
      "execution_count": null,
      "outputs": [
        {
          "output_type": "display_data",
          "data": {
            "image/png": "[encoded data removed]",
            "text/plain": [
              "<Figure size 432x288 with 1 Axes>"
            ]
          },
          "metadata": {
            "tags": []
          }
        }
      ]
    },
    {
      "cell_type": "code",
      "metadata": {
        "id": "G_njjZbFFfNs",
        "colab": {
          "base_uri": "https://localhost:8080/"
        },
        "outputId": "d8decdc4-bcad-4fb1-afc7-9fe4d5f2d1b7"
      },
      "source": [
        "# AUC Score\n",
        "roc_auc_score(y_test, y_predicted)"
      ],
      "execution_count": null,
      "outputs": [
        {
          "output_type": "execute_result",
          "data": {
            "text/plain": [
              "0.5996878580025813"
            ]
          },
          "metadata": {
            "tags": []
          },
          "execution_count": 233
        }
      ]
    },
    {
      "cell_type": "code",
      "metadata": {
        "id": "uqhLevRTFrA7"
      },
      "source": [
        "tmp = logreg.fit(X_resampled,y_resampled.ravel())"
      ],
      "execution_count": null,
      "outputs": []
    },
    {
      "cell_type": "code",
      "metadata": {
        "id": "IP4ixPRH3rwH"
      },
      "source": [
        "y_pred_sample_score = tmp.decision_function(x_test)\n",
        "\n",
        "\n",
        "fpr, tpr, thresholds = roc_curve(y_test, y_pred_sample_score)\n",
        "\n",
        "roc_auc = auc(fpr,tpr)\n",
        "\n",
        "# Plot ROC\n",
        "plt.title('Receiver Operating Characteristic')\n",
        "plt.plot(fpr, tpr, 'b',label='AUC = %0.3f'% roc_auc)\n",
        "plt.legend(loc='lower right')\n",
        "plt.plot([0,1],[0,1],'r--')\n",
        "plt.xlim([-0.1,1.0])\n",
        "plt.ylim([-0.1,1.01])\n",
        "plt.ylabel('True Positive Rate')\n",
        "plt.xlabel('False Positive Rate')\n",
        "plt.show()"
      ],
      "execution_count": null,
      "outputs": []
    }
  ]
}